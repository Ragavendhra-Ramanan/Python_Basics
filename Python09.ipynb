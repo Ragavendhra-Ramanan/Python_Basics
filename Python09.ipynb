{
  "nbformat": 4,
  "nbformat_minor": 0,
  "metadata": {
    "colab": {
      "provenance": [],
      "authorship_tag": "ABX9TyMjzmewum/b6pGCvD22Mayu",
      "include_colab_link": true
    },
    "kernelspec": {
      "name": "python3",
      "display_name": "Python 3"
    },
    "language_info": {
      "name": "python"
    }
  },
  "cells": [
    {
      "cell_type": "markdown",
      "metadata": {
        "id": "view-in-github",
        "colab_type": "text"
      },
      "source": [
        "<a href=\"https://colab.research.google.com/github/Ragavendhra-Ramanan/Python_Basics/blob/main/Python09.ipynb\" target=\"_parent\"><img src=\"https://colab.research.google.com/assets/colab-badge.svg\" alt=\"Open In Colab\"/></a>"
      ]
    },
    {
      "cell_type": "markdown",
      "source": [
        "01 .To what does a relative path refer?"
      ],
      "metadata": {
        "id": "gltwlel21Eta"
      }
    },
    {
      "cell_type": "markdown",
      "source": [
        "* Relative path refers to the path to destination directory from our working directory"
      ],
      "metadata": {
        "id": "czwv_5rl1iJt"
      }
    },
    {
      "cell_type": "markdown",
      "source": [
        "02 .What does an absolute path start with your operating system?"
      ],
      "metadata": {
        "id": "3zwe0QQI1qjK"
      }
    },
    {
      "cell_type": "markdown",
      "source": [
        "* Absolute path starts with home directory"
      ],
      "metadata": {
        "id": "3ndxQAMl1yuG"
      }
    },
    {
      "cell_type": "markdown",
      "source": [
        "03 .What do the functions os.getcwd() and os.chdir() do?"
      ],
      "metadata": {
        "id": "dd0XO6pd11ri"
      }
    },
    {
      "cell_type": "markdown",
      "source": [
        "* os.getcwd() gets current working directory\n",
        "* os.chdir() change our directory"
      ],
      "metadata": {
        "id": "4Lmd-AUt14Ca"
      }
    },
    {
      "cell_type": "markdown",
      "source": [
        "04 .What are the . and .. folders?\n",
        "* '.' refers current working directory\n",
        "* '..' refers parent directory"
      ],
      "metadata": {
        "id": "CY0Z7EmT2AuD"
      }
    },
    {
      "cell_type": "markdown",
      "source": [
        "05 .In C:\\bacon\\eggs\\spam.txt, which part is the dir name, and which part is the base name? "
      ],
      "metadata": {
        "id": "zgZUzRTC2KaU"
      }
    },
    {
      "cell_type": "markdown",
      "source": [
        "* C:\\bacon\\eggs directory name\n",
        "* spam.txt base name"
      ],
      "metadata": {
        "id": "pScTSSQJ2Uej"
      }
    },
    {
      "cell_type": "markdown",
      "source": [
        "06 .What are the three “mode” arguments that can be passed to the open() function?\n",
        "\n",
        "* 'r' -read only\n",
        "* 'w' -read and write\n",
        "* 'a' -append"
      ],
      "metadata": {
        "id": "jzh_EXpu2XZW"
      }
    },
    {
      "cell_type": "markdown",
      "source": [
        "07 .What happens if an existing file is opened in write mode?"
      ],
      "metadata": {
        "id": "OEEp8eJ72uOV"
      }
    },
    {
      "cell_type": "markdown",
      "source": [
        "* The existing file will be overwritten"
      ],
      "metadata": {
        "id": "yw3CFuDm253j"
      }
    },
    {
      "cell_type": "markdown",
      "source": [
        "08 .How do you tell the difference between read() and readlines()? "
      ],
      "metadata": {
        "id": "gq1ww1Me29nq"
      }
    },
    {
      "cell_type": "markdown",
      "source": [
        "* read() -reads whole file to a single string\n",
        "* readlines() -reads all the lines in file to string of lists"
      ],
      "metadata": {
        "id": "Gp4dh8y53B3m"
      }
    },
    {
      "cell_type": "markdown",
      "source": [
        "09 .What data structure does a shelf value resemble?"
      ],
      "metadata": {
        "id": "J8LJ7RTV3jdY"
      }
    },
    {
      "cell_type": "markdown",
      "source": [
        "* dictionary with keys and values.\n",
        "* used to read files when rdbms not required and clean storage is recommended"
      ],
      "metadata": {
        "id": "CAcq_qfT4Ylf"
      }
    },
    {
      "cell_type": "code",
      "execution_count": null,
      "metadata": {
        "id": "c3vY_6iD07Px"
      },
      "outputs": [],
      "source": []
    }
  ]
}