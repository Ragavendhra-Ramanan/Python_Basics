{
  "nbformat": 4,
  "nbformat_minor": 0,
  "metadata": {
    "colab": {
      "provenance": [],
      "authorship_tag": "ABX9TyPlsi8M7/ch0IjTczX+zeTy",
      "include_colab_link": true
    },
    "kernelspec": {
      "name": "python3",
      "display_name": "Python 3"
    },
    "language_info": {
      "name": "python"
    }
  },
  "cells": [
    {
      "cell_type": "markdown",
      "metadata": {
        "id": "view-in-github",
        "colab_type": "text"
      },
      "source": [
        "<a href=\"https://colab.research.google.com/github/Ragavendhra-Ramanan/Python_Basics/blob/main/Python11.ipynb\" target=\"_parent\"><img src=\"https://colab.research.google.com/assets/colab-badge.svg\" alt=\"Open In Colab\"/></a>"
      ]
    },
    {
      "cell_type": "markdown",
      "source": [
        "01 . Create an assert statement that throws an AssertionError if the variable spam is a negative\n",
        "integer."
      ],
      "metadata": {
        "id": "I0F5wsN9Kduc"
      }
    },
    {
      "cell_type": "code",
      "execution_count": null,
      "metadata": {
        "colab": {
          "base_uri": "https://localhost:8080/",
          "height": 183
        },
        "id": "BZjAqVTGKQ6q",
        "outputId": "870a4383-7bd4-4b9d-9adc-06997b92a865"
      },
      "outputs": [
        {
          "output_type": "error",
          "ename": "AssertionError",
          "evalue": "ignored",
          "traceback": [
            "\u001b[0;31m---------------------------------------------------------------------------\u001b[0m",
            "\u001b[0;31mAssertionError\u001b[0m                            Traceback (most recent call last)",
            "\u001b[0;32m<ipython-input-2-f53f9bfd8bd8>\u001b[0m in \u001b[0;36m<module>\u001b[0;34m\u001b[0m\n\u001b[1;32m      1\u001b[0m \u001b[0mspam\u001b[0m\u001b[0;34m=\u001b[0m\u001b[0;34m-\u001b[0m\u001b[0;36m9\u001b[0m\u001b[0;34m\u001b[0m\u001b[0;34m\u001b[0m\u001b[0m\n\u001b[0;32m----> 2\u001b[0;31m \u001b[0;32massert\u001b[0m \u001b[0mspam\u001b[0m\u001b[0;34m>\u001b[0m\u001b[0;36m0\u001b[0m \u001b[0;34m,\u001b[0m\u001b[0;34m\"Spam is negative\"\u001b[0m\u001b[0;34m\u001b[0m\u001b[0;34m\u001b[0m\u001b[0m\n\u001b[0m",
            "\u001b[0;31mAssertionError\u001b[0m: Spam is negative"
          ]
        }
      ],
      "source": [
        "spam=-9\n",
        "assert spam>0 ,\"Spam is negative\""
      ]
    },
    {
      "cell_type": "markdown",
      "source": [
        "02 .Write an assert statement that triggers an AssertionError if the variables eggs and bacon contain\n",
        "strings that are the same as each other, even if their cases are different (that is, &#39;hello&#39; and &#39;hello&#39; are\n",
        "considered the same, and &#39;goodbye&#39; and &#39;GOODbye&#39; are also considered the same)."
      ],
      "metadata": {
        "id": "pY7Gq2NGLRDG"
      }
    },
    {
      "cell_type": "code",
      "source": [
        "eggs=input().lower()\n",
        "bacon=input().lower()\n",
        "assert eggs!=bacon ,\"the variables should not be same\""
      ],
      "metadata": {
        "colab": {
          "base_uri": "https://localhost:8080/",
          "height": 235
        },
        "id": "I9CBoK3sLFvE",
        "outputId": "137fd08b-2bd0-46e3-c1a1-c0b1d8dcc5b5"
      },
      "execution_count": null,
      "outputs": [
        {
          "name": "stdout",
          "output_type": "stream",
          "text": [
            "hello\n",
            "Hello\n"
          ]
        },
        {
          "output_type": "error",
          "ename": "AssertionError",
          "evalue": "ignored",
          "traceback": [
            "\u001b[0;31m---------------------------------------------------------------------------\u001b[0m",
            "\u001b[0;31mAssertionError\u001b[0m                            Traceback (most recent call last)",
            "\u001b[0;32m<ipython-input-3-78ad7cfd3736>\u001b[0m in \u001b[0;36m<module>\u001b[0;34m\u001b[0m\n\u001b[1;32m      1\u001b[0m \u001b[0meggs\u001b[0m\u001b[0;34m=\u001b[0m\u001b[0minput\u001b[0m\u001b[0;34m(\u001b[0m\u001b[0;34m)\u001b[0m\u001b[0;34m.\u001b[0m\u001b[0mlower\u001b[0m\u001b[0;34m(\u001b[0m\u001b[0;34m)\u001b[0m\u001b[0;34m\u001b[0m\u001b[0;34m\u001b[0m\u001b[0m\n\u001b[1;32m      2\u001b[0m \u001b[0mbacon\u001b[0m\u001b[0;34m=\u001b[0m\u001b[0minput\u001b[0m\u001b[0;34m(\u001b[0m\u001b[0;34m)\u001b[0m\u001b[0;34m.\u001b[0m\u001b[0mlower\u001b[0m\u001b[0;34m(\u001b[0m\u001b[0;34m)\u001b[0m\u001b[0;34m\u001b[0m\u001b[0;34m\u001b[0m\u001b[0m\n\u001b[0;32m----> 3\u001b[0;31m \u001b[0;32massert\u001b[0m \u001b[0meggs\u001b[0m\u001b[0;34m!=\u001b[0m\u001b[0mbacon\u001b[0m \u001b[0;34m,\u001b[0m\u001b[0;34m\"the variables should not be same\"\u001b[0m\u001b[0;34m\u001b[0m\u001b[0;34m\u001b[0m\u001b[0m\n\u001b[0m",
            "\u001b[0;31mAssertionError\u001b[0m: the variables should not be same"
          ]
        }
      ]
    },
    {
      "cell_type": "markdown",
      "source": [
        "03 .Create an assert statement that throws an AssertionError every time."
      ],
      "metadata": {
        "id": "IXV_yf5AL7HL"
      }
    },
    {
      "cell_type": "code",
      "source": [
        "assert False ,\"Always throws assert error\""
      ],
      "metadata": {
        "colab": {
          "base_uri": "https://localhost:8080/",
          "height": 165
        },
        "id": "EraApNMxL2ci",
        "outputId": "c6341bcc-2431-4f2a-f2b4-88f27eada223"
      },
      "execution_count": null,
      "outputs": [
        {
          "output_type": "error",
          "ename": "AssertionError",
          "evalue": "ignored",
          "traceback": [
            "\u001b[0;31m---------------------------------------------------------------------------\u001b[0m",
            "\u001b[0;31mAssertionError\u001b[0m                            Traceback (most recent call last)",
            "\u001b[0;32m<ipython-input-4-0aa2b371b41c>\u001b[0m in \u001b[0;36m<module>\u001b[0;34m\u001b[0m\n\u001b[0;32m----> 1\u001b[0;31m \u001b[0;32massert\u001b[0m \u001b[0;32mFalse\u001b[0m \u001b[0;34m,\u001b[0m\u001b[0;34m\"Always throws assert error\"\u001b[0m\u001b[0;34m\u001b[0m\u001b[0;34m\u001b[0m\u001b[0m\n\u001b[0m",
            "\u001b[0;31mAssertionError\u001b[0m: Always throws assert error"
          ]
        }
      ]
    },
    {
      "cell_type": "markdown",
      "source": [
        "04 .What are the two lines that must be present in your software in order to call logging.debug()?"
      ],
      "metadata": {
        "id": "Q4jKir3TMTg_"
      }
    },
    {
      "cell_type": "code",
      "source": [
        "import logging\n",
        "logging.basicConfig(level=logging.DEBUG)"
      ],
      "metadata": {
        "id": "ia4uCpDkMQOA"
      },
      "execution_count": null,
      "outputs": []
    },
    {
      "cell_type": "markdown",
      "source": [
        "05 .What are the two lines that your program must have in order to have logging.debug() send a\n",
        "logging message to a file named programLog.txt?"
      ],
      "metadata": {
        "id": "aB0IBP8EOWVH"
      }
    },
    {
      "cell_type": "code",
      "source": [
        "import logging\n",
        "\n",
        "logging.basicConfig(filename='programLog.txt', level=logging.DEBUG)"
      ],
      "metadata": {
        "id": "qjTcbuLGOUHd"
      },
      "execution_count": null,
      "outputs": []
    },
    {
      "cell_type": "markdown",
      "source": [
        "06 .What are the five levels of logging?"
      ],
      "metadata": {
        "id": "cAZy2f0NQLfH"
      }
    },
    {
      "cell_type": "markdown",
      "source": [
        "* Debug\n",
        "* Info\n",
        "* warning\n",
        "* error\n",
        "* critical"
      ],
      "metadata": {
        "id": "UO1cbc8xQQBp"
      }
    },
    {
      "cell_type": "markdown",
      "source": [
        "07 .What line of code would you add to your software to disable all logging messages?"
      ],
      "metadata": {
        "id": "BqwUiU_SQewd"
      }
    },
    {
      "cell_type": "code",
      "source": [
        "import logging\n",
        "logging.disable(logging.CRITICAL)"
      ],
      "metadata": {
        "id": "E0Vb7b6vQKyh"
      },
      "execution_count": null,
      "outputs": []
    },
    {
      "cell_type": "markdown",
      "source": [
        "08 .Why is using logging messages better than using print() to display the same message?"
      ],
      "metadata": {
        "id": "2UcR4xEkRCwf"
      }
    },
    {
      "cell_type": "markdown",
      "source": [
        "* Logging is used to see when and where the logging call is made.\n",
        "* Logging can have different severity levels\n",
        "* If modules are imported we can manage logs to say where the log is made but in print one cannot understand where it came from"
      ],
      "metadata": {
        "id": "Pggupts2fPzV"
      }
    },
    {
      "cell_type": "markdown",
      "source": [
        "09 .What are the differences between the Step Over, Step In, and Step Out buttons in the debugger?"
      ],
      "metadata": {
        "id": "Z_xGbQ1Lfup0"
      }
    },
    {
      "cell_type": "markdown",
      "source": [
        "* Step over - returns only the function result\n",
        "* Step in -excutes the function call line by line\n",
        "* Step out - skips the rest of function call and returns"
      ],
      "metadata": {
        "id": "QQh3Lt3Yhj3K"
      }
    },
    {
      "cell_type": "markdown",
      "source": [
        "10 .After you click Continue, when will the debugger stop ?"
      ],
      "metadata": {
        "id": "IqBXgmRWiMMn"
      }
    },
    {
      "cell_type": "markdown",
      "source": [
        "* It stops under a breakpoint or when program normally finishes"
      ],
      "metadata": {
        "id": "uP1pFJHQiX-G"
      }
    },
    {
      "cell_type": "markdown",
      "source": [
        "11 .What is the concept of a breakpoint?"
      ],
      "metadata": {
        "id": "pIvss_KXidew"
      }
    },
    {
      "cell_type": "markdown",
      "source": [
        "* It causes debugger to pause .Its set on the line of code"
      ],
      "metadata": {
        "id": "gVgLTUVijAYl"
      }
    }
  ]
}