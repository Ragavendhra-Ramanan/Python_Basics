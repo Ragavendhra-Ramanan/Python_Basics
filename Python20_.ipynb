{
 "cells": [
  {
   "cell_type": "markdown",
   "id": "e6e17e2d",
   "metadata": {},
   "source": [
    "1. Set the variable test1 to the string &#39;This is a test of the emergency text system,&#39; and save test1 to a\n",
    "file named test.txt."
   ]
  },
  {
   "cell_type": "code",
   "execution_count": 1,
   "id": "32c0af89",
   "metadata": {},
   "outputs": [],
   "source": [
    "test1=\"This is a test of the emergency text system\""
   ]
  },
  {
   "cell_type": "code",
   "execution_count": 2,
   "id": "93e789d5",
   "metadata": {},
   "outputs": [],
   "source": [
    "f=open(\"test1.txt\",\"w\")\n",
    "f.write(test1)\n",
    "f.close()"
   ]
  },
  {
   "cell_type": "markdown",
   "id": "c5021c4f",
   "metadata": {},
   "source": [
    "2. Read the contents of the file test.txt into the variable test2. Is there a difference between test 1\n",
    "and test 2?"
   ]
  },
  {
   "cell_type": "code",
   "execution_count": 3,
   "id": "76e19bae",
   "metadata": {},
   "outputs": [
    {
     "name": "stdout",
     "output_type": "stream",
     "text": [
      "This is a test of the emergency text system\n"
     ]
    }
   ],
   "source": [
    "test2=open(\"test1.txt\",\"r\")\n",
    "print(test2.read())"
   ]
  },
  {
   "cell_type": "markdown",
   "id": "382ba6a2",
   "metadata": {},
   "source": [
    "3. Create a CSV file called books.csv by using these lines:\n",
    "title,author,year\n",
    "The Weirdstone of Brisingamen,Alan Garner,1960\n",
    "Perdido Street Station,China Miéville,2000\n",
    "Thud!,Terry Pratchett,2005\n",
    "The Spellman Files,Lisa Lutz,2007\n",
    "Small Gods,Terry Pratchett,1992"
   ]
  },
  {
   "cell_type": "code",
   "execution_count": 12,
   "id": "bbae7c24",
   "metadata": {},
   "outputs": [],
   "source": [
    "import csv\n",
    "csv_columns = ['title','author','year']\n",
    "data=[\n",
    "    \n",
    "    {\"title\":\"The Weirdstone of Brisingamen\",\"author\":\"Alan Garner\",\"year\":1960},\n",
    "    {\"title\":\"Perdido Street Station\",\"author\":\"China Mieville\",\"year\":2000},\n",
    "    {\"title\":\"Thud!\",\"author\":\"Terry Prachett\",\"year\":2005},\n",
    "    {\"title\":\"The Spellman Files\",\"author\":\"Lisa lutz\",\"year\":2007},\n",
    "    {\"title\":\"Small Gods\",\"author\":\"Terry Prachett\",\"year\":1992}\n",
    "]"
   ]
  },
  {
   "cell_type": "code",
   "execution_count": 15,
   "id": "2cc6c456",
   "metadata": {},
   "outputs": [],
   "source": [
    "f=open(\"books.csv\",\"w\")\n",
    "w=csv.DictWriter(f,fieldnames=csv_columns)\n",
    "w.writeheader()\n",
    "w.writerows(data)"
   ]
  },
  {
   "cell_type": "code",
   "execution_count": 16,
   "id": "9de45ce5",
   "metadata": {},
   "outputs": [
    {
     "data": {
      "text/plain": [
       "'title,author,year\\nThe Weirdstone of Brisingamen,Alan Garner,1960\\nPerdido Street Station,China Mieville,2000\\nThud!,Terry Prachett,2005\\nThe Spellman Files,Lisa lutz,2007\\nSmall Gods,Terry Prachett,1992\\n'"
      ]
     },
     "execution_count": 16,
     "metadata": {},
     "output_type": "execute_result"
    }
   ],
   "source": [
    "f=open(\"books.csv\",\"r\")\n",
    "f.read()"
   ]
  },
  {
   "cell_type": "markdown",
   "id": "d9550f78",
   "metadata": {},
   "source": [
    "4. Use the sqlite3 module to create a SQLite database called books.db, and a table called books with\n",
    "these fields: title (text), author (text), and year (integer)."
   ]
  },
  {
   "cell_type": "code",
   "execution_count": 18,
   "id": "7a038202",
   "metadata": {},
   "outputs": [],
   "source": [
    "import sqlite3\n",
    "conn=sqlite3.connect(\"books.db\")\n",
    "cur=conn.cursor()\n",
    "cur.execute(\"CREATE TABLE IF NOT EXISTS book(title text,author text,year integer)\")\n",
    "conn.commit()\n"
   ]
  },
  {
   "cell_type": "markdown",
   "id": "b075f061",
   "metadata": {},
   "source": [
    "5. Read books.csv and insert its data into the book table."
   ]
  },
  {
   "cell_type": "code",
   "execution_count": 19,
   "id": "644a82ef",
   "metadata": {},
   "outputs": [],
   "source": [
    "file = open('books.csv')\n",
    "reader = csv.DictReader(file)\n",
    "contents=[(i[\"title\"],i[\"author\"],i[\"year\"]) for i in reader]"
   ]
  },
  {
   "cell_type": "code",
   "execution_count": 20,
   "id": "9d171308",
   "metadata": {},
   "outputs": [],
   "source": [
    "query=\"INSERT INTO BOOK (title,author,year) VALUES (?,?,?)\"\n",
    "cur.executemany(query,contents)\n",
    "conn.commit()"
   ]
  },
  {
   "cell_type": "markdown",
   "id": "4d8aa07d",
   "metadata": {},
   "source": [
    "6. Select and print the title column from the book table in alphabetical order."
   ]
  },
  {
   "cell_type": "code",
   "execution_count": 21,
   "id": "d8ec7f96",
   "metadata": {},
   "outputs": [
    {
     "name": "stdout",
     "output_type": "stream",
     "text": [
      "('Perdido Street Station',)\n",
      "('Small Gods',)\n",
      "('The Spellman Files',)\n",
      "('The Weirdstone of Brisingamen',)\n",
      "('Thud!',)\n"
     ]
    }
   ],
   "source": [
    "query=\"SELECT title from book ORDER BY title ASC\"\n",
    "cur.execute(query)\n",
    "rows = cur.fetchall()\n",
    "for row in rows:\n",
    "    print(row)"
   ]
  },
  {
   "cell_type": "markdown",
   "id": "fbeac805",
   "metadata": {},
   "source": [
    "7. From the book table, select and print all columns in the order of publication."
   ]
  },
  {
   "cell_type": "code",
   "execution_count": 22,
   "id": "55bd958a",
   "metadata": {},
   "outputs": [
    {
     "name": "stdout",
     "output_type": "stream",
     "text": [
      "('The Weirdstone of Brisingamen', 'Alan Garner', 1960)\n",
      "('Small Gods', 'Terry Prachett', 1992)\n",
      "('Perdido Street Station', 'China Mieville', 2000)\n",
      "('Thud!', 'Terry Prachett', 2005)\n",
      "('The Spellman Files', 'Lisa lutz', 2007)\n"
     ]
    }
   ],
   "source": [
    "query=\"SELECT * from book ORDER BY year ASC\"\n",
    "cur.execute(query)\n",
    "rows = cur.fetchall()\n",
    "for row in rows:\n",
    "    print(row)"
   ]
  },
  {
   "cell_type": "markdown",
   "id": "7a23cba6",
   "metadata": {},
   "source": [
    "8. Use the sqlalchemy module to connect to the sqlite3 database books.db that you just made in\n",
    "exercise 6."
   ]
  },
  {
   "cell_type": "code",
   "execution_count": 23,
   "id": "d5e18071",
   "metadata": {},
   "outputs": [
    {
     "name": "stdout",
     "output_type": "stream",
     "text": [
      "('The Weirdstone of Brisingamen', 'Alan Garner', 1960)\n",
      "('Perdido Street Station', 'China Mieville', 2000)\n",
      "('Thud!', 'Terry Prachett', 2005)\n",
      "('The Spellman Files', 'Lisa lutz', 2007)\n",
      "('Small Gods', 'Terry Prachett', 1992)\n"
     ]
    }
   ],
   "source": [
    "import sqlalchemy\n",
    "\n",
    "engine=sqlalchemy.create_engine(f'sqlite:///books.db')\n",
    "rows = engine.execute('select * from book')\n",
    "for i in rows:\n",
    "    print(i)"
   ]
  },
  {
   "cell_type": "markdown",
   "id": "a830dd50",
   "metadata": {},
   "source": [
    "9. Install the Redis server and the Python redis library (pip install redis) on your computer. Create a\n",
    "Redis hash called test with the fields count (1) and name (&#39;Fester Bestertester&#39;). Print all the fields for\n",
    "test."
   ]
  },
  {
   "cell_type": "code",
   "execution_count": 24,
   "id": "3db4b7d6",
   "metadata": {},
   "outputs": [
    {
     "name": "stdout",
     "output_type": "stream",
     "text": [
      "Collecting redis\n",
      "  Downloading redis-4.3.4-py3-none-any.whl (246 kB)\n",
      "\u001b[K     |████████████████████████████████| 246 kB 2.5 MB/s eta 0:00:01\n",
      "\u001b[?25hRequirement already satisfied: packaging>=20.4 in ./anaconda3/lib/python3.8/site-packages (from redis) (20.9)\n",
      "Collecting async-timeout>=4.0.2\n",
      "  Downloading async_timeout-4.0.2-py3-none-any.whl (5.8 kB)\n",
      "Collecting deprecated>=1.2.3\n",
      "  Downloading Deprecated-1.2.13-py2.py3-none-any.whl (9.6 kB)\n",
      "Requirement already satisfied: wrapt<2,>=1.10 in ./anaconda3/lib/python3.8/site-packages (from deprecated>=1.2.3->redis) (1.12.1)\n",
      "Requirement already satisfied: pyparsing>=2.0.2 in ./anaconda3/lib/python3.8/site-packages (from packaging>=20.4->redis) (2.4.7)\n",
      "Installing collected packages: deprecated, async-timeout, redis\n",
      "Successfully installed async-timeout-4.0.2 deprecated-1.2.13 redis-4.3.4\n",
      "\u001b[33mWARNING: You are using pip version 21.2.4; however, version 22.2.2 is available.\n",
      "You should consider upgrading via the '/home/ramanan/anaconda3/bin/python -m pip install --upgrade pip' command.\u001b[0m\n"
     ]
    }
   ],
   "source": [
    "!pip install redis"
   ]
  },
  {
   "cell_type": "code",
   "execution_count": 29,
   "id": "353895db",
   "metadata": {},
   "outputs": [
    {
     "name": "stdout",
     "output_type": "stream",
     "text": [
      "Collecting redis-server\n",
      "  Downloading redis_server-6.0.9-202010301343-cp38-cp38-manylinux2010_x86_64.whl (5.5 MB)\n",
      "\u001b[K     |████████████████████████████████| 5.5 MB 3.5 MB/s eta 0:00:01\n",
      "\u001b[?25hInstalling collected packages: redis-server\n",
      "Successfully installed redis-server-6.0.9\n",
      "\u001b[33mWARNING: You are using pip version 21.2.4; however, version 22.2.2 is available.\n",
      "You should consider upgrading via the '/home/ramanan/anaconda3/bin/python -m pip install --upgrade pip' command.\u001b[0m\n"
     ]
    }
   ],
   "source": [
    "!pip install redis-server"
   ]
  },
  {
   "cell_type": "code",
   "execution_count": 34,
   "id": "5fcbbbcf",
   "metadata": {},
   "outputs": [
    {
     "name": "stderr",
     "output_type": "stream",
     "text": [
      "<ipython-input-34-88d7311fcf42>:5: DeprecationWarning: Redis.hmset() is deprecated. Use Redis.hset() instead.\n",
      "  r.hmset('test', {'count': 1, 'name': 'Fester Bestertester'})\n"
     ]
    },
    {
     "data": {
      "text/plain": [
       "{b'count': b'1', b'name': b'Fester Bestertester'}"
      ]
     },
     "execution_count": 34,
     "metadata": {},
     "output_type": "execute_result"
    }
   ],
   "source": [
    "import redis\n",
    "r= redis.StrictRedis(host='localhost',\n",
    "                                port=6379,\n",
    "                                db=0)\n",
    "r.hmset('test', {'count': 1, 'name': 'Fester Bestertester'})\n",
    "r.hgetall('test')"
   ]
  },
  {
   "cell_type": "markdown",
   "id": "496c3645",
   "metadata": {},
   "source": [
    "10. Increment the count field of test and print it."
   ]
  },
  {
   "cell_type": "code",
   "execution_count": 35,
   "id": "047dbff0",
   "metadata": {},
   "outputs": [
    {
     "data": {
      "text/plain": [
       "2"
      ]
     },
     "execution_count": 35,
     "metadata": {},
     "output_type": "execute_result"
    }
   ],
   "source": [
    "r.hincrby('test','count',1)"
   ]
  },
  {
   "cell_type": "code",
   "execution_count": null,
   "id": "bbb19258",
   "metadata": {},
   "outputs": [],
   "source": []
  }
 ],
 "metadata": {
  "kernelspec": {
   "display_name": "Python 3",
   "language": "python",
   "name": "python3"
  },
  "language_info": {
   "codemirror_mode": {
    "name": "ipython",
    "version": 3
   },
   "file_extension": ".py",
   "mimetype": "text/x-python",
   "name": "python",
   "nbconvert_exporter": "python",
   "pygments_lexer": "ipython3",
   "version": "3.8.8"
  }
 },
 "nbformat": 4,
 "nbformat_minor": 5
}
