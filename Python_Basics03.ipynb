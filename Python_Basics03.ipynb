{
  "nbformat": 4,
  "nbformat_minor": 0,
  "metadata": {
    "colab": {
      "name": "Python_Basics03.ipynb",
      "provenance": [],
      "authorship_tag": "ABX9TyMu9JmoSidl0GvltEUZx7nV",
      "include_colab_link": true
    },
    "kernelspec": {
      "name": "python3",
      "display_name": "Python 3"
    },
    "language_info": {
      "name": "python"
    }
  },
  "cells": [
    {
      "cell_type": "markdown",
      "metadata": {
        "id": "view-in-github",
        "colab_type": "text"
      },
      "source": [
        "<a href=\"https://colab.research.google.com/github/Ragavendhra-Ramanan/Python_Basics/blob/main/Python_Basics03.ipynb\" target=\"_parent\"><img src=\"https://colab.research.google.com/assets/colab-badge.svg\" alt=\"Open In Colab\"/></a>"
      ]
    },
    {
      "cell_type": "markdown",
      "source": [
        "#Python Assignment 3"
      ],
      "metadata": {
        "id": "Jy3kkMUsrHrl"
      }
    },
    {
      "cell_type": "markdown",
      "source": [
        "01.Why are functions advantageous to have in your programs?"
      ],
      "metadata": {
        "id": "mWFAkIwgrQDJ"
      }
    },
    {
      "cell_type": "markdown",
      "source": [
        "* It reduces the need for duplicate code\n",
        "* It also makes readability of code good"
      ],
      "metadata": {
        "id": "ThbgklOiro9D"
      }
    },
    {
      "cell_type": "markdown",
      "source": [
        "02.When does the code in a function run: when it&#39;s specified or when it&#39;s called?"
      ],
      "metadata": {
        "id": "ylezn5torxoT"
      }
    },
    {
      "cell_type": "markdown",
      "source": [
        "* The code in the functions run only when it is called."
      ],
      "metadata": {
        "id": "vLe_c98Rr2dr"
      }
    },
    {
      "cell_type": "markdown",
      "source": [
        "03.What statement creates a function?"
      ],
      "metadata": {
        "id": "9M9LHT_gr6sd"
      }
    },
    {
      "cell_type": "code",
      "execution_count": 1,
      "metadata": {
        "id": "tu_Fz5pwrCRl"
      },
      "outputs": [],
      "source": [
        "def ans():\n",
        "  pass\n",
        "\n",
        "#def statement creates function"
      ]
    },
    {
      "cell_type": "markdown",
      "source": [
        "04.What is the difference between a function and a function call?"
      ],
      "metadata": {
        "id": "q606E92XsD81"
      }
    },
    {
      "cell_type": "markdown",
      "source": [
        "* Function is used to write a block of code and return the values.\n",
        "* Function calls are used to pass the control to the function,Only then the function runs."
      ],
      "metadata": {
        "id": "SlaRTDw4sL91"
      }
    },
    {
      "cell_type": "markdown",
      "source": [
        "05.How many global scopes are there in a Python program? How many local scopes?"
      ],
      "metadata": {
        "id": "Duju-deUsZoU"
      }
    },
    {
      "cell_type": "markdown",
      "source": [
        "* One Global scope per variable in a python program.\n",
        "* Local scopes can be many,"
      ],
      "metadata": {
        "id": "4PXKIOq3t0nz"
      }
    },
    {
      "cell_type": "markdown",
      "source": [
        "06.What happens to variables in a local scope when the function call returns?"
      ],
      "metadata": {
        "id": "BMolW7qsuHO5"
      }
    },
    {
      "cell_type": "markdown",
      "source": [
        "* The local variables are destroyed and cannot be accessed outside the function."
      ],
      "metadata": {
        "id": "-z_u1WWKuMLm"
      }
    },
    {
      "cell_type": "markdown",
      "source": [
        "07.What is the concept of a return value? Is it possible to have a return value in an expression?"
      ],
      "metadata": {
        "id": "rCwqUdbcuSxB"
      }
    },
    {
      "cell_type": "markdown",
      "source": [
        "* Return value is used to pass the value from called function to caller place.\n",
        "* using lambda functions we can have return value in expressions."
      ],
      "metadata": {
        "id": "g8-4U6jHwOUu"
      }
    },
    {
      "cell_type": "code",
      "source": [
        "a=lambda x:x*2"
      ],
      "metadata": {
        "id": "Ic7Nei0isqac"
      },
      "execution_count": 23,
      "outputs": []
    },
    {
      "cell_type": "code",
      "source": [
        "a(1)"
      ],
      "metadata": {
        "colab": {
          "base_uri": "https://localhost:8080/"
        },
        "id": "3G2us1Bms8xP",
        "outputId": "209d3434-6536-4dec-ad6d-f848ef63a40b"
      },
      "execution_count": 24,
      "outputs": [
        {
          "output_type": "execute_result",
          "data": {
            "text/plain": [
              "2"
            ]
          },
          "metadata": {},
          "execution_count": 24
        }
      ]
    },
    {
      "cell_type": "markdown",
      "source": [
        "08.If a function does not have a return statement, what is the return value of a call to that function?"
      ],
      "metadata": {
        "id": "NwlZ5ODRxCUe"
      }
    },
    {
      "cell_type": "code",
      "source": [
        "def ans():\n",
        "  pass\n"
      ],
      "metadata": {
        "id": "XtL58yKAwwsS"
      },
      "execution_count": 25,
      "outputs": []
    },
    {
      "cell_type": "code",
      "source": [
        "a=ans()"
      ],
      "metadata": {
        "id": "gn0I42SexJeS"
      },
      "execution_count": 28,
      "outputs": []
    },
    {
      "cell_type": "code",
      "source": [
        "type(a)"
      ],
      "metadata": {
        "colab": {
          "base_uri": "https://localhost:8080/"
        },
        "id": "29iA5hRPxJ9F",
        "outputId": "585e37e0-ddec-41f3-a507-39dd0ea47a6e"
      },
      "execution_count": 30,
      "outputs": [
        {
          "output_type": "execute_result",
          "data": {
            "text/plain": [
              "NoneType"
            ]
          },
          "metadata": {},
          "execution_count": 30
        }
      ]
    },
    {
      "cell_type": "markdown",
      "source": [
        "* When a function does not have return statement,the function doesnot return anything whichmeans NoneType(undefined)."
      ],
      "metadata": {
        "id": "N264vETrxQz5"
      }
    },
    {
      "cell_type": "markdown",
      "source": [
        "09.How do you make a function variable refer to the global variable?"
      ],
      "metadata": {
        "id": "9dRz9g2txj8U"
      }
    },
    {
      "cell_type": "markdown",
      "source": [
        "* Using Global Keyword"
      ],
      "metadata": {
        "id": "mLl4Xe8Exncq"
      }
    },
    {
      "cell_type": "code",
      "source": [
        "a=10\n",
        "\n",
        "def ans():\n",
        "  global a\n",
        "  a=1\n",
        "ans()"
      ],
      "metadata": {
        "id": "uSR1muFixMoS"
      },
      "execution_count": 34,
      "outputs": []
    },
    {
      "cell_type": "code",
      "source": [
        "print(a)"
      ],
      "metadata": {
        "colab": {
          "base_uri": "https://localhost:8080/"
        },
        "id": "oySq1iofxspL",
        "outputId": "384cdfdb-5c2d-4d03-a78f-134220fda371"
      },
      "execution_count": 35,
      "outputs": [
        {
          "output_type": "stream",
          "name": "stdout",
          "text": [
            "1\n"
          ]
        }
      ]
    },
    {
      "cell_type": "markdown",
      "source": [
        "10.What is the data type of None?"
      ],
      "metadata": {
        "id": "rPD1DdI1x1EK"
      }
    },
    {
      "cell_type": "code",
      "source": [
        "type(None)"
      ],
      "metadata": {
        "colab": {
          "base_uri": "https://localhost:8080/"
        },
        "id": "VLIvSwJGxtXe",
        "outputId": "a233938a-881c-4f58-9025-1c4828733b4b"
      },
      "execution_count": 36,
      "outputs": [
        {
          "output_type": "execute_result",
          "data": {
            "text/plain": [
              "NoneType"
            ]
          },
          "metadata": {},
          "execution_count": 36
        }
      ]
    },
    {
      "cell_type": "markdown",
      "source": [
        "11.What does the sentence import areallyourpetsnamederic do?"
      ],
      "metadata": {
        "id": "kg0DR33lx3oj"
      }
    },
    {
      "cell_type": "markdown",
      "source": [
        "* It imports a module named areallyourpetsnamederic "
      ],
      "metadata": {
        "id": "TgvxZ-DXx_P7"
      }
    },
    {
      "cell_type": "markdown",
      "source": [
        "12.If you had a bacon() feature in a spam module, what would you call it after importing spam?"
      ],
      "metadata": {
        "id": "Yta88cHWyD0g"
      }
    },
    {
      "cell_type": "markdown",
      "source": [
        "* spam.bacon"
      ],
      "metadata": {
        "id": "yZ44Kka4yHB9"
      }
    },
    {
      "cell_type": "markdown",
      "source": [
        "13. What can you do to save a programme from crashing if it encounters an error?"
      ],
      "metadata": {
        "id": "iO2jXYsUyKir"
      }
    },
    {
      "cell_type": "markdown",
      "source": [
        "* using try and except block to catch an error and raise an exception."
      ],
      "metadata": {
        "id": "wHqBl9V6yUhN"
      }
    },
    {
      "cell_type": "markdown",
      "source": [
        "14.What is the purpose of the try clause? What is the purpose of the except clause?"
      ],
      "metadata": {
        "id": "bCPbj11qyanc"
      }
    },
    {
      "cell_type": "markdown",
      "source": [
        "* try block helps to test the code which may contain error.\n",
        "* catch block helps to handle the error caused in try block."
      ],
      "metadata": {
        "id": "QxmA6Hn2ygN8"
      }
    }
  ]
}