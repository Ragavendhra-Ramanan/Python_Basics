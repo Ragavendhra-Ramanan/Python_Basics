{
  "nbformat": 4,
  "nbformat_minor": 0,
  "metadata": {
    "colab": {
      "name": "Python_Basics_02.ipynb",
      "provenance": [],
      "authorship_tag": "ABX9TyPMX3MGFiLsAWiMhTJHtKBN",
      "include_colab_link": true
    },
    "kernelspec": {
      "name": "python3",
      "display_name": "Python 3"
    },
    "language_info": {
      "name": "python"
    }
  },
  "cells": [
    {
      "cell_type": "markdown",
      "metadata": {
        "id": "view-in-github",
        "colab_type": "text"
      },
      "source": [
        "<a href=\"https://colab.research.google.com/github/Ragavendhra-Ramanan/Python_Basics/blob/main/Python_Basics_02.ipynb\" target=\"_parent\"><img src=\"https://colab.research.google.com/assets/colab-badge.svg\" alt=\"Open In Colab\"/></a>"
      ]
    },
    {
      "cell_type": "markdown",
      "source": [
        "#Python Assignment2"
      ],
      "metadata": {
        "id": "G34uxZVVk7H3"
      }
    },
    {
      "cell_type": "markdown",
      "source": [
        "01.What are the two values of the Boolean data type? How do you write them?"
      ],
      "metadata": {
        "id": "1PjdfWQ1k-fa"
      }
    },
    {
      "cell_type": "code",
      "execution_count": 1,
      "metadata": {
        "id": "oiNB26ANnEIo",
        "colab": {
          "base_uri": "https://localhost:8080/"
        },
        "outputId": "3cb5cdae-6ce5-4b8f-b257-fcb2a7954cc4"
      },
      "outputs": [
        {
          "output_type": "execute_result",
          "data": {
            "text/plain": [
              "False"
            ]
          },
          "metadata": {},
          "execution_count": 1
        }
      ],
      "source": [
        "True\n",
        "False"
      ]
    },
    {
      "cell_type": "markdown",
      "source": [
        "02 . What are the three different types of Boolean operators?"
      ],
      "metadata": {
        "id": "msLY9fW5lIwr"
      }
    },
    {
      "cell_type": "markdown",
      "source": [
        "* and\n",
        "* or \n",
        "* not"
      ],
      "metadata": {
        "id": "IjjTAv3tlcxY"
      }
    },
    {
      "cell_type": "markdown",
      "source": [
        "03.Make a list of each Boolean operator&#39;s truth tables (i.e. every possible combination of Boolean\n",
        "values for the operator and what it evaluate )."
      ],
      "metadata": {
        "id": "WUrz787zlgKv"
      }
    },
    {
      "cell_type": "code",
      "source": [
        "#and\n",
        "\n",
        "print(0 and 0)\n",
        "print(0 and 1)\n",
        "print(1 and 0)\n",
        "print(1 and 1)"
      ],
      "metadata": {
        "colab": {
          "base_uri": "https://localhost:8080/"
        },
        "id": "lQeONU-wlZ2_",
        "outputId": "f722b38b-d870-4b32-94dc-813dd1c5a792"
      },
      "execution_count": 6,
      "outputs": [
        {
          "output_type": "stream",
          "name": "stdout",
          "text": [
            "0\n",
            "0\n",
            "0\n",
            "1\n"
          ]
        }
      ]
    },
    {
      "cell_type": "code",
      "source": [
        "#or\n",
        "\n",
        "print(0 or 0)\n",
        "print(0 or 1)\n",
        "print(1 or 0)\n",
        "print(1 or 1)"
      ],
      "metadata": {
        "colab": {
          "base_uri": "https://localhost:8080/"
        },
        "id": "4jiEW3nkl2Nb",
        "outputId": "2443fa5a-6345-4013-aace-b2cc93310a5f"
      },
      "execution_count": 7,
      "outputs": [
        {
          "output_type": "stream",
          "name": "stdout",
          "text": [
            "0\n",
            "1\n",
            "1\n",
            "1\n"
          ]
        }
      ]
    },
    {
      "cell_type": "code",
      "source": [
        "#not\n",
        "\n",
        "\n",
        "print(not 0)\n",
        "print(not 1)"
      ],
      "metadata": {
        "colab": {
          "base_uri": "https://localhost:8080/"
        },
        "id": "gkrDAbmHl62_",
        "outputId": "82e7d57f-2431-429b-dfe2-2a7ae8bfb351"
      },
      "execution_count": 8,
      "outputs": [
        {
          "output_type": "stream",
          "name": "stdout",
          "text": [
            "True\n",
            "False\n"
          ]
        }
      ]
    },
    {
      "cell_type": "markdown",
      "source": [
        "04.What are the values of the following expressions?\n",
        "* (5 &gt; 4) and (3 == 5)\n",
        "* not (5 &gt; 4)\n",
        "* (5 &gt; 4) or (3 == 5)\n",
        "* not ((5 &gt; 4) or (3 == 5))\n",
        "* (True and True) and (True == False)\n",
        "* (not False) or (not True)"
      ],
      "metadata": {
        "id": "TiJ8nVEImL6j"
      }
    },
    {
      "cell_type": "code",
      "source": [
        "print((5>4)and(3==5))"
      ],
      "metadata": {
        "colab": {
          "base_uri": "https://localhost:8080/"
        },
        "id": "YLS-sLVSmA1V",
        "outputId": "aa5f443f-9d09-4184-f1c1-4c40c79614ae"
      },
      "execution_count": 9,
      "outputs": [
        {
          "output_type": "stream",
          "name": "stdout",
          "text": [
            "False\n"
          ]
        }
      ]
    },
    {
      "cell_type": "code",
      "source": [
        "print(not (5 > 4))"
      ],
      "metadata": {
        "colab": {
          "base_uri": "https://localhost:8080/"
        },
        "id": "fa3oymgdmZRE",
        "outputId": "d84b367c-2d96-425b-ee15-5579fa27d5c2"
      },
      "execution_count": 10,
      "outputs": [
        {
          "output_type": "stream",
          "name": "stdout",
          "text": [
            "False\n"
          ]
        }
      ]
    },
    {
      "cell_type": "code",
      "source": [
        "\n",
        "print((5 > 4) or (3 == 5))\n"
      ],
      "metadata": {
        "colab": {
          "base_uri": "https://localhost:8080/"
        },
        "id": "x-HRIJXimeQt",
        "outputId": "2434d49e-4daa-4389-e832-1de1cb897423"
      },
      "execution_count": 11,
      "outputs": [
        {
          "output_type": "stream",
          "name": "stdout",
          "text": [
            "True\n"
          ]
        }
      ]
    },
    {
      "cell_type": "code",
      "source": [
        "\n",
        "print(not ((5 > 4) or (3 == 5)))\n"
      ],
      "metadata": {
        "colab": {
          "base_uri": "https://localhost:8080/"
        },
        "id": "BsVlwwwlmiri",
        "outputId": "063ea53e-6c5f-4ea4-e90b-cf5d54a39da6"
      },
      "execution_count": 12,
      "outputs": [
        {
          "output_type": "stream",
          "name": "stdout",
          "text": [
            "False\n"
          ]
        }
      ]
    },
    {
      "cell_type": "code",
      "source": [
        "\n",
        "print((True and True) and (True == False))\n"
      ],
      "metadata": {
        "colab": {
          "base_uri": "https://localhost:8080/"
        },
        "id": "l-tqxPiRmpD5",
        "outputId": "7a09105b-7b37-487b-a05d-31260ae2c991"
      },
      "execution_count": 13,
      "outputs": [
        {
          "output_type": "stream",
          "name": "stdout",
          "text": [
            "False\n"
          ]
        }
      ]
    },
    {
      "cell_type": "code",
      "source": [
        "print((not False) or (not True))"
      ],
      "metadata": {
        "colab": {
          "base_uri": "https://localhost:8080/"
        },
        "id": "9Tzp_ldVmxGf",
        "outputId": "87efbebf-519a-4c82-f50d-d4e1d0211e74"
      },
      "execution_count": 14,
      "outputs": [
        {
          "output_type": "stream",
          "name": "stdout",
          "text": [
            "True\n"
          ]
        }
      ]
    },
    {
      "cell_type": "markdown",
      "source": [
        "05.What are the six comparison operators?"
      ],
      "metadata": {
        "id": "ZLRtQ9jlm5_G"
      }
    },
    {
      "cell_type": "markdown",
      "source": [
        "* *>=*\n",
        "* <=\n",
        "* !=\n",
        "* *>*\n",
        "* <\n",
        "* =="
      ],
      "metadata": {
        "id": "zKoNS56sm73U"
      }
    },
    {
      "cell_type": "markdown",
      "source": [
        "06.How do you tell the difference between the equal to and assignment operators?Describe a\n",
        "condition and when you would use one."
      ],
      "metadata": {
        "id": "sS5LKnOSnLhk"
      }
    },
    {
      "cell_type": "code",
      "source": [
        "#assignment (Single equal to)\n",
        "a=5\n",
        "\n",
        "#equal to (Comparison)\n",
        "10==5"
      ],
      "metadata": {
        "colab": {
          "base_uri": "https://localhost:8080/"
        },
        "id": "Ur-5SkoNm0Nt",
        "outputId": "ff9098fe-c07f-4a18-ee5b-7bfd1fe91158"
      },
      "execution_count": 15,
      "outputs": [
        {
          "output_type": "execute_result",
          "data": {
            "text/plain": [
              "False"
            ]
          },
          "metadata": {},
          "execution_count": 15
        }
      ]
    },
    {
      "cell_type": "markdown",
      "source": [
        "07.Identify the three blocks in this code:\n",
        "* spam = 0\n",
        "* if spam == 10:\n",
        "* print(&#39;eggs&#39;)\n",
        "* if spam &gt; 5:\n",
        "* print(&#39;bacon&#39;)\n",
        "* else:\n",
        "* print(&#39;ham&#39;)\n",
        "* print(&#39;spam&#39;)\n",
        "* print(&#39;spam&#39;)"
      ],
      "metadata": {
        "id": "GyC5vwEKndzH"
      }
    },
    {
      "cell_type": "code",
      "source": [
        "spam=0\n",
        "if spam==10:\n",
        "  #block 1\n",
        "  print(\"eggs\")\n",
        "if spam>5:\n",
        "  #block 2\n",
        "  print(\"bacon\");\n",
        "else:\n",
        "  #block 3\n",
        "  print(\"ham\")\n",
        "  print(\"spam\")\n",
        "  print(\"spam\")"
      ],
      "metadata": {
        "colab": {
          "base_uri": "https://localhost:8080/"
        },
        "id": "PpU088-Ynb1j",
        "outputId": "7ceb6c57-ddb5-4142-9072-ecd08f8e4735"
      },
      "execution_count": 16,
      "outputs": [
        {
          "output_type": "stream",
          "name": "stdout",
          "text": [
            "ham\n",
            "spam\n",
            "spam\n"
          ]
        }
      ]
    },
    {
      "cell_type": "markdown",
      "source": [
        "08.Write code that prints Hello if 1 is stored in spam, prints Howdy if 2 is stored in spam, and prints\n",
        "Greetings! if anything else is stored in spam."
      ],
      "metadata": {
        "id": "Af1En74Pn_k2"
      }
    },
    {
      "cell_type": "code",
      "source": [
        "if spam==1:\n",
        "  print(\"Hello\")\n",
        "if spam==2:\n",
        "  print(\"Howdy\")\n",
        "else:\n",
        "  print(\"Greetings\")"
      ],
      "metadata": {
        "colab": {
          "base_uri": "https://localhost:8080/"
        },
        "id": "xDhhOLznn740",
        "outputId": "46d067e4-365a-4455-87f5-5c5d9682c712"
      },
      "execution_count": 17,
      "outputs": [
        {
          "output_type": "stream",
          "name": "stdout",
          "text": [
            "Greetings\n"
          ]
        }
      ]
    },
    {
      "cell_type": "markdown",
      "source": [
        "09.If your programme is stuck in an endless loop, what keys you’ll press?"
      ],
      "metadata": {
        "id": "UVMZ8ODJoN4v"
      }
    },
    {
      "cell_type": "markdown",
      "source": [
        "* Ctrl+C"
      ],
      "metadata": {
        "id": "Hs2WVfN7ojI8"
      }
    },
    {
      "cell_type": "markdown",
      "source": [
        "10.How can you tell the difference between break and continue?"
      ],
      "metadata": {
        "id": "aYkJzT1Cok_B"
      }
    },
    {
      "cell_type": "markdown",
      "source": [
        "* **break** keyword comes out of the loop or innermost switch\n",
        "* **continue** keyword continues net iteration of loop."
      ],
      "metadata": {
        "id": "uUg68NMkoocP"
      }
    },
    {
      "cell_type": "markdown",
      "source": [
        "11.In a for loop, what is the difference between range(10), range(0, 10), and range(0, 10, 1)?"
      ],
      "metadata": {
        "id": "Be6dfWVCpN2e"
      }
    },
    {
      "cell_type": "markdown",
      "source": [
        "* There is no difference between those\n",
        "* range(start,end,step)\n",
        "* default start is 0 and step is 1.\n",
        "* Here stop is same hence there is no difference between any of these."
      ],
      "metadata": {
        "id": "wjfU7OEOpS4Y"
      }
    },
    {
      "cell_type": "markdown",
      "source": [
        "12.Write a short program that prints the numbers 1 to 10 using a for loop. Then write an equivalent\n",
        "program that prints the numbers 1 to 10 using a while loop."
      ],
      "metadata": {
        "id": "V8jbUvbYpkWx"
      }
    },
    {
      "cell_type": "code",
      "source": [
        "for i in range(1,11):\n",
        "  print(i)"
      ],
      "metadata": {
        "colab": {
          "base_uri": "https://localhost:8080/"
        },
        "id": "bVaabC3WoaNF",
        "outputId": "7c2ef655-63d2-438e-e9f5-6c7778da4925"
      },
      "execution_count": 22,
      "outputs": [
        {
          "output_type": "stream",
          "name": "stdout",
          "text": [
            "1\n",
            "2\n",
            "3\n",
            "4\n",
            "5\n",
            "6\n",
            "7\n",
            "8\n",
            "9\n",
            "10\n"
          ]
        }
      ]
    },
    {
      "cell_type": "code",
      "source": [
        "i=1\n",
        "while i<11:\n",
        "  print(i)\n",
        "  i+=1"
      ],
      "metadata": {
        "colab": {
          "base_uri": "https://localhost:8080/"
        },
        "id": "h2at1_5Uo-Um",
        "outputId": "4886f8ce-2f56-49c1-aa48-b87fbb83b509"
      },
      "execution_count": 24,
      "outputs": [
        {
          "output_type": "stream",
          "name": "stdout",
          "text": [
            "1\n",
            "2\n",
            "3\n",
            "4\n",
            "5\n",
            "6\n",
            "7\n",
            "8\n",
            "9\n",
            "10\n"
          ]
        }
      ]
    },
    {
      "cell_type": "markdown",
      "source": [
        "13.If you had a function named bacon() inside a module named spam, how would you call it after\n",
        "importing spam?"
      ],
      "metadata": {
        "id": "XxdMfKTwp1S4"
      }
    },
    {
      "cell_type": "markdown",
      "source": [
        "* spam.bacon"
      ],
      "metadata": {
        "id": "b6C_ofXFp61r"
      }
    }
  ]
}