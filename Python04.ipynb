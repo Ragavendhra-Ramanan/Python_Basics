{
  "nbformat": 4,
  "nbformat_minor": 0,
  "metadata": {
    "colab": {
      "provenance": [],
      "authorship_tag": "ABX9TyNXCxOhW/PWWwQs8V3bsoYO",
      "include_colab_link": true
    },
    "kernelspec": {
      "name": "python3",
      "display_name": "Python 3"
    },
    "language_info": {
      "name": "python"
    }
  },
  "cells": [
    {
      "cell_type": "markdown",
      "metadata": {
        "id": "view-in-github",
        "colab_type": "text"
      },
      "source": [
        "<a href=\"https://colab.research.google.com/github/Ragavendhra-Ramanan/Python_Basics/blob/main/Python04.ipynb\" target=\"_parent\"><img src=\"https://colab.research.google.com/assets/colab-badge.svg\" alt=\"Open In Colab\"/></a>"
      ]
    },
    {
      "cell_type": "markdown",
      "source": [
        "01 . What exactly is []?"
      ],
      "metadata": {
        "id": "f7hdFgcZdqje"
      }
    },
    {
      "cell_type": "markdown",
      "source": [
        "**Solution** :Empty List"
      ],
      "metadata": {
        "id": "yDuRDeLleJFT"
      }
    },
    {
      "cell_type": "markdown",
      "source": [
        "02 . In a list of values stored in a variable called spam, how would you assign the value &#39;hello&#39; as the\n",
        "third value? (Assume [2, 4, 6, 8, 10] are in spam.)"
      ],
      "metadata": {
        "id": "ph5zR3E7eRIP"
      }
    },
    {
      "cell_type": "markdown",
      "source": [
        "**Solution** : "
      ],
      "metadata": {
        "id": "DgSlYEvDepB2"
      }
    },
    {
      "cell_type": "code",
      "execution_count": 13,
      "metadata": {
        "colab": {
          "base_uri": "https://localhost:8080/"
        },
        "id": "7zFALNP9dhaE",
        "outputId": "cc4491bb-0a99-4484-b62b-bc414147c57c"
      },
      "outputs": [
        {
          "name": "stdout",
          "output_type": "stream",
          "text": [
            "246810\n"
          ]
        },
        {
          "output_type": "execute_result",
          "data": {
            "text/plain": [
              "['2', '4', 'hello', '8', '1', '0']"
            ]
          },
          "metadata": {},
          "execution_count": 13
        }
      ],
      "source": [
        "spam=list(input())\n",
        "spam[2]=\"hello\"\n",
        "spam"
      ]
    },
    {
      "cell_type": "code",
      "source": [
        "spam=['a','b','c','d']"
      ],
      "metadata": {
        "id": "YfL1zR71hc11"
      },
      "execution_count": 14,
      "outputs": []
    },
    {
      "cell_type": "markdown",
      "source": [
        "03 . What is the value of spam[int(int(&#39;3&#39; * 2) / 11)]?"
      ],
      "metadata": {
        "id": "o_zQzydTfUms"
      }
    },
    {
      "cell_type": "code",
      "source": [
        "spam[int(int('3'*2)/11)]"
      ],
      "metadata": {
        "colab": {
          "base_uri": "https://localhost:8080/",
          "height": 35
        },
        "id": "diUbwmbQfP7r",
        "outputId": "66328bd6-11ce-4fb1-877e-9e487b930939"
      },
      "execution_count": 15,
      "outputs": [
        {
          "output_type": "execute_result",
          "data": {
            "text/plain": [
              "'d'"
            ],
            "application/vnd.google.colaboratory.intrinsic+json": {
              "type": "string"
            }
          },
          "metadata": {},
          "execution_count": 15
        }
      ]
    },
    {
      "cell_type": "markdown",
      "source": [
        "04 . What is the value of spam[-1]?"
      ],
      "metadata": {
        "id": "KZEN9qGWg2Je"
      }
    },
    {
      "cell_type": "code",
      "source": [
        "spam[-1]"
      ],
      "metadata": {
        "colab": {
          "base_uri": "https://localhost:8080/",
          "height": 35
        },
        "id": "lS1wnfpMgdFB",
        "outputId": "00f80ffe-1328-44cb-efd3-5e92b7f37071"
      },
      "execution_count": 16,
      "outputs": [
        {
          "output_type": "execute_result",
          "data": {
            "text/plain": [
              "'d'"
            ],
            "application/vnd.google.colaboratory.intrinsic+json": {
              "type": "string"
            }
          },
          "metadata": {},
          "execution_count": 16
        }
      ]
    },
    {
      "cell_type": "markdown",
      "source": [
        "05 . What is the value of spam[:2]?"
      ],
      "metadata": {
        "id": "gXS3rBp_hNTI"
      }
    },
    {
      "cell_type": "code",
      "source": [
        "spam[:2]"
      ],
      "metadata": {
        "colab": {
          "base_uri": "https://localhost:8080/"
        },
        "id": "UbReT79BghDJ",
        "outputId": "18dfb80b-64ae-48c6-f5bd-47fc2d9aa269"
      },
      "execution_count": 18,
      "outputs": [
        {
          "output_type": "execute_result",
          "data": {
            "text/plain": [
              "['a', 'b']"
            ]
          },
          "metadata": {},
          "execution_count": 18
        }
      ]
    },
    {
      "cell_type": "code",
      "source": [
        "bacon=[3.14, 'cat', 11, 'cat' ,True]"
      ],
      "metadata": {
        "id": "1ljBfc6ohTNo"
      },
      "execution_count": 20,
      "outputs": []
    },
    {
      "cell_type": "markdown",
      "source": [
        "* 6 . What is the value of bacon.index(&#39;cat&#39;)?\n",
        "\n",
        "* 7 . How does bacon.append(99) change the look of the list value in bacon?\n",
        "* 8 . How does bacon.remove(&#39;cat&#39;) change the look of the list in bacon?"
      ],
      "metadata": {
        "id": "_3dWuF36hyS5"
      }
    },
    {
      "cell_type": "code",
      "source": [
        "bacon.index('cat')#returns first index"
      ],
      "metadata": {
        "colab": {
          "base_uri": "https://localhost:8080/"
        },
        "id": "vEKWVtZwht7c",
        "outputId": "14644eab-b4da-4df4-d596-2e8c1a43958c"
      },
      "execution_count": 21,
      "outputs": [
        {
          "output_type": "execute_result",
          "data": {
            "text/plain": [
              "1"
            ]
          },
          "metadata": {},
          "execution_count": 21
        }
      ]
    },
    {
      "cell_type": "code",
      "source": [
        "bacon.append(99)\n",
        "bacon"
      ],
      "metadata": {
        "colab": {
          "base_uri": "https://localhost:8080/"
        },
        "id": "ByCb0k4Ah26K",
        "outputId": "93fa6bd4-4bb5-4aba-de15-be9888a580c2"
      },
      "execution_count": 22,
      "outputs": [
        {
          "output_type": "execute_result",
          "data": {
            "text/plain": [
              "[3.14, 'cat', 11, 'cat', True, 99]"
            ]
          },
          "metadata": {},
          "execution_count": 22
        }
      ]
    },
    {
      "cell_type": "code",
      "source": [
        "bacon.remove('cat')#removes first instance\n",
        "bacon"
      ],
      "metadata": {
        "colab": {
          "base_uri": "https://localhost:8080/"
        },
        "id": "HLs1NWISh8WQ",
        "outputId": "39731bd9-e0b5-42dd-8e45-9e07ae6e90c9"
      },
      "execution_count": 23,
      "outputs": [
        {
          "output_type": "execute_result",
          "data": {
            "text/plain": [
              "[3.14, 11, 'cat', True, 99]"
            ]
          },
          "metadata": {},
          "execution_count": 23
        }
      ]
    },
    {
      "cell_type": "markdown",
      "source": [
        "09 . What are the list concatenation and list replication operators?"
      ],
      "metadata": {
        "id": "G5N8VWIviGy6"
      }
    },
    {
      "cell_type": "code",
      "source": [
        "#concat \n",
        "a=[1,2]+[3,4,5]\n",
        "a"
      ],
      "metadata": {
        "colab": {
          "base_uri": "https://localhost:8080/"
        },
        "id": "CdZsiqiAiBDy",
        "outputId": "6c3fac86-bfc4-477e-c5a6-700e01b2cc57"
      },
      "execution_count": 24,
      "outputs": [
        {
          "output_type": "execute_result",
          "data": {
            "text/plain": [
              "[1, 2, 3, 4, 5]"
            ]
          },
          "metadata": {},
          "execution_count": 24
        }
      ]
    },
    {
      "cell_type": "code",
      "source": [
        "#replication\n",
        "a=[1,2]*3\n",
        "a"
      ],
      "metadata": {
        "colab": {
          "base_uri": "https://localhost:8080/"
        },
        "id": "D38ZZI35iRVO",
        "outputId": "eacd246e-3925-49c8-98e4-932d927b7d73"
      },
      "execution_count": 25,
      "outputs": [
        {
          "output_type": "execute_result",
          "data": {
            "text/plain": [
              "[1, 2, 1, 2, 1, 2]"
            ]
          },
          "metadata": {},
          "execution_count": 25
        }
      ]
    },
    {
      "cell_type": "markdown",
      "source": [
        "10. What is difference between the list methods append() and insert()?"
      ],
      "metadata": {
        "id": "3i7zWymXiVf8"
      }
    },
    {
      "cell_type": "code",
      "source": [
        "#append method inserts at end of list\n",
        "a=[1,2,3,4]\n",
        "print(a)\n",
        "a.append(100)\n",
        "print(a)"
      ],
      "metadata": {
        "colab": {
          "base_uri": "https://localhost:8080/"
        },
        "id": "JSNvRaP1iULF",
        "outputId": "d837ad56-375c-4c9c-92d7-7d9e3192749b"
      },
      "execution_count": 26,
      "outputs": [
        {
          "output_type": "stream",
          "name": "stdout",
          "text": [
            "[1, 2, 3, 4]\n",
            "[1, 2, 3, 4, 100]\n"
          ]
        }
      ]
    },
    {
      "cell_type": "code",
      "source": [
        "#insert method inserts at specified index and moves rest elements back\n",
        "a=[1,2,3,4,5]\n",
        "a.insert(3,100)\n",
        "a"
      ],
      "metadata": {
        "colab": {
          "base_uri": "https://localhost:8080/"
        },
        "id": "yhGtrsetigF7",
        "outputId": "ca506515-b230-4370-e771-55bd18dc0a46"
      },
      "execution_count": 27,
      "outputs": [
        {
          "output_type": "execute_result",
          "data": {
            "text/plain": [
              "[1, 2, 3, 100, 4, 5]"
            ]
          },
          "metadata": {},
          "execution_count": 27
        }
      ]
    },
    {
      "cell_type": "markdown",
      "source": [
        "11.What are the two methods for removing items from a list?"
      ],
      "metadata": {
        "id": "vZuVlnmriu5P"
      }
    },
    {
      "cell_type": "code",
      "source": [
        "#remove \n",
        "a=[1,2,3,4,5]\n",
        "a.remove(4)\n",
        "a"
      ],
      "metadata": {
        "colab": {
          "base_uri": "https://localhost:8080/"
        },
        "id": "kfL6pnwOiqg9",
        "outputId": "43e8bf69-e5ef-48f8-e4b7-10490c93ef1b"
      },
      "execution_count": 28,
      "outputs": [
        {
          "output_type": "execute_result",
          "data": {
            "text/plain": [
              "[1, 2, 3, 5]"
            ]
          },
          "metadata": {},
          "execution_count": 28
        }
      ]
    },
    {
      "cell_type": "code",
      "source": [
        "#del \n",
        "a=[1,2,3,4,5]\n",
        "del a[3]\n",
        "a"
      ],
      "metadata": {
        "colab": {
          "base_uri": "https://localhost:8080/"
        },
        "id": "v2DFa-4Pi2wU",
        "outputId": "dade6ea2-f384-4f78-c726-a0b09576f2d7"
      },
      "execution_count": 30,
      "outputs": [
        {
          "output_type": "execute_result",
          "data": {
            "text/plain": [
              "[1, 2, 3, 5]"
            ]
          },
          "metadata": {},
          "execution_count": 30
        }
      ]
    },
    {
      "cell_type": "markdown",
      "source": [
        "12.Describe how list values and string values are identical."
      ],
      "metadata": {
        "id": "gpMzOElki8vT"
      }
    },
    {
      "cell_type": "code",
      "source": [
        "a=['1','2','3']\n",
        "b='123'\n",
        "a==list(b)\n",
        "\n",
        "#lists are comma separated values of string and both follow sequences given that list has only string datatypes"
      ],
      "metadata": {
        "colab": {
          "base_uri": "https://localhost:8080/"
        },
        "id": "TnRLjynni6cG",
        "outputId": "373c83ee-9907-4a8d-fe5a-338965001249"
      },
      "execution_count": 33,
      "outputs": [
        {
          "output_type": "execute_result",
          "data": {
            "text/plain": [
              "True"
            ]
          },
          "metadata": {},
          "execution_count": 33
        }
      ]
    },
    {
      "cell_type": "markdown",
      "source": [
        "13 .What's the difference between tuples and lists?"
      ],
      "metadata": {
        "id": "Hjg_jVDjjzfw"
      }
    },
    {
      "cell_type": "markdown",
      "source": [
        "**Solution** \n",
        "           - List are mutable\n",
        "           - Tuples are immutable"
      ],
      "metadata": {
        "id": "9LdfzIuWj2-A"
      }
    },
    {
      "cell_type": "markdown",
      "source": [
        "14. How do you type a tuple value that only contains the integer 42?"
      ],
      "metadata": {
        "id": "i1MI72-ykBvt"
      }
    },
    {
      "cell_type": "code",
      "source": [
        "a=(42,)\n",
        "type(a)\n",
        "print(a)"
      ],
      "metadata": {
        "colab": {
          "base_uri": "https://localhost:8080/"
        },
        "id": "QRoiCUf8jZ1w",
        "outputId": "38a99ae4-6632-44a2-c05f-26a6be2514c4"
      },
      "execution_count": 35,
      "outputs": [
        {
          "output_type": "stream",
          "name": "stdout",
          "text": [
            "(42,)\n"
          ]
        }
      ]
    },
    {
      "cell_type": "markdown",
      "source": [
        "15 . How do you get a list value&#39;s tuple form? How do you get a tuple value&#39;s list form?"
      ],
      "metadata": {
        "id": "YLyjnphSkKhD"
      }
    },
    {
      "cell_type": "code",
      "source": [
        "#list values tuple form\n",
        "\n",
        "a=[[\"hi\"],[\"morning\"]]\n",
        "b=tuple(a)\n",
        "b"
      ],
      "metadata": {
        "colab": {
          "base_uri": "https://localhost:8080/"
        },
        "id": "5o8EX78ukIS_",
        "outputId": "46f57568-1c18-466f-b7af-62bac73d28cc"
      },
      "execution_count": 36,
      "outputs": [
        {
          "output_type": "execute_result",
          "data": {
            "text/plain": [
              "(['hi'], ['morning'])"
            ]
          },
          "metadata": {},
          "execution_count": 36
        }
      ]
    },
    {
      "cell_type": "code",
      "source": [
        "#tuple value list form\n",
        "\n",
        "a=((\"hey\",),(\"fine\",))\n",
        "b=list(a)\n",
        "b"
      ],
      "metadata": {
        "colab": {
          "base_uri": "https://localhost:8080/"
        },
        "id": "7va_FtlhlF4R",
        "outputId": "85fe4775-241a-4629-8407-07d5517df6fd"
      },
      "execution_count": 40,
      "outputs": [
        {
          "output_type": "execute_result",
          "data": {
            "text/plain": [
              "[('hey',), ('fine',)]"
            ]
          },
          "metadata": {},
          "execution_count": 40
        }
      ]
    },
    {
      "cell_type": "markdown",
      "source": [
        "16 .Variables that &quot;contain&quot; list values are not necessarily lists themselves. Instead, what do they\n",
        "contain?"
      ],
      "metadata": {
        "id": "sHz9lWHClhOP"
      }
    },
    {
      "cell_type": "code",
      "source": [
        "a=[1,2,3,5]\n",
        "print(type(a))\n",
        "print(id(a))\n"
      ],
      "metadata": {
        "colab": {
          "base_uri": "https://localhost:8080/"
        },
        "id": "KxLHqx_flPnz",
        "outputId": "0f7b8274-21e8-4561-dfb5-3468c064c3f3"
      },
      "execution_count": 42,
      "outputs": [
        {
          "output_type": "stream",
          "name": "stdout",
          "text": [
            "<class 'list'>\n",
            "140215554974496\n"
          ]
        }
      ]
    },
    {
      "cell_type": "markdown",
      "source": [
        "* Here variable 'a' is not a list it only contains the reference to the list created"
      ],
      "metadata": {
        "id": "UaVB-3mWl5Gr"
      }
    },
    {
      "cell_type": "markdown",
      "source": [
        "17. How do you distinguish between copy.copy() and copy.deepcopy()?"
      ],
      "metadata": {
        "id": "p9p4gvcgmGvy"
      }
    },
    {
      "cell_type": "code",
      "source": [
        "#copy.copy() #shallow copy\n",
        "import copy\n",
        "a=[1,2,[3,4],4,5]\n",
        "b=copy.copy(a)\n"
      ],
      "metadata": {
        "id": "4WH_NLvVl2c1"
      },
      "execution_count": 75,
      "outputs": []
    },
    {
      "cell_type": "code",
      "source": [
        "b[2][0]=100\n",
        "print(a)\n",
        "print(b)"
      ],
      "metadata": {
        "colab": {
          "base_uri": "https://localhost:8080/"
        },
        "id": "cY0lpe7ImTGL",
        "outputId": "a17c1cdb-8146-4c9e-94ff-a19fe6c532f9"
      },
      "execution_count": 76,
      "outputs": [
        {
          "output_type": "stream",
          "name": "stdout",
          "text": [
            "[1, 2, [100, 4], 4, 5]\n",
            "[1, 2, [100, 4], 4, 5]\n"
          ]
        }
      ]
    },
    {
      "cell_type": "markdown",
      "source": [
        "* Here  the values are not copied reference is made to point original lists so changing values in copied list will  affect original lists"
      ],
      "metadata": {
        "id": "EgxQYYxMmjs4"
      }
    },
    {
      "cell_type": "code",
      "source": [
        "#copy.deepcopy() #deep copy\n",
        "a=[1,2,[3,4],4,5]\n",
        "b=copy.deepcopy(a)\n"
      ],
      "metadata": {
        "id": "gg2jp4pwmeN1"
      },
      "execution_count": 78,
      "outputs": []
    },
    {
      "cell_type": "code",
      "source": [
        "b[2][0]=100\n",
        "print(b)"
      ],
      "metadata": {
        "colab": {
          "base_uri": "https://localhost:8080/"
        },
        "id": "i0GRDi0Rmupm",
        "outputId": "9a5acdb9-a23b-4312-cc2c-4f08277f34ae"
      },
      "execution_count": 79,
      "outputs": [
        {
          "output_type": "stream",
          "name": "stdout",
          "text": [
            "[1, 2, [100, 4], 4, 5]\n"
          ]
        }
      ]
    },
    {
      "cell_type": "code",
      "source": [
        "a"
      ],
      "metadata": {
        "colab": {
          "base_uri": "https://localhost:8080/"
        },
        "id": "vMma6UQYm8SL",
        "outputId": "cb23f5bc-13f9-4185-88e7-6482062d58a4"
      },
      "execution_count": 80,
      "outputs": [
        {
          "output_type": "execute_result",
          "data": {
            "text/plain": [
              "[1, 2, [3, 4], 4, 5]"
            ]
          },
          "metadata": {},
          "execution_count": 80
        }
      ]
    },
    {
      "cell_type": "markdown",
      "source": [
        "* Here  the values are only copied so changing values in copied list will  not affect original lists"
      ],
      "metadata": {
        "id": "0y30grH8oYmb"
      }
    }
  ]
}