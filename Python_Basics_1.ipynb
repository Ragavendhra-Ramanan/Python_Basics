{
  "nbformat": 4,
  "nbformat_minor": 0,
  "metadata": {
    "colab": {
      "name": "Python_Basics_1.ipynb",
      "provenance": []
    },
    "kernelspec": {
      "name": "python3",
      "display_name": "Python 3"
    },
    "language_info": {
      "name": "python"
    }
  },
  "cells": [
    {
      "cell_type": "markdown",
      "source": [
        "#Assignment 1"
      ],
      "metadata": {
        "id": "tiGdy_VieEsf"
      }
    },
    {
      "cell_type": "markdown",
      "source": [
        "01. In the below elements which of them are values or an expression? eg:- values can be\n",
        "integer or string and expressions will be mathematical operators.\n",
        "\n",
        "- *\n",
        "- 'hello'\n",
        "- -87.8\n",
        "- -\n",
        "- /\n",
        "- +\n",
        "- 6"
      ],
      "metadata": {
        "id": "0By_3KLqeHc-"
      }
    },
    {
      "cell_type": "markdown",
      "source": [
        "**SOLUTION**\n",
        "\n",
        "- Here the expressions are \n",
        "  - *\n",
        "  - -87.8\n",
        "  - -\n",
        "  - /\n",
        "  - +\n",
        "- Values are\n",
        "  - 'hello'\n",
        "  - 6"
      ],
      "metadata": {
        "id": "SR7ghYYXf7ej"
      }
    },
    {
      "cell_type": "markdown",
      "source": [
        "02. What is the difference between string and variable?"
      ],
      "metadata": {
        "id": "pCk2LH1Met-Y"
      }
    },
    {
      "cell_type": "markdown",
      "source": [
        "**SOLUTION**\n",
        "- *VARIABLE*\n",
        "   - It is a name given to the block of memory where the data is stored.\n",
        "- *STRING*\n",
        "   - It is one of the datatype in python.It is stored  in variable"
      ],
      "metadata": {
        "id": "GZysHOO6ghBu"
      }
    },
    {
      "cell_type": "markdown",
      "source": [
        "03. Describe three different data types."
      ],
      "metadata": {
        "id": "dzVxvpYsewH6"
      }
    },
    {
      "cell_type": "markdown",
      "source": [
        "**SOLUTION**\n",
        "- *INTEGER (NUMERIC)DATATYPE*\n",
        "  - They are Whole Numbers\n",
        "  - Example :1,55\n",
        "- *BOOLEAN DATATYPE*\n",
        "  - They are used  to represent logical values\n",
        "  - Example :True,False\n",
        "- *STRING DATATYPE*\n",
        "   - They are array of bytes representing unicode characters. "
      ],
      "metadata": {
        "id": "5RUVKQkNhqdu"
      }
    },
    {
      "cell_type": "code",
      "source": [
        "a=1\n",
        "print(\"{} is of type {}\".format(a,type(a)))\n",
        "b=True\n",
        "print(\"{} is of type {}\".format(b,type(b)))\n",
        "c=\"ineuron\"\n",
        "print(\"{} is of type {}\".format(c,type(c)))\n",
        "\n"
      ],
      "metadata": {
        "colab": {
          "base_uri": "https://localhost:8080/"
        },
        "id": "HE_QdggveyA2",
        "outputId": "02e98f24-7bf8-4ae8-aa76-f85bf7334c59"
      },
      "execution_count": 4,
      "outputs": [
        {
          "output_type": "stream",
          "name": "stdout",
          "text": [
            "1 is of type <class 'int'>\n",
            "True is of type <class 'bool'>\n",
            "ineuron is of type <class 'str'>\n"
          ]
        }
      ]
    },
    {
      "cell_type": "markdown",
      "source": [
        "04. What is an expression made up of? What do all expressions do?"
      ],
      "metadata": {
        "id": "_QbRxjvBeysI"
      }
    },
    {
      "cell_type": "markdown",
      "source": [
        "**SOLUTION**\n",
        "- Expression are made of operators and operands.\n",
        "- The Expression on the whole is interpreted to produce some other values"
      ],
      "metadata": {
        "id": "GFxMEvL8jDGb"
      }
    },
    {
      "cell_type": "code",
      "source": [
        "a=8\n",
        "b=10\n",
        "total=a+b\n",
        "print(total)"
      ],
      "metadata": {
        "colab": {
          "base_uri": "https://localhost:8080/"
        },
        "id": "m1d5xdwne3sq",
        "outputId": "ac80a8ac-5da8-4c13-9e88-cbc239002efa"
      },
      "execution_count": 6,
      "outputs": [
        {
          "output_type": "stream",
          "name": "stdout",
          "text": [
            "18\n"
          ]
        }
      ]
    },
    {
      "cell_type": "markdown",
      "source": [
        "- In the above situation the operator is '+' and operands are 8.10.\n",
        "- They tend to produce another value 18."
      ],
      "metadata": {
        "id": "53JftMp3jzg0"
      }
    },
    {
      "cell_type": "code",
      "source": [
        ""
      ],
      "metadata": {
        "id": "xEcboet_kEBG"
      },
      "execution_count": null,
      "outputs": []
    },
    {
      "cell_type": "markdown",
      "source": [
        "05. This assignment statements, like spam = 10. What is the difference between an\n",
        "expression and a statement?"
      ],
      "metadata": {
        "id": "c_dzTgzce6Du"
      }
    },
    {
      "cell_type": "markdown",
      "source": [
        "**SOLUTION**\n",
        "\n",
        "- **ASSIGNMENT** \n",
        "  - Assignment is the process of assigning a value to variables.\n",
        "- **EXPRESSION**\n",
        "  - It is a combination of operand and operators which yields new result.\n"
      ],
      "metadata": {
        "id": "lNXRucV_khgj"
      }
    },
    {
      "cell_type": "code",
      "source": [
        "#assignment\n",
        "spam=10\n",
        "\n",
        "#expression\n",
        "spam=10+3"
      ],
      "metadata": {
        "id": "6BSfFoObe5yh"
      },
      "execution_count": 7,
      "outputs": []
    },
    {
      "cell_type": "markdown",
      "source": [
        "06. After running the following code, what does the variable bacon contain?\n",
        "- bacon = 22\n",
        "- bacon + 1"
      ],
      "metadata": {
        "id": "T-AE6JHme7QN"
      }
    },
    {
      "cell_type": "code",
      "source": [
        "bacon=22\n",
        "bacon+1\n",
        "print(bacon)"
      ],
      "metadata": {
        "colab": {
          "base_uri": "https://localhost:8080/"
        },
        "id": "qDTmfd7me-0p",
        "outputId": "cba31ce1-69d1-41e7-b9c1-c9cf5545e111"
      },
      "execution_count": 8,
      "outputs": [
        {
          "output_type": "stream",
          "name": "stdout",
          "text": [
            "22\n"
          ]
        }
      ]
    },
    {
      "cell_type": "markdown",
      "source": [
        "- The variable bacon contains 22.\n",
        "- The increment does not happen at the stored variable \n"
      ],
      "metadata": {
        "id": "dnvmXl-SlIVt"
      }
    },
    {
      "cell_type": "markdown",
      "source": [
        "07. What should the values of the following two terms be?\n",
        "- &#39;spam&#39; + &#39;spamspam&#39;\n",
        "- &#39;spam&#39; * 3"
      ],
      "metadata": {
        "id": "KYxD1UCmfDXl"
      }
    },
    {
      "cell_type": "code",
      "source": [
        "print('spam'+'spamspam')\n",
        "print('spam'*3)"
      ],
      "metadata": {
        "colab": {
          "base_uri": "https://localhost:8080/"
        },
        "id": "jLRUBJZcfDrp",
        "outputId": "c8b38d1b-73e8-42ef-a5b2-50516eb7a8ab"
      },
      "execution_count": 9,
      "outputs": [
        {
          "output_type": "stream",
          "name": "stdout",
          "text": [
            "spamspamspam\n",
            "spamspamspam\n"
          ]
        }
      ]
    },
    {
      "cell_type": "markdown",
      "source": [
        "08. Why is eggs a valid variable name while 100 is invalid?"
      ],
      "metadata": {
        "id": "XXGnLt_IfHYm"
      }
    },
    {
      "cell_type": "markdown",
      "source": [
        "**SOLUTION**\n",
        "- 100 is not a valid variable name since the variable name should not start with digit .\n",
        "- egg is a valid variable name as it starts with alphabet"
      ],
      "metadata": {
        "id": "d1-XaO21mQB-"
      }
    },
    {
      "cell_type": "markdown",
      "source": [
        "09. What three functions can be used to get the integer, floating-point number, or string\n",
        "version of a value?"
      ],
      "metadata": {
        "id": "Ooa6plUafKaW"
      }
    },
    {
      "cell_type": "code",
      "source": [
        "a=1\n",
        "#get int\n",
        "print(\"Integer version\",int(a))\n",
        "\n",
        "#get float\n",
        "print(\"Float version\",float(a))\n",
        "\n",
        "#get string\n",
        "print(\"String version\",str(a))"
      ],
      "metadata": {
        "colab": {
          "base_uri": "https://localhost:8080/"
        },
        "id": "y_SLDJp-fM40",
        "outputId": "4b607d67-dcd1-4afc-9671-2752cc53211f"
      },
      "execution_count": 13,
      "outputs": [
        {
          "output_type": "stream",
          "name": "stdout",
          "text": [
            "Integer version 1\n",
            "Float version 1.0\n",
            "String version 1\n"
          ]
        }
      ]
    },
    {
      "cell_type": "markdown",
      "source": [
        "10. Why does this expression cause an error? How can you fix it?\n",
        "- &#39;I have eaten &#39; + 99 + &#39; burritos.&#39;"
      ],
      "metadata": {
        "id": "Fc9Hay-LfOx_"
      }
    },
    {
      "cell_type": "markdown",
      "source": [
        "**SOLUTION**\n",
        "- The error is due to concatenation which can happen only if all are strings but here 99 is integer datatype."
      ],
      "metadata": {
        "id": "rfPU9qBqnCQi"
      }
    },
    {
      "cell_type": "code",
      "source": [
        "print(\"I have eaten \"+str(99)+\" buttons\")"
      ],
      "metadata": {
        "colab": {
          "base_uri": "https://localhost:8080/"
        },
        "id": "PJzDTPoefPfC",
        "outputId": "db4b2e1a-9288-4c0b-ef17-564463d88a44"
      },
      "execution_count": 11,
      "outputs": [
        {
          "output_type": "stream",
          "name": "stdout",
          "text": [
            "I have eaten 99 buttons\n"
          ]
        }
      ]
    }
  ]
}