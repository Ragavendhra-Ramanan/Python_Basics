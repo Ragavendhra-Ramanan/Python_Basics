{
  "nbformat": 4,
  "nbformat_minor": 0,
  "metadata": {
    "colab": {
      "provenance": [],
      "authorship_tag": "ABX9TyOpYgIWyXCYSMs/APNr5bO5",
      "include_colab_link": true
    },
    "kernelspec": {
      "name": "python3",
      "display_name": "Python 3"
    },
    "language_info": {
      "name": "python"
    }
  },
  "cells": [
    {
      "cell_type": "markdown",
      "metadata": {
        "id": "view-in-github",
        "colab_type": "text"
      },
      "source": [
        "<a href=\"https://colab.research.google.com/github/Ragavendhra-Ramanan/Python_Basics/blob/main/Python25.ipynb\" target=\"_parent\"><img src=\"https://colab.research.google.com/assets/colab-badge.svg\" alt=\"Open In Colab\"/></a>"
      ]
    },
    {
      "cell_type": "markdown",
      "source": [
        "01 .What is the difference between enclosing a list comprehension in square brackets and\n",
        "parentheses?"
      ],
      "metadata": {
        "id": "-oVwQDetrlp-"
      }
    },
    {
      "cell_type": "markdown",
      "source": [
        "* List comprehension in square brackets returns list.\n",
        "* List comprehension in parantheses returns a generator object."
      ],
      "metadata": {
        "id": "QAtd7ucOrp4X"
      }
    },
    {
      "cell_type": "markdown",
      "source": [
        "02 .What is the relationship between generators and iterators?"
      ],
      "metadata": {
        "id": "41ey3keyr_Md"
      }
    },
    {
      "cell_type": "markdown",
      "source": [
        "* generator is a function that yields seqeunce of values.\n",
        "* Using iterator next() we can get next element of generator.\n",
        "* Generator is a subcategory of iterator."
      ],
      "metadata": {
        "id": "lk2vmA09sfEL"
      }
    },
    {
      "cell_type": "markdown",
      "source": [
        "03 .What are the signs that a function is a generator function?"
      ],
      "metadata": {
        "id": "-NT71XEust71"
      }
    },
    {
      "cell_type": "markdown",
      "source": [
        "* Function is a generator when it has yield statement."
      ],
      "metadata": {
        "id": "1J_hIyWJswy4"
      }
    },
    {
      "cell_type": "markdown",
      "source": [
        "04 .What is the purpose of a yield statement?"
      ],
      "metadata": {
        "id": "LhfpVIxps6O-"
      }
    },
    {
      "cell_type": "markdown",
      "source": [
        "* Instead of returning a value to the caller yield statement returns generator object."
      ],
      "metadata": {
        "id": "DdYD2kTWtABS"
      }
    },
    {
      "cell_type": "markdown",
      "source": [
        "05 .What is the relationship between map calls and list comprehensions? Make a comparison and\n",
        "contrast between the two."
      ],
      "metadata": {
        "id": "S8pepwIVtG0Y"
      }
    },
    {
      "cell_type": "markdown",
      "source": [
        "* Map calls does not return list but its faster for calling same function.\n",
        "* List comprehension is slower and returns list .It is easier to understand "
      ],
      "metadata": {
        "id": "N8eM1Z_xtJ3H"
      }
    },
    {
      "cell_type": "code",
      "execution_count": null,
      "metadata": {
        "id": "UVfuag1loLgo"
      },
      "outputs": [],
      "source": []
    }
  ]
}