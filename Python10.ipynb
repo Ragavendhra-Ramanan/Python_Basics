{
  "nbformat": 4,
  "nbformat_minor": 0,
  "metadata": {
    "colab": {
      "provenance": [],
      "authorship_tag": "ABX9TyNoeF12RoUBEz7UWdtuJj4u",
      "include_colab_link": true
    },
    "kernelspec": {
      "name": "python3",
      "display_name": "Python 3"
    },
    "language_info": {
      "name": "python"
    }
  },
  "cells": [
    {
      "cell_type": "markdown",
      "metadata": {
        "id": "view-in-github",
        "colab_type": "text"
      },
      "source": [
        "<a href=\"https://colab.research.google.com/github/Ragavendhra-Ramanan/Python_Basics/blob/main/Python10.ipynb\" target=\"_parent\"><img src=\"https://colab.research.google.com/assets/colab-badge.svg\" alt=\"Open In Colab\"/></a>"
      ]
    },
    {
      "cell_type": "markdown",
      "source": [
        "01 .How do you distinguish between shutil.copy() and shutil.copytree()?"
      ],
      "metadata": {
        "id": "NVat95M6FmCV"
      }
    },
    {
      "cell_type": "markdown",
      "source": [
        "* Shutil.copy() copies all files\n",
        "* shutil.copytree() copies all files and folders contained in it"
      ],
      "metadata": {
        "id": "F73a3O6OFo1F"
      }
    },
    {
      "cell_type": "markdown",
      "source": [
        "02 .What function is used to rename files??"
      ],
      "metadata": {
        "id": "ltCFNqlCFxhh"
      }
    },
    {
      "cell_type": "markdown",
      "source": [
        "* os.rename(oldname,newname) renames the file\n",
        "* shutil.move()"
      ],
      "metadata": {
        "id": "m5d7zs0ZF03S"
      }
    },
    {
      "cell_type": "markdown",
      "source": [
        "03 .What is the difference between the delete functions in the send2trash and shutil modules?"
      ],
      "metadata": {
        "id": "fHd2Vwt9F9ex"
      }
    },
    {
      "cell_type": "markdown",
      "source": [
        "* send2trash.send2trash() method deletes and sends to recycle bin\n",
        "* shutle.rmtree() permanently deletes the files"
      ],
      "metadata": {
        "id": "Xbe8lHbHGMnk"
      }
    },
    {
      "cell_type": "markdown",
      "source": [
        "04 .ZipFile objects have a close() method just like File objects’ close() method. What ZipFile method is\n",
        "equivalent to File objects’ open() method?"
      ],
      "metadata": {
        "id": "l_IBvHFRGaQT"
      }
    },
    {
      "cell_type": "markdown",
      "source": [
        "* from zipfile import ZipFile\n",
        "* The zipfile. ZipFile() function is equivalent to the open()"
      ],
      "metadata": {
        "id": "WCEcA5HKGoXK"
      }
    },
    {
      "cell_type": "markdown",
      "source": [
        "05 .Create a programme that searches a folder tree for files with a certain file extension (such as .pdf\n",
        "or .jpg). Copy these files from whatever location they are in to a new folder."
      ],
      "metadata": {
        "id": "eygFi_95G_oW"
      }
    },
    {
      "cell_type": "code",
      "source": [
        "for foldername,folders,files in os.walk(folder):\n",
        "  for filename in files :\n",
        "    if filename.endswith(\".jpg\") or filename.endswith(\".pdf\"):\n",
        "      shutil.move(filename,destination)"
      ],
      "metadata": {
        "id": "85tjR9PKI4Jl"
      },
      "execution_count": null,
      "outputs": []
    }
  ]
}