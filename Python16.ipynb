{
  "nbformat": 4,
  "nbformat_minor": 0,
  "metadata": {
    "colab": {
      "provenance": [],
      "authorship_tag": "ABX9TyMeo43keEF8ec4XFHC6t7vS",
      "include_colab_link": true
    },
    "kernelspec": {
      "name": "python3",
      "display_name": "Python 3"
    },
    "language_info": {
      "name": "python"
    }
  },
  "cells": [
    {
      "cell_type": "markdown",
      "metadata": {
        "id": "view-in-github",
        "colab_type": "text"
      },
      "source": [
        "<a href=\"https://colab.research.google.com/github/Ragavendhra-Ramanan/Python_Basics/blob/main/Python16.ipynb\" target=\"_parent\"><img src=\"https://colab.research.google.com/assets/colab-badge.svg\" alt=\"Open In Colab\"/></a>"
      ]
    },
    {
      "cell_type": "markdown",
      "source": [
        "01 .1. Create a list called years_list, starting with the year of your birth, and each year thereafter until\n",
        "the year of your fifth birthday. For example, if you were born in 1980. the list would be years_list =\n",
        "[1980, 1981, 1982, 1983, 1984, 1985]."
      ],
      "metadata": {
        "id": "mUkJgKmGj11S"
      }
    },
    {
      "cell_type": "code",
      "execution_count": 1,
      "metadata": {
        "colab": {
          "base_uri": "https://localhost:8080/"
        },
        "id": "EMQNtoKOjy_4",
        "outputId": "ec3facf1-ea46-4fdf-afb2-13988b7595e3"
      },
      "outputs": [
        {
          "name": "stdout",
          "output_type": "stream",
          "text": [
            "Enter year1980\n"
          ]
        }
      ],
      "source": [
        "year_birth=int(input(\"Enter year\"))\n",
        "years_list=[i for i in range(year_birth,year_birth+6)]"
      ]
    },
    {
      "cell_type": "code",
      "source": [
        "years_list"
      ],
      "metadata": {
        "colab": {
          "base_uri": "https://localhost:8080/"
        },
        "id": "cSffreFakWBK",
        "outputId": "30fa5d29-e2de-4a53-b270-86c71ed5f024"
      },
      "execution_count": 2,
      "outputs": [
        {
          "output_type": "execute_result",
          "data": {
            "text/plain": [
              "[1980, 1981, 1982, 1983, 1984, 1985]"
            ]
          },
          "metadata": {},
          "execution_count": 2
        }
      ]
    },
    {
      "cell_type": "markdown",
      "source": [
        "* \n",
        "2 . In which year in years_list was your third birthday? Remember, you were 0 years of age for your\n",
        "first year.\n",
        "* \n",
        "03 .In the years list, which year were you the oldest?"
      ],
      "metadata": {
        "id": "7MypdB0zkZmJ"
      }
    },
    {
      "cell_type": "code",
      "source": [
        "#02.\n",
        "print(\"Third Birthday\",years_list[2])"
      ],
      "metadata": {
        "colab": {
          "base_uri": "https://localhost:8080/"
        },
        "id": "5vm5WH3RkY1t",
        "outputId": "435525e3-0323-4ff6-ed13-38c3500e6c39"
      },
      "execution_count": 3,
      "outputs": [
        {
          "output_type": "stream",
          "name": "stdout",
          "text": [
            "Third Birthday 1982\n"
          ]
        }
      ]
    },
    {
      "cell_type": "code",
      "source": [
        "#03 .\n",
        "print(\"Oldest \",years_list[-1])"
      ],
      "metadata": {
        "colab": {
          "base_uri": "https://localhost:8080/"
        },
        "id": "gTuqgde6ksSi",
        "outputId": "1af8d727-55b8-4219-deda-8529cafe43a2"
      },
      "execution_count": 4,
      "outputs": [
        {
          "output_type": "stream",
          "name": "stdout",
          "text": [
            "Oldest  1985\n"
          ]
        }
      ]
    },
    {
      "cell_type": "markdown",
      "source": [
        "04 .Make a list called things with these three strings as elements: &quot;mozzarella&quot;, &quot;cinderella&quot;,\n",
        "&quot;salmonella&quot;."
      ],
      "metadata": {
        "id": "gIf-qWA_kxLP"
      }
    },
    {
      "cell_type": "code",
      "source": [
        "things=[\"mozzaerlla\",\"cindrella\",\"salmonella\"]"
      ],
      "metadata": {
        "id": "yIyaoUgMkwXm"
      },
      "execution_count": 5,
      "outputs": []
    },
    {
      "cell_type": "markdown",
      "source": [
        "05 .Capitalize the element in things that refers to a person and then print the list. Did it change the\n",
        "element in the list?"
      ],
      "metadata": {
        "id": "uV3PBttuk_pe"
      }
    },
    {
      "cell_type": "code",
      "source": [
        "#yes list will change that element\n",
        "things=list(map(lambda x:x.replace(\"cindrella\",\"CINDRELLA\"),things))\n",
        "things"
      ],
      "metadata": {
        "colab": {
          "base_uri": "https://localhost:8080/"
        },
        "id": "1My20-Z9k8Z3",
        "outputId": "54a61cc6-efe0-428b-81a9-84889e8a2fe4"
      },
      "execution_count": 8,
      "outputs": [
        {
          "output_type": "execute_result",
          "data": {
            "text/plain": [
              "['mozzaerlla', 'CINDRELLA', 'salmonella']"
            ]
          },
          "metadata": {},
          "execution_count": 8
        }
      ]
    },
    {
      "cell_type": "markdown",
      "source": [
        "06 .Make a surprise list with the elements &quot;Groucho,&quot; &quot;Chico,&quot; and &quot;Harpo.&quot;"
      ],
      "metadata": {
        "id": "9DdGpgvZlbBi"
      }
    },
    {
      "cell_type": "code",
      "source": [
        "surprise=[\"Groucho\",\"Chico\",\"Harpo\"]"
      ],
      "metadata": {
        "id": "shyAohPFlNqQ"
      },
      "execution_count": 13,
      "outputs": []
    },
    {
      "cell_type": "markdown",
      "source": [
        "07 .Lowercase the last element of the surprise list, reverse it, and then capitalize it."
      ],
      "metadata": {
        "id": "-CpWkCYLl3Gl"
      }
    },
    {
      "cell_type": "code",
      "source": [
        "ans=surprise[-1].lower()\n",
        "res=reversed(ans)\n",
        "surprise[-1]=\"\".join(res).upper()"
      ],
      "metadata": {
        "id": "wnHn_5JZliyp"
      },
      "execution_count": 14,
      "outputs": []
    },
    {
      "cell_type": "code",
      "source": [
        "surprise"
      ],
      "metadata": {
        "colab": {
          "base_uri": "https://localhost:8080/"
        },
        "id": "Sl9N7kOqmMbI",
        "outputId": "1ca47068-f08f-4e4e-a9dc-881e64489305"
      },
      "execution_count": 15,
      "outputs": [
        {
          "output_type": "execute_result",
          "data": {
            "text/plain": [
              "['Groucho', 'Chico', 'OPRAH']"
            ]
          },
          "metadata": {},
          "execution_count": 15
        }
      ]
    },
    {
      "cell_type": "markdown",
      "source": [
        "08 .Make an English-to-French dictionary called e2f and print it. Here are your starter words: dog is\n",
        "chien, cat is chat, and walrus is morse."
      ],
      "metadata": {
        "id": "R597ng9LmYzR"
      }
    },
    {
      "cell_type": "code",
      "source": [
        "e2f={\"dog\":\"chien\",\"cat\":\"chat\",\"walrus\":\"morse\"}\n",
        "for i,j in e2f.items():\n",
        "  print(i +\" is \"+j)"
      ],
      "metadata": {
        "colab": {
          "base_uri": "https://localhost:8080/"
        },
        "id": "u7rxsqIJmNEh",
        "outputId": "3faae0d5-3c0e-4579-a5c8-dab247efc5de"
      },
      "execution_count": 16,
      "outputs": [
        {
          "output_type": "stream",
          "name": "stdout",
          "text": [
            "dog is chien\n",
            "cat is chat\n",
            "walrus is morse\n"
          ]
        }
      ]
    },
    {
      "cell_type": "markdown",
      "source": [
        "09 .Write the French word for walrus in your three-word dictionary e2f."
      ],
      "metadata": {
        "id": "TvqcP6WRmsTx"
      }
    },
    {
      "cell_type": "code",
      "source": [
        "e2f[\"walrus\"]"
      ],
      "metadata": {
        "colab": {
          "base_uri": "https://localhost:8080/",
          "height": 35
        },
        "id": "3qoqD0t_mrGu",
        "outputId": "6a49acd8-4dbd-435a-fb71-ecd0b36eb21c"
      },
      "execution_count": 17,
      "outputs": [
        {
          "output_type": "execute_result",
          "data": {
            "text/plain": [
              "'morse'"
            ],
            "application/vnd.google.colaboratory.intrinsic+json": {
              "type": "string"
            }
          },
          "metadata": {},
          "execution_count": 17
        }
      ]
    },
    {
      "cell_type": "markdown",
      "source": [
        "10 .Make a French-to-English dictionary called f2e from e2f. Use the items method."
      ],
      "metadata": {
        "id": "jSsnEQO9m0xD"
      }
    },
    {
      "cell_type": "code",
      "source": [
        "f2e={}\n",
        "for i,j in e2f.items():\n",
        "  f2e[j]=i\n",
        "\n",
        "f2e"
      ],
      "metadata": {
        "colab": {
          "base_uri": "https://localhost:8080/"
        },
        "id": "ugwk7DiVmz56",
        "outputId": "c6a8e54b-c97b-4084-ca43-8f60aa970d68"
      },
      "execution_count": 19,
      "outputs": [
        {
          "output_type": "execute_result",
          "data": {
            "text/plain": [
              "{'chien': 'dog', 'chat': 'cat', 'morse': 'walrus'}"
            ]
          },
          "metadata": {},
          "execution_count": 19
        }
      ]
    },
    {
      "cell_type": "markdown",
      "source": [
        "11 .Print the English version of the French word chien using f2e."
      ],
      "metadata": {
        "id": "wstAuEQCnE35"
      }
    },
    {
      "cell_type": "code",
      "source": [
        "f2e[\"chien\"]"
      ],
      "metadata": {
        "colab": {
          "base_uri": "https://localhost:8080/",
          "height": 35
        },
        "id": "Zp_RzhaGnEY3",
        "outputId": "c9b44248-9304-4949-d0e5-3fc83e39651e"
      },
      "execution_count": 20,
      "outputs": [
        {
          "output_type": "execute_result",
          "data": {
            "text/plain": [
              "'dog'"
            ],
            "application/vnd.google.colaboratory.intrinsic+json": {
              "type": "string"
            }
          },
          "metadata": {},
          "execution_count": 20
        }
      ]
    },
    {
      "cell_type": "markdown",
      "source": [
        "12 .Make and print a set of English words from the keys in e2f."
      ],
      "metadata": {
        "id": "_c9AyCaUnM87"
      }
    },
    {
      "cell_type": "code",
      "source": [
        "for i in e2f.keys():\n",
        "  print(i)"
      ],
      "metadata": {
        "colab": {
          "base_uri": "https://localhost:8080/"
        },
        "id": "aTOX0pEtnMNz",
        "outputId": "1d17c7fe-c52c-4e8e-f1f3-34d0e483d2f4"
      },
      "execution_count": 21,
      "outputs": [
        {
          "output_type": "stream",
          "name": "stdout",
          "text": [
            "dog\n",
            "cat\n",
            "walrus\n"
          ]
        }
      ]
    },
    {
      "cell_type": "markdown",
      "source": [
        "13 .Make a multilevel dictionary called life. Use these strings for the topmost keys: &#39;animals&#39;, &#39;plants&#39;,\n",
        "and &#39;other&#39;. Make the &#39;animals&#39; key refer to another dictionary with the keys &#39;cats&#39;, &#39;octopi&#39;, and\n",
        "&#39;emus&#39;. Make the &#39;cats&#39; key refer to a list of strings with the values &#39;Henri&#39;, &#39;Grumpy&#39;, and &#39;Lucy&#39;.\n",
        "Make all the other keys refer to empty dictionaries."
      ],
      "metadata": {
        "id": "CfqWrZCCnWVA"
      }
    },
    {
      "cell_type": "code",
      "source": [
        "life={\"animals\":{\"cats\":[\"Henri\",\"Grumpy\",\"Lucky\"],\"octopi\":{},\"emus\":{}},\"plants\":{},\"others\":{}}\n",
        "life"
      ],
      "metadata": {
        "colab": {
          "base_uri": "https://localhost:8080/"
        },
        "id": "5WAI70o5nVwt",
        "outputId": "b30158e7-e1c2-4be9-a727-b89ee48d6133"
      },
      "execution_count": 22,
      "outputs": [
        {
          "output_type": "execute_result",
          "data": {
            "text/plain": [
              "{'animals': {'cats': ['Henri', 'Grumpy', 'Lucky'], 'octopi': {}, 'emus': {}},\n",
              " 'plants': {},\n",
              " 'others': {}}"
            ]
          },
          "metadata": {},
          "execution_count": 22
        }
      ]
    },
    {
      "cell_type": "markdown",
      "source": [
        "14 .Print the top-level keys of life."
      ],
      "metadata": {
        "id": "ONNgkMzYnyHn"
      }
    },
    {
      "cell_type": "code",
      "source": [
        "print(life.keys())"
      ],
      "metadata": {
        "colab": {
          "base_uri": "https://localhost:8080/"
        },
        "id": "VnilXiBcnuMp",
        "outputId": "389c89f7-15bb-42cf-efc0-5b1d02df8e64"
      },
      "execution_count": 23,
      "outputs": [
        {
          "output_type": "stream",
          "name": "stdout",
          "text": [
            "dict_keys(['animals', 'plants', 'others'])\n"
          ]
        }
      ]
    },
    {
      "cell_type": "markdown",
      "source": [
        "15 .Print the keys for life[&#39;animals&#39;]."
      ],
      "metadata": {
        "id": "_mPQ0YePn2am"
      }
    },
    {
      "cell_type": "code",
      "source": [
        "life[\"animals\"].keys()"
      ],
      "metadata": {
        "colab": {
          "base_uri": "https://localhost:8080/"
        },
        "id": "SOwDWSuxn1Ku",
        "outputId": "08f53b7f-09e1-4e38-f63e-bd8e477ed3b4"
      },
      "execution_count": 25,
      "outputs": [
        {
          "output_type": "execute_result",
          "data": {
            "text/plain": [
              "dict_keys(['cats', 'octopi', 'emus'])"
            ]
          },
          "metadata": {},
          "execution_count": 25
        }
      ]
    },
    {
      "cell_type": "markdown",
      "source": [
        "16 .Print the values for life[&#39;animals&#39;][&#39;cats&#39;]"
      ],
      "metadata": {
        "id": "PQWgVO6Xn_3f"
      }
    },
    {
      "cell_type": "code",
      "source": [
        "life[\"animals\"][\"cats\"]"
      ],
      "metadata": {
        "colab": {
          "base_uri": "https://localhost:8080/"
        },
        "id": "ARMKedPgn8x6",
        "outputId": "188ab8d9-001b-4263-ccf0-ac064e124e45"
      },
      "execution_count": 26,
      "outputs": [
        {
          "output_type": "execute_result",
          "data": {
            "text/plain": [
              "['Henri', 'Grumpy', 'Lucky']"
            ]
          },
          "metadata": {},
          "execution_count": 26
        }
      ]
    }
  ]
}