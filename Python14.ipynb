{
  "nbformat": 4,
  "nbformat_minor": 0,
  "metadata": {
    "colab": {
      "provenance": [],
      "authorship_tag": "ABX9TyPUV+MqeCxKkm3Rqhv12I0q",
      "include_colab_link": true
    },
    "kernelspec": {
      "name": "python3",
      "display_name": "Python 3"
    },
    "language_info": {
      "name": "python"
    }
  },
  "cells": [
    {
      "cell_type": "markdown",
      "metadata": {
        "id": "view-in-github",
        "colab_type": "text"
      },
      "source": [
        "<a href=\"https://colab.research.google.com/github/Ragavendhra-Ramanan/Python_Basics/blob/main/Python14.ipynb\" target=\"_parent\"><img src=\"https://colab.research.google.com/assets/colab-badge.svg\" alt=\"Open In Colab\"/></a>"
      ]
    },
    {
      "cell_type": "markdown",
      "source": [
        "01 .What does RGBA stand for?\n"
      ],
      "metadata": {
        "id": "2qr0x8k0R-VE"
      }
    },
    {
      "cell_type": "markdown",
      "source": [
        "* Red,Green,Blue,Alpha\n"
      ],
      "metadata": {
        "id": "vtdmX9njSATt"
      }
    },
    {
      "cell_type": "markdown",
      "source": [
        "02 .From the Pillow module, how do you get the RGBA value of any images?"
      ],
      "metadata": {
        "id": "GFZ7RK4sSDsF"
      }
    },
    {
      "cell_type": "markdown",
      "source": [
        "* from PIL import ImageColor\n",
        "* ImageColor.getcolor(image,'RGBA')"
      ],
      "metadata": {
        "id": "TQqbA91JSKb-"
      }
    },
    {
      "cell_type": "markdown",
      "source": [
        "03 .What is a box tuple, and how does it work?"
      ],
      "metadata": {
        "id": "OoZuj2asSTo3"
      }
    },
    {
      "cell_type": "markdown",
      "source": [
        "* Box -Tuple is a tuple containing 4 integers\n",
        "* (left,top,right,bottom)\n",
        "* left =left most image point ( x-cordinate)\n",
        "* top = top most image point(y -coordinate)\n",
        "* right = right most image point(x- coordinate)\n",
        "* bottom = bottom most image point (y-coordinate)\n"
      ],
      "metadata": {
        "id": "g6C4GMi5Sq24"
      }
    },
    {
      "cell_type": "markdown",
      "source": [
        "04 .Use your image and load in notebook then, How can you find out the width and height of an\n",
        "Image object?"
      ],
      "metadata": {
        "id": "U2oXNiBFSv2X"
      }
    },
    {
      "cell_type": "markdown",
      "source": [
        "* from PIL import Image\n",
        "* img=Image.open(filepath)\n",
        "* width=img.width\n",
        "* height=img.height"
      ],
      "metadata": {
        "id": "HkgubzwkS7HE"
      }
    },
    {
      "cell_type": "markdown",
      "source": [
        "05 .What method would you call to get Image object for a 100×100 image, excluding the lower-left\n",
        "quarter of it?"
      ],
      "metadata": {
        "id": "-E2haneZS8E2"
      }
    },
    {
      "cell_type": "markdown",
      "source": [
        "* org= Image.new('RGBA',(100,100),'green') #100*100 green picture\n",
        "* img= Image.new('RGBA', (25, 25)) #creates transparent image of 25*25\n",
        "* org.paste(img,(0,75)) #masks lower half"
      ],
      "metadata": {
        "id": "6MHhFaBcTUvM"
      }
    },
    {
      "cell_type": "markdown",
      "source": [
        "06 .After making changes to an Image object, how could you save it as an image file?"
      ],
      "metadata": {
        "id": "Kx3UGMD6W3h5"
      }
    },
    {
      "cell_type": "markdown",
      "source": [
        "* image.save(\"newimage.png\")"
      ],
      "metadata": {
        "id": "pUOWVGWRW65C"
      }
    },
    {
      "cell_type": "markdown",
      "source": [
        "07 .What module contains Pillow’s shape-drawing code?"
      ],
      "metadata": {
        "id": "6Ul3OsF0XB_7"
      }
    },
    {
      "cell_type": "markdown",
      "source": [
        "* ImageDraw\n",
        "* from PIL import ImageDraw"
      ],
      "metadata": {
        "id": "xL3067mKXRIY"
      }
    },
    {
      "cell_type": "markdown",
      "source": [
        "08 .Image objects do not have drawing methods. What kind of object does? How do you get this kind\n",
        "of object?"
      ],
      "metadata": {
        "id": "Ym1IlXFiXWqu"
      }
    },
    {
      "cell_type": "markdown",
      "source": [
        "* ImageDraw object have drawing methods like Line etc.\n",
        "* We can import it from PIL \n",
        "* Example"
      ],
      "metadata": {
        "id": "Fj3KLWC0XvVu"
      }
    },
    {
      "cell_type": "markdown",
      "source": [
        "* from PIL import Image, ImageDraw\n",
        "* im = Image.new('RGBA', (200, 200), 'white')\n",
        "* draw = ImageDraw.Draw(im)\n"
      ],
      "metadata": {
        "id": "M7f-jH7rXk57"
      }
    }
  ]
}