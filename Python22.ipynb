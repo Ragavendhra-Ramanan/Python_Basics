{
  "nbformat": 4,
  "nbformat_minor": 0,
  "metadata": {
    "colab": {
      "provenance": [],
      "authorship_tag": "ABX9TyOGz1nHNaNzgWIMTlYAr3oH",
      "include_colab_link": true
    },
    "kernelspec": {
      "name": "python3",
      "display_name": "Python 3"
    },
    "language_info": {
      "name": "python"
    }
  },
  "cells": [
    {
      "cell_type": "markdown",
      "metadata": {
        "id": "view-in-github",
        "colab_type": "text"
      },
      "source": [
        "<a href=\"https://colab.research.google.com/github/Ragavendhra-Ramanan/Python_Basics/blob/main/Python22.ipynb\" target=\"_parent\"><img src=\"https://colab.research.google.com/assets/colab-badge.svg\" alt=\"Open In Colab\"/></a>"
      ]
    },
    {
      "cell_type": "markdown",
      "source": [
        "01 .1. What is the result of the code, and explain?\n",
        "\n",
        "&gt;&gt;&gt; X = &#39;iNeuron&#39;\n",
        "&gt;&gt;&gt; def func():\n",
        "print(X)\n",
        "\n",
        "&gt;&gt;&gt; func()"
      ],
      "metadata": {
        "id": "zPttNO-x0mrU"
      }
    },
    {
      "cell_type": "code",
      "execution_count": 2,
      "metadata": {
        "colab": {
          "base_uri": "https://localhost:8080/"
        },
        "id": "V9E2S9YY0jW6",
        "outputId": "bc5a0165-5de3-4dfd-bf4c-de0a117e6873"
      },
      "outputs": [
        {
          "output_type": "stream",
          "name": "stdout",
          "text": [
            "iNeuron\n"
          ]
        }
      ],
      "source": [
        "X='iNeuron'\n",
        "def func():\n",
        "  print(X)\n",
        "func()"
      ]
    },
    {
      "cell_type": "markdown",
      "source": [
        "* It prints the global X since there is no local varibale named X"
      ],
      "metadata": {
        "id": "bCS1WisR1Bt9"
      }
    },
    {
      "cell_type": "markdown",
      "source": [
        "02 .What is the result of the code, and explain?\n",
        "\n",
        "&gt;&gt;&gt; X = &#39;iNeuron&#39;\n",
        "&gt;&gt;&gt; def func():\n",
        "X = &#39;NI!&#39;\n",
        "\n",
        "&gt;&gt;&gt; func()\n",
        "&gt;&gt;&gt; print(X)"
      ],
      "metadata": {
        "id": "nhq0gFd00zRO"
      }
    },
    {
      "cell_type": "code",
      "source": [
        "X='iNeuron'\n",
        "def func():\n",
        "  X=\"NI!\"\n",
        "func()\n",
        "print(X)"
      ],
      "metadata": {
        "colab": {
          "base_uri": "https://localhost:8080/"
        },
        "id": "iqDm_SCN0y0X",
        "outputId": "b7bd2b7e-1f9a-4eae-e09c-43c792fd03ee"
      },
      "execution_count": 3,
      "outputs": [
        {
          "output_type": "stream",
          "name": "stdout",
          "text": [
            "iNeuron\n"
          ]
        }
      ]
    },
    {
      "cell_type": "markdown",
      "source": [
        "* It prints the global x since Print X is defined outside of the function and hence local variable X losses its scope outside function"
      ],
      "metadata": {
        "id": "pJPOoHEi1MkB"
      }
    },
    {
      "cell_type": "markdown",
      "source": [
        "03 .What does this code print, and why?\n",
        "\n",
        "&gt;&gt;&gt; X = &#39;iNeuron&#39;\n",
        "&gt;&gt;&gt; def func():\n",
        "X = &#39;NI&#39;\n",
        "print(X)\n",
        "\n",
        "&gt;&gt;&gt; func()\n",
        "&gt;&gt;&gt; print(X)"
      ],
      "metadata": {
        "id": "vGeJyyit1cNd"
      }
    },
    {
      "cell_type": "code",
      "source": [
        "X='iNeuron'\n",
        "def func():\n",
        "  X=\"NI!\"\n",
        "  print(X)\n",
        "func()\n",
        "print(X)"
      ],
      "metadata": {
        "colab": {
          "base_uri": "https://localhost:8080/"
        },
        "id": "IHuSibXc0-jv",
        "outputId": "ba6a0449-6bdf-47ef-b37c-95327ba91560"
      },
      "execution_count": 4,
      "outputs": [
        {
          "output_type": "stream",
          "name": "stdout",
          "text": [
            "NI!\n",
            "iNeuron\n"
          ]
        }
      ]
    },
    {
      "cell_type": "markdown",
      "source": [
        "* Print x defined inside funnction prints \"NI!\" since global variable is overriden.\n",
        "* Print x outside function prints \"iNeuron\" since the local varibale scope is lost"
      ],
      "metadata": {
        "id": "WkuhHBX31juf"
      }
    },
    {
      "cell_type": "markdown",
      "source": [
        "04 .What output does this code produce? Why?\n",
        "\n",
        "&gt;&gt;&gt; X = &#39;iNeuron&#39;\n",
        "&gt;&gt;&gt; def func():\n",
        "global X\n",
        "X = &#39;NI&#39;\n",
        "\n",
        "&gt;&gt;&gt; func()\n",
        "&gt;&gt;&gt; print(X)"
      ],
      "metadata": {
        "id": "8nlYDG4110zz"
      }
    },
    {
      "cell_type": "code",
      "source": [
        "X='iNeuron'\n",
        "def func():\n",
        "  global X\n",
        "  X=\"NI!\"\n",
        "func()\n",
        "print(X)"
      ],
      "metadata": {
        "colab": {
          "base_uri": "https://localhost:8080/"
        },
        "id": "kgANq87e1i9D",
        "outputId": "2834e870-6165-45a0-b3c0-22902ad7dcdd"
      },
      "execution_count": 5,
      "outputs": [
        {
          "output_type": "stream",
          "name": "stdout",
          "text": [
            "NI!\n"
          ]
        }
      ]
    },
    {
      "cell_type": "markdown",
      "source": [
        "* Using global keyword we set global X as NI! and hence its printed outside the function"
      ],
      "metadata": {
        "id": "FRZNb6Po1-hS"
      }
    },
    {
      "cell_type": "markdown",
      "source": [
        "05 .What about this code—what’s the output, and why?\n",
        "\n",
        "&gt;&gt;&gt; X = &#39;iNeuron&#39;\n",
        "&gt;&gt;&gt; def func():\n",
        "X = &#39;NI&#39;\n",
        "def nested():\n",
        "print(X)\n",
        "nested()\n",
        "\n",
        "&gt;&gt;&gt; func()\n",
        "&gt;&gt;&gt; X"
      ],
      "metadata": {
        "id": "BI_UPQRd2GV_"
      }
    },
    {
      "cell_type": "code",
      "source": [
        "X='iNeuron'\n",
        "def func():\n",
        "  X=\"NI!\"\n",
        "  def nested():\n",
        "    print(X)\n",
        "  nested()\n",
        "func()\n",
        "print(X)"
      ],
      "metadata": {
        "colab": {
          "base_uri": "https://localhost:8080/"
        },
        "id": "G28hNacj18f7",
        "outputId": "484fdbb3-3e14-48e8-8af6-7f11f338d93e"
      },
      "execution_count": 6,
      "outputs": [
        {
          "output_type": "stream",
          "name": "stdout",
          "text": [
            "NI!\n",
            "iNeuron\n"
          ]
        }
      ]
    },
    {
      "cell_type": "markdown",
      "source": [
        "* Nested function prints \"NI!\" since its in the scoppe of func() function.\n",
        "* Outside print prints \"iNeuron\" since its declared globally."
      ],
      "metadata": {
        "id": "cLw1yFek2VOa"
      }
    },
    {
      "cell_type": "markdown",
      "source": [
        "06 .How about this code: what is its output in Python 3, and explain?\n",
        "\n",
        "&gt;&gt;&gt; def func():\n",
        "X = &#39;NI&#39;\n",
        "def nested():\n",
        "nonlocal X\n",
        "X = &#39;Spam&#39;\n",
        "nested()\n",
        "print(X)\n",
        "\n",
        "&gt;&gt;&gt; func()"
      ],
      "metadata": {
        "id": "ie5f_hBt2qkE"
      }
    },
    {
      "cell_type": "code",
      "source": [
        "def func():\n",
        "  X=\"NI!\"\n",
        "  def nested():\n",
        "    nonlocal X\n",
        "    X=\"Spam\" \n",
        "  nested()\n",
        "  print(X)\n",
        "func()"
      ],
      "metadata": {
        "colab": {
          "base_uri": "https://localhost:8080/"
        },
        "id": "5MC_Ap432RNj",
        "outputId": "4c556974-5f4d-40b9-aaa8-19fdc0b9b629"
      },
      "execution_count": 9,
      "outputs": [
        {
          "output_type": "stream",
          "name": "stdout",
          "text": [
            "Spam\n"
          ]
        }
      ]
    },
    {
      "cell_type": "markdown",
      "source": [
        "* Non-local variable should bound to a scope defined already .Its used in nested function.\n",
        "* Declaring  and changing a nonlocal varibale affects local vaiable of same name not global.\n",
        "* Hence here \"Spam\" is printed "
      ],
      "metadata": {
        "id": "s2s9d1sF3Zx8"
      }
    }
  ]
}