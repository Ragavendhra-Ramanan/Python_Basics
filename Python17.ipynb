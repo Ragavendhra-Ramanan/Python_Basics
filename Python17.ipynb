{
  "nbformat": 4,
  "nbformat_minor": 0,
  "metadata": {
    "colab": {
      "provenance": [],
      "authorship_tag": "ABX9TyP5pg173H37FOXUHMpJkRVw",
      "include_colab_link": true
    },
    "kernelspec": {
      "name": "python3",
      "display_name": "Python 3"
    },
    "language_info": {
      "name": "python"
    }
  },
  "cells": [
    {
      "cell_type": "markdown",
      "metadata": {
        "id": "view-in-github",
        "colab_type": "text"
      },
      "source": [
        "<a href=\"https://colab.research.google.com/github/Ragavendhra-Ramanan/Python_Basics/blob/main/Python17.ipynb\" target=\"_parent\"><img src=\"https://colab.research.google.com/assets/colab-badge.svg\" alt=\"Open In Colab\"/></a>"
      ]
    },
    {
      "cell_type": "markdown",
      "source": [
        "01 . Assign the value 7 to the variable guess_me. Then, write the conditional tests (if, else, and elif) to\n",
        "print the string &#39;too low&#39; if guess_me is less than 7, &#39;too high&#39; if greater than 7, and &#39;just right&#39; if equal\n",
        "to 7."
      ],
      "metadata": {
        "id": "zYSVvTbGod0g"
      }
    },
    {
      "cell_type": "code",
      "execution_count": 2,
      "metadata": {
        "colab": {
          "base_uri": "https://localhost:8080/"
        },
        "id": "cmsaQMMxoQMJ",
        "outputId": "8b68a287-bdc2-40ee-c9ce-df720d423f25"
      },
      "outputs": [
        {
          "output_type": "stream",
          "name": "stdout",
          "text": [
            "just  right\n"
          ]
        }
      ],
      "source": [
        "guess_me=7\n",
        "\n",
        "if guess_me<7:\n",
        "  print(\"too low\")\n",
        "elif guess_me>7:\n",
        "  print(\"too high\")\n",
        "else:\n",
        "  print(\"just  right\")\n"
      ]
    },
    {
      "cell_type": "markdown",
      "source": [
        "02 .Assign the value 7 to the variable guess_me and the value 1 to the variable start. Write a while\n",
        "loop that compares start with guess_me. Print too low if start is less than guess me. If start equals\n",
        "guess_me, print &#39;found it!&#39; and exit the loop. If start is greater than guess_me, print &#39;oops&#39; and exit\n",
        "the loop. Increment start at the end of the loop."
      ],
      "metadata": {
        "id": "DnliOW1JozHV"
      }
    },
    {
      "cell_type": "code",
      "source": [
        "guess_me=7\n",
        "start=1\n",
        "\n",
        "while True:\n",
        "  if start <guess_me:\n",
        "    print(\"too low\")\n",
        "  elif start >guess_me:\n",
        "    print(\"oops\")\n",
        "    break\n",
        "  else:\n",
        "    print(\"found it!\")\n",
        "    break\n",
        "  start+=1"
      ],
      "metadata": {
        "colab": {
          "base_uri": "https://localhost:8080/"
        },
        "id": "xmxWF6scohSw",
        "outputId": "9955d017-faf1-4949-903f-79e6cbbdd92a"
      },
      "execution_count": 3,
      "outputs": [
        {
          "output_type": "stream",
          "name": "stdout",
          "text": [
            "too low\n",
            "too low\n",
            "too low\n",
            "too low\n",
            "too low\n",
            "too low\n",
            "found it!\n"
          ]
        }
      ]
    },
    {
      "cell_type": "markdown",
      "source": [
        "03 .Print the following values of the list [3, 2, 1, 0] using a for loop."
      ],
      "metadata": {
        "id": "DEMS4I0apWY8"
      }
    },
    {
      "cell_type": "code",
      "source": [
        "for i in range(3,-1,-1):\n",
        "  print(i)"
      ],
      "metadata": {
        "colab": {
          "base_uri": "https://localhost:8080/"
        },
        "id": "ZyZP-oB2pVX0",
        "outputId": "9304350b-0e46-4827-b720-c9302407adc5"
      },
      "execution_count": 4,
      "outputs": [
        {
          "output_type": "stream",
          "name": "stdout",
          "text": [
            "3\n",
            "2\n",
            "1\n",
            "0\n"
          ]
        }
      ]
    },
    {
      "cell_type": "markdown",
      "source": [
        "04 .Use a list comprehension to make a list of the even numbers in range(10)"
      ],
      "metadata": {
        "id": "kfALK5lKpknp"
      }
    },
    {
      "cell_type": "code",
      "source": [
        "even=[i for i in range(10) if i%2==0]"
      ],
      "metadata": {
        "id": "CvIDCZCMphml"
      },
      "execution_count": 9,
      "outputs": []
    },
    {
      "cell_type": "code",
      "source": [
        "even"
      ],
      "metadata": {
        "colab": {
          "base_uri": "https://localhost:8080/"
        },
        "id": "tXsY6UuJpqTP",
        "outputId": "007c3e2e-9a80-48ed-9d73-1ba95d6947b3"
      },
      "execution_count": 10,
      "outputs": [
        {
          "output_type": "execute_result",
          "data": {
            "text/plain": [
              "[0, 2, 4, 6, 8]"
            ]
          },
          "metadata": {},
          "execution_count": 10
        }
      ]
    },
    {
      "cell_type": "markdown",
      "source": [
        "05 .Use a dictionary comprehension to create the dictionary squares. Use range(10) to return the\n",
        "keys, and use the square of each key as its value."
      ],
      "metadata": {
        "id": "uboVBuqxpwra"
      }
    },
    {
      "cell_type": "code",
      "source": [
        "squares={i:i*i for i in range(10)}"
      ],
      "metadata": {
        "id": "Xqi4YVBxpqq2"
      },
      "execution_count": 14,
      "outputs": []
    },
    {
      "cell_type": "code",
      "source": [
        "squares"
      ],
      "metadata": {
        "colab": {
          "base_uri": "https://localhost:8080/"
        },
        "id": "uEh1A9Ufp_3l",
        "outputId": "871b21ab-5821-4935-fbbc-abb1f9971f48"
      },
      "execution_count": 15,
      "outputs": [
        {
          "output_type": "execute_result",
          "data": {
            "text/plain": [
              "{0: 0, 1: 1, 2: 4, 3: 9, 4: 16, 5: 25, 6: 36, 7: 49, 8: 64, 9: 81}"
            ]
          },
          "metadata": {},
          "execution_count": 15
        }
      ]
    },
    {
      "cell_type": "markdown",
      "source": [
        "06 .Construct the set odd from the odd numbers in the range using a set comprehension (10)."
      ],
      "metadata": {
        "id": "6LoLnTPXqIpg"
      }
    },
    {
      "cell_type": "code",
      "source": [
        "odd=set(i for i in range(10) if i%2!=0)"
      ],
      "metadata": {
        "id": "c4cxcSezqB4g"
      },
      "execution_count": 16,
      "outputs": []
    },
    {
      "cell_type": "code",
      "source": [
        "odd"
      ],
      "metadata": {
        "colab": {
          "base_uri": "https://localhost:8080/"
        },
        "id": "VoEA1PqSqQa9",
        "outputId": "5fa7166c-a861-4727-d6e9-12adbca15a14"
      },
      "execution_count": 17,
      "outputs": [
        {
          "output_type": "execute_result",
          "data": {
            "text/plain": [
              "{1, 3, 5, 7, 9}"
            ]
          },
          "metadata": {},
          "execution_count": 17
        }
      ]
    },
    {
      "cell_type": "markdown",
      "source": [
        "07 .Use a generator comprehension to return the string &#39;Got &#39; and a number for the numbers in\n",
        "range(10). Iterate through this by using a for loop."
      ],
      "metadata": {
        "id": "3ZIhqyBkqTTh"
      }
    },
    {
      "cell_type": "code",
      "source": [
        "ans=(\"Got \" + str(i) for i in range(10))"
      ],
      "metadata": {
        "id": "_goQtqZpqQv4"
      },
      "execution_count": 23,
      "outputs": []
    },
    {
      "cell_type": "code",
      "source": [
        "for i in ans:\n",
        "  print(i)"
      ],
      "metadata": {
        "colab": {
          "base_uri": "https://localhost:8080/"
        },
        "id": "2RzOn6YZq3n4",
        "outputId": "6409ced4-24e0-40e4-ec0d-406cc93c9916"
      },
      "execution_count": 25,
      "outputs": [
        {
          "output_type": "stream",
          "name": "stdout",
          "text": [
            "Got 1\n",
            "Got 2\n",
            "Got 3\n",
            "Got 4\n",
            "Got 5\n",
            "Got 6\n",
            "Got 7\n",
            "Got 8\n",
            "Got 9\n"
          ]
        }
      ]
    },
    {
      "cell_type": "markdown",
      "source": [
        "08 .Define a function called good that returns the list [&#39;Harry&#39;, &#39;Ron&#39;, &#39;Hermione&#39;]."
      ],
      "metadata": {
        "id": "jwebxyUZrU0W"
      }
    },
    {
      "cell_type": "code",
      "source": [
        "def good():\n",
        "  return [\"Harry\",\"Ron\",\"Hermione\"]"
      ],
      "metadata": {
        "id": "dJOuXY9Yq320"
      },
      "execution_count": 26,
      "outputs": []
    },
    {
      "cell_type": "code",
      "source": [
        "good()"
      ],
      "metadata": {
        "colab": {
          "base_uri": "https://localhost:8080/"
        },
        "id": "1U21vjzIrp9W",
        "outputId": "a4e79fa5-0d95-42b3-eefb-84297b7ff2b6"
      },
      "execution_count": 27,
      "outputs": [
        {
          "output_type": "execute_result",
          "data": {
            "text/plain": [
              "['Harry', 'Ron', 'Hermione']"
            ]
          },
          "metadata": {},
          "execution_count": 27
        }
      ]
    },
    {
      "cell_type": "markdown",
      "source": [
        "09 .Define a generator function called get_odds that returns the odd numbers from range(10). Use a\n",
        "for loop to find and print the third value returned."
      ],
      "metadata": {
        "id": "LGq0RdZTrq-m"
      }
    },
    {
      "cell_type": "code",
      "source": [
        "def get_odds():\n",
        "  for i in range(10):\n",
        "    if i%2!=0:\n",
        "      yield i"
      ],
      "metadata": {
        "id": "svNKoK8Erqna"
      },
      "execution_count": 28,
      "outputs": []
    },
    {
      "cell_type": "code",
      "source": [
        "ans=get_odds()\n",
        "\n",
        "count=0\n",
        "for i in ans:\n",
        "  count+=1\n",
        "  if count ==3:\n",
        "    print(i,\" is the third value\")"
      ],
      "metadata": {
        "colab": {
          "base_uri": "https://localhost:8080/"
        },
        "id": "Px3a3S9Vr4TK",
        "outputId": "14b385bd-c049-4883-f8a1-f222a0581e5c"
      },
      "execution_count": 30,
      "outputs": [
        {
          "output_type": "stream",
          "name": "stdout",
          "text": [
            "5  is the third value\n"
          ]
        }
      ]
    },
    {
      "cell_type": "markdown",
      "source": [
        "10 .Define an exception called OopsException. Raise this exception to see what happens. Then write\n",
        "the code to catch this exception and print &#39;Caught an oops&#39;."
      ],
      "metadata": {
        "id": "4bg8cqC9sKzb"
      }
    },
    {
      "cell_type": "code",
      "source": [
        "class OopsException(Exception):\n",
        "  pass\n",
        "\n",
        "def to_raise(val):\n",
        "  if val ==0:\n",
        "    raise OopsException(val)\n",
        "\n",
        "try:\n",
        "  to_raise(0)\n",
        "except OopsException as err:\n",
        "  print(\"Caught an oops\") "
      ],
      "metadata": {
        "colab": {
          "base_uri": "https://localhost:8080/"
        },
        "id": "W6A6QINdr7rj",
        "outputId": "49058f20-e814-42be-ad1b-2d0878312ac8"
      },
      "execution_count": 42,
      "outputs": [
        {
          "output_type": "stream",
          "name": "stdout",
          "text": [
            "Caught an oops\n"
          ]
        }
      ]
    },
    {
      "cell_type": "markdown",
      "source": [
        "11 .Use zip() to make a dictionary called movies that pairs these lists: titles = [&#39;Creature of Habit&#39;,\n",
        "&#39;Crewel Fate&#39;] and plots = [&#39;A nun turns into a monster&#39;, &#39;A haunted yarn shop&#39;]."
      ],
      "metadata": {
        "id": "RSyBw1AEsWxa"
      }
    },
    {
      "cell_type": "code",
      "source": [
        "titles=[\"Creature of habit\",\"Crewel Fate\"]\n",
        "plots =[\"A nun turns into a monster\",\"A haunted yarn shop\"]"
      ],
      "metadata": {
        "id": "0peNrNdlsiwh"
      },
      "execution_count": 39,
      "outputs": []
    },
    {
      "cell_type": "code",
      "source": [
        "movies = {}\n",
        "for title, plot in zip(titles, plots):\n",
        "    movies[title] = plot"
      ],
      "metadata": {
        "id": "XOni2tTysYEr"
      },
      "execution_count": 40,
      "outputs": []
    },
    {
      "cell_type": "code",
      "source": [
        "movies"
      ],
      "metadata": {
        "colab": {
          "base_uri": "https://localhost:8080/"
        },
        "id": "uI07xLMrsYAW",
        "outputId": "883a8b8a-4947-46e6-e2da-071f7da4e3c0"
      },
      "execution_count": 41,
      "outputs": [
        {
          "output_type": "execute_result",
          "data": {
            "text/plain": [
              "{'Creature of habit': 'A nun turns into a monster',\n",
              " 'Crewel Fate': 'A haunted yarn shop'}"
            ]
          },
          "metadata": {},
          "execution_count": 41
        }
      ]
    }
  ]
}