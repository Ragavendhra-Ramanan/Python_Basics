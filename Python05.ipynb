{
  "nbformat": 4,
  "nbformat_minor": 0,
  "metadata": {
    "colab": {
      "provenance": [],
      "authorship_tag": "ABX9TyNJBw3GbkvsvPASw/sk4dLQ",
      "include_colab_link": true
    },
    "kernelspec": {
      "name": "python3",
      "display_name": "Python 3"
    },
    "language_info": {
      "name": "python"
    }
  },
  "cells": [
    {
      "cell_type": "markdown",
      "metadata": {
        "id": "view-in-github",
        "colab_type": "text"
      },
      "source": [
        "<a href=\"https://colab.research.google.com/github/Ragavendhra-Ramanan/Python_Basics/blob/main/Python05.ipynb\" target=\"_parent\"><img src=\"https://colab.research.google.com/assets/colab-badge.svg\" alt=\"Open In Colab\"/></a>"
      ]
    },
    {
      "cell_type": "markdown",
      "source": [
        "01 . What does an empty dictionary&#39;s code look like?"
      ],
      "metadata": {
        "id": "VaSKNHFLpXGJ"
      }
    },
    {
      "cell_type": "code",
      "execution_count": 1,
      "metadata": {
        "colab": {
          "base_uri": "https://localhost:8080/"
        },
        "id": "2Tqx31OIpRoJ",
        "outputId": "998f2620-eeeb-4b8e-940b-c111de8a632d"
      },
      "outputs": [
        {
          "output_type": "execute_result",
          "data": {
            "text/plain": [
              "{}"
            ]
          },
          "metadata": {},
          "execution_count": 1
        }
      ],
      "source": [
        "a=dict()\n",
        "a"
      ]
    },
    {
      "cell_type": "markdown",
      "source": [
        "02 . What is the value of a dictionary value with the key &#39;foo&#39; and the value 42?"
      ],
      "metadata": {
        "id": "7Gw7uiiDpeFJ"
      }
    },
    {
      "cell_type": "code",
      "source": [
        "ans={\"foo\":42}\n",
        "ans.values()"
      ],
      "metadata": {
        "colab": {
          "base_uri": "https://localhost:8080/"
        },
        "id": "9yWZnHolpbSd",
        "outputId": "2450637a-5b7d-46e8-e94f-9977e6e41cf1"
      },
      "execution_count": 2,
      "outputs": [
        {
          "output_type": "execute_result",
          "data": {
            "text/plain": [
              "dict_values([42])"
            ]
          },
          "metadata": {},
          "execution_count": 2
        }
      ]
    },
    {
      "cell_type": "markdown",
      "source": [
        "03 . What is the most significant distinction between a dictionary and a list?"
      ],
      "metadata": {
        "id": "dHqtsrP3poZK"
      }
    },
    {
      "cell_type": "markdown",
      "source": [
        "**Solution**\n",
        "\n",
        "* Lists are indexed value pairs as arrays in c.They are ordered\n",
        "* Dictionaries are key value pairs as like hashtable .They are unordered"
      ],
      "metadata": {
        "id": "QAT5wdnapzYb"
      }
    },
    {
      "cell_type": "markdown",
      "source": [
        "04 .What happens if you try to access spam[&#39;foo&#39;] if spam is {&#39;bar&#39;: 100}?"
      ],
      "metadata": {
        "id": "S7rA0fbBqBb7"
      }
    },
    {
      "cell_type": "code",
      "source": [
        "spam={'bar':100}\n",
        "spam['foo']\n",
        "#throws key not found error"
      ],
      "metadata": {
        "colab": {
          "base_uri": "https://localhost:8080/",
          "height": 200
        },
        "id": "ErG-JHcVplYS",
        "outputId": "d1d36bdc-a644-48a3-deea-afdee0b723a7"
      },
      "execution_count": 3,
      "outputs": [
        {
          "output_type": "error",
          "ename": "KeyError",
          "evalue": "ignored",
          "traceback": [
            "\u001b[0;31m---------------------------------------------------------------------------\u001b[0m",
            "\u001b[0;31mKeyError\u001b[0m                                  Traceback (most recent call last)",
            "\u001b[0;32m<ipython-input-3-8bc47eea4848>\u001b[0m in \u001b[0;36m<module>\u001b[0;34m\u001b[0m\n\u001b[1;32m      1\u001b[0m \u001b[0mspam\u001b[0m\u001b[0;34m=\u001b[0m\u001b[0;34m{\u001b[0m\u001b[0;34m'bar'\u001b[0m\u001b[0;34m:\u001b[0m\u001b[0;36m100\u001b[0m\u001b[0;34m}\u001b[0m\u001b[0;34m\u001b[0m\u001b[0;34m\u001b[0m\u001b[0m\n\u001b[0;32m----> 2\u001b[0;31m \u001b[0mspam\u001b[0m\u001b[0;34m[\u001b[0m\u001b[0;34m'foo'\u001b[0m\u001b[0;34m]\u001b[0m\u001b[0;34m\u001b[0m\u001b[0;34m\u001b[0m\u001b[0m\n\u001b[0m\u001b[1;32m      3\u001b[0m \u001b[0;31m#throws key not found exception\u001b[0m\u001b[0;34m\u001b[0m\u001b[0;34m\u001b[0m\u001b[0;34m\u001b[0m\u001b[0m\n",
            "\u001b[0;31mKeyError\u001b[0m: 'foo'"
          ]
        }
      ]
    },
    {
      "cell_type": "markdown",
      "source": [
        "05 .If a dictionary is stored in spam, what is the difference between the expressions &#39;cat&#39; in spam and\n",
        "&#39;cat&#39; in spam.keys()?"
      ],
      "metadata": {
        "id": "GlCnEfS1qQnU"
      }
    },
    {
      "cell_type": "code",
      "source": [
        "spam={\"cat\":\"mice\",\"tom\":\"jerry\"}\n",
        "print('cat' in spam)"
      ],
      "metadata": {
        "colab": {
          "base_uri": "https://localhost:8080/"
        },
        "id": "byqzK84sqOiW",
        "outputId": "49f021f8-939d-4504-d14b-1a7115629a5c"
      },
      "execution_count": 9,
      "outputs": [
        {
          "output_type": "stream",
          "name": "stdout",
          "text": [
            "True\n"
          ]
        }
      ]
    },
    {
      "cell_type": "code",
      "source": [
        "print('cat' in spam.keys())"
      ],
      "metadata": {
        "colab": {
          "base_uri": "https://localhost:8080/"
        },
        "id": "z4K1OkaLqnmY",
        "outputId": "2f2c728b-8298-45fe-f773-869bf06fdfe6"
      },
      "execution_count": 10,
      "outputs": [
        {
          "output_type": "stream",
          "name": "stdout",
          "text": [
            "True\n"
          ]
        }
      ]
    },
    {
      "cell_type": "markdown",
      "source": [
        "* Both 'cat' in spam and 'cat' in spam.keys() are same as they check whether the key named 'cat' is present in dictionary keys or not"
      ],
      "metadata": {
        "id": "OaBmryeVq1Xl"
      }
    },
    {
      "cell_type": "markdown",
      "source": [
        "06 . If a dictionary is stored in spam, what is the difference between the expressions &#39;cat&#39; in spam and\n",
        "&#39;cat&#39; in spam.values()?"
      ],
      "metadata": {
        "id": "OU9ejaGdrDAN"
      }
    },
    {
      "cell_type": "code",
      "source": [
        "spam={\"ans\":\"mice\",\"tom\":\"cat\"}\n",
        "print('cat' in spam)"
      ],
      "metadata": {
        "colab": {
          "base_uri": "https://localhost:8080/"
        },
        "id": "SHXhLda3q0X-",
        "outputId": "c136dc85-20cc-42bd-9e0e-9bb317e4a237"
      },
      "execution_count": 11,
      "outputs": [
        {
          "output_type": "stream",
          "name": "stdout",
          "text": [
            "False\n"
          ]
        }
      ]
    },
    {
      "cell_type": "code",
      "source": [
        "print('cat' in spam.values())"
      ],
      "metadata": {
        "colab": {
          "base_uri": "https://localhost:8080/"
        },
        "id": "cdiRq5NqrKtv",
        "outputId": "8584e3fd-523a-4c95-9ea6-35053cc57676"
      },
      "execution_count": 12,
      "outputs": [
        {
          "output_type": "stream",
          "name": "stdout",
          "text": [
            "True\n"
          ]
        }
      ]
    },
    {
      "cell_type": "markdown",
      "source": [
        "* Both 'cat' in spam and 'cat' in spam.values() are different as the first expression check whether the key named 'cat' is present in keys and second one checks in values"
      ],
      "metadata": {
        "id": "XznTvw6wrOYl"
      }
    },
    {
      "cell_type": "markdown",
      "source": [
        "07 .What is a shortcut for the following code?\n",
        "if &#39;color&#39; not in spam:\n",
        "spam[&#39;color&#39;] = &#39;black&#39; "
      ],
      "metadata": {
        "id": "SD1r0xISreKL"
      }
    },
    {
      "cell_type": "code",
      "source": [
        "spam={'ans':\"ques\"}\n",
        "spam.setdefault('color', 'black')\n",
        "spam"
      ],
      "metadata": {
        "colab": {
          "base_uri": "https://localhost:8080/"
        },
        "id": "kD59QhVCrNNH",
        "outputId": "351ff190-7f95-4b98-c83d-ec6d4ada684d"
      },
      "execution_count": 14,
      "outputs": [
        {
          "output_type": "execute_result",
          "data": {
            "text/plain": [
              "{'ans': 'ques', 'color': 'black'}"
            ]
          },
          "metadata": {},
          "execution_count": 14
        }
      ]
    },
    {
      "cell_type": "markdown",
      "source": [
        "8. How do you &quot;pretty print&quot; dictionary values using which module and function?"
      ],
      "metadata": {
        "id": "7VVZZz81ssP7"
      }
    },
    {
      "cell_type": "code",
      "source": [
        "import pprint\n",
        "a={\"a\":\"b\",\"h\":\"d\",\"c\":\"f\"}\n",
        "print(a)"
      ],
      "metadata": {
        "colab": {
          "base_uri": "https://localhost:8080/"
        },
        "id": "GOofkgOAspxM",
        "outputId": "da89a654-c024-4089-90db-d235d35f1876"
      },
      "execution_count": 22,
      "outputs": [
        {
          "output_type": "stream",
          "name": "stdout",
          "text": [
            "{'a': 'b', 'h': 'd', 'c': 'f'}\n"
          ]
        }
      ]
    },
    {
      "cell_type": "code",
      "source": [
        "#sorting and printing\n",
        "pprint.pprint(a)"
      ],
      "metadata": {
        "colab": {
          "base_uri": "https://localhost:8080/"
        },
        "id": "NzrWYAqltArU",
        "outputId": "12d33414-c616-45cd-d853-f7e17067cd01"
      },
      "execution_count": 23,
      "outputs": [
        {
          "output_type": "stream",
          "name": "stdout",
          "text": [
            "{'a': 'b', 'c': 'f', 'h': 'd'}\n"
          ]
        }
      ]
    }
  ]
}