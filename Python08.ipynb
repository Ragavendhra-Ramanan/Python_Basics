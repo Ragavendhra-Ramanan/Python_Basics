{
  "nbformat": 4,
  "nbformat_minor": 0,
  "metadata": {
    "colab": {
      "provenance": [],
      "authorship_tag": "ABX9TyPZ69mwudF0Q6O08MYUSx6S",
      "include_colab_link": true
    },
    "kernelspec": {
      "name": "python3",
      "display_name": "Python 3"
    },
    "language_info": {
      "name": "python"
    }
  },
  "cells": [
    {
      "cell_type": "markdown",
      "metadata": {
        "id": "view-in-github",
        "colab_type": "text"
      },
      "source": [
        "<a href=\"https://colab.research.google.com/github/Ragavendhra-Ramanan/Python_Basics/blob/main/Python08.ipynb\" target=\"_parent\"><img src=\"https://colab.research.google.com/assets/colab-badge.svg\" alt=\"Open In Colab\"/></a>"
      ]
    },
    {
      "cell_type": "markdown",
      "source": [
        "01 .Is the Python Standard Library included with PyInputPlus?"
      ],
      "metadata": {
        "id": "efqgXSOq7pHO"
      }
    },
    {
      "cell_type": "markdown",
      "source": [
        "**Solution** :\n",
        "* Its not included in Python standard library .\n",
        "* we have install via  pip"
      ],
      "metadata": {
        "id": "IH2PVHKX8Ahq"
      }
    },
    {
      "cell_type": "code",
      "source": [
        "!pip install pyinputplus"
      ],
      "metadata": {
        "colab": {
          "base_uri": "https://localhost:8080/"
        },
        "id": "9rIX-MrO8JwU",
        "outputId": "cd176855-b1d5-489e-8731-5045f49ceccb"
      },
      "execution_count": 2,
      "outputs": [
        {
          "output_type": "stream",
          "name": "stdout",
          "text": [
            "Looking in indexes: https://pypi.org/simple, https://us-python.pkg.dev/colab-wheels/public/simple/\n",
            "Collecting pyinputplus\n",
            "  Downloading PyInputPlus-0.2.12.tar.gz (20 kB)\n",
            "  Installing build dependencies ... \u001b[?25l\u001b[?25hdone\n",
            "  Getting requirements to build wheel ... \u001b[?25l\u001b[?25hdone\n",
            "    Preparing wheel metadata ... \u001b[?25l\u001b[?25hdone\n",
            "Collecting pysimplevalidate>=0.2.7\n",
            "  Downloading PySimpleValidate-0.2.12.tar.gz (22 kB)\n",
            "  Installing build dependencies ... \u001b[?25l\u001b[?25hdone\n",
            "  Getting requirements to build wheel ... \u001b[?25l\u001b[?25hdone\n",
            "    Preparing wheel metadata ... \u001b[?25l\u001b[?25hdone\n",
            "Collecting stdiomask>=0.0.3\n",
            "  Downloading stdiomask-0.0.6.tar.gz (3.6 kB)\n",
            "  Installing build dependencies ... \u001b[?25l\u001b[?25hdone\n",
            "  Getting requirements to build wheel ... \u001b[?25l\u001b[?25hdone\n",
            "    Preparing wheel metadata ... \u001b[?25l\u001b[?25hdone\n",
            "Building wheels for collected packages: pyinputplus, pysimplevalidate, stdiomask\n",
            "  Building wheel for pyinputplus (PEP 517) ... \u001b[?25l\u001b[?25hdone\n",
            "  Created wheel for pyinputplus: filename=PyInputPlus-0.2.12-py3-none-any.whl size=11315 sha256=07cde7c65601e0dae51b16789da58d864db8d221f7135517a308c244db6bda3d\n",
            "  Stored in directory: /root/.cache/pip/wheels/e7/33/73/719f8f1bd984d39face880fd22f6c5ef1b85f726e84c687094\n",
            "  Building wheel for pysimplevalidate (PEP 517) ... \u001b[?25l\u001b[?25hdone\n",
            "  Created wheel for pysimplevalidate: filename=PySimpleValidate-0.2.12-py3-none-any.whl size=16193 sha256=f3faf46d9c79337a05c5ab53a2ef742e2e814e627eff50ec9fa1aab819ae940e\n",
            "  Stored in directory: /root/.cache/pip/wheels/5a/8b/6c/2925d22b93860bdc9b8ce02c3d2cf79336606f7469cef66065\n",
            "  Building wheel for stdiomask (PEP 517) ... \u001b[?25l\u001b[?25hdone\n",
            "  Created wheel for stdiomask: filename=stdiomask-0.0.6-py3-none-any.whl size=3321 sha256=a7f3b4fad4974fd318c238cb3ce09161e6f38079a2600eb295a672069e7ad87f\n",
            "  Stored in directory: /root/.cache/pip/wheels/cf/13/89/64d0d3b167759523f4c1e68f883bbc30e7bfa27050edeb418e\n",
            "Successfully built pyinputplus pysimplevalidate stdiomask\n",
            "Installing collected packages: stdiomask, pysimplevalidate, pyinputplus\n",
            "Successfully installed pyinputplus-0.2.12 pysimplevalidate-0.2.12 stdiomask-0.0.6\n"
          ]
        }
      ]
    },
    {
      "cell_type": "code",
      "execution_count": 3,
      "metadata": {
        "id": "amwu18M_7erZ"
      },
      "outputs": [],
      "source": [
        "import pyinputplus as pyip\n"
      ]
    },
    {
      "cell_type": "markdown",
      "source": [
        "02 . Why is PyInputPlus commonly imported with import pyinputplus as pypi?"
      ],
      "metadata": {
        "id": "Kd74DyZu8RCp"
      }
    },
    {
      "cell_type": "markdown",
      "source": [
        "**Solution**\n",
        "* Its commonly imported as pypi so that we can have shorter name when using methods."
      ],
      "metadata": {
        "id": "A_tMlo-Z8YAR"
      }
    },
    {
      "cell_type": "markdown",
      "source": [
        "03 .How do you distinguish between inputInt() and inputFloat()?"
      ],
      "metadata": {
        "id": "wFiI5JBt8jJd"
      }
    },
    {
      "cell_type": "code",
      "source": [
        "a= pyip.inputInt(prompt = \"Enter an Integer... \", \n",
        "                    default = 0, limit = 3)\n",
        "  "
      ],
      "metadata": {
        "colab": {
          "base_uri": "https://localhost:8080/"
        },
        "id": "PE-uIsQG7-qg",
        "outputId": "73f39f44-a7f9-4c21-8cae-fc5d7bf79457"
      },
      "execution_count": 7,
      "outputs": [
        {
          "name": "stdout",
          "output_type": "stream",
          "text": [
            "Enter an Integer... 1.1\n",
            "'1.1' is not an integer.\n",
            "Enter an Integer... 2\n"
          ]
        }
      ]
    },
    {
      "cell_type": "code",
      "source": [
        "inp = pyip.inputFloat(prompt = \"Enter an Float... \", \n",
        "                    default = 0, limit = 3)\n",
        "type(inp)"
      ],
      "metadata": {
        "colab": {
          "base_uri": "https://localhost:8080/"
        },
        "id": "J48O5LxW8sd5",
        "outputId": "141bfeb5-79a1-43fc-eb05-91db52c143f6"
      },
      "execution_count": 14,
      "outputs": [
        {
          "name": "stdout",
          "output_type": "stream",
          "text": [
            "Enter an Float... 2\n"
          ]
        },
        {
          "output_type": "execute_result",
          "data": {
            "text/plain": [
              "float"
            ]
          },
          "metadata": {},
          "execution_count": 14
        }
      ]
    },
    {
      "cell_type": "markdown",
      "source": [
        "* inputInt takes only integer as input\n",
        "* inputFloat takes integer and float and convert them to float datatype"
      ],
      "metadata": {
        "id": "QIvp2UxE9CJy"
      }
    },
    {
      "cell_type": "markdown",
      "source": [
        "04 . Using PyInputPlus, how do you ensure that the user enters a whole number between 0 and 99?"
      ],
      "metadata": {
        "id": "CS0jPDPV9S2O"
      }
    },
    {
      "cell_type": "code",
      "source": [
        "inp = pyip.inputInt(prompt = \"Enter an Integer... \", \n",
        "                    min= 0, max=99)"
      ],
      "metadata": {
        "colab": {
          "base_uri": "https://localhost:8080/"
        },
        "id": "AwN-5C988y8w",
        "outputId": "461e37dd-6aa4-4042-d994-c09d272f653f"
      },
      "execution_count": 16,
      "outputs": [
        {
          "name": "stdout",
          "output_type": "stream",
          "text": [
            "Enter an Integer... -1\n",
            "Number must be at minimum 0.\n",
            "Enter an Integer... 100\n",
            "Number must be at maximum 99.\n",
            "Enter an Integer... 77.7\n",
            "'77.7' is not an integer.\n",
            "Enter an Integer... 88\n"
          ]
        }
      ]
    },
    {
      "cell_type": "markdown",
      "source": [
        "05 . What is transferred to the keyword arguments allowRegexes and blockRegexes?"
      ],
      "metadata": {
        "id": "svfSG6dG9sB7"
      }
    },
    {
      "cell_type": "code",
      "source": [
        "inp = pyip.inputStr(prompt=\"Enter a string... \", \n",
        "                    blank=True, blockRegexes = 'aeiou')\n",
        "  \n",
        "print(inp)"
      ],
      "metadata": {
        "colab": {
          "base_uri": "https://localhost:8080/"
        },
        "id": "zs8y_ECx9bo3",
        "outputId": "03c70cac-d7ca-4222-f0aa-c2c664c7136a"
      },
      "execution_count": 17,
      "outputs": [
        {
          "output_type": "stream",
          "name": "stdout",
          "text": [
            "Enter a string... hai hello\n",
            "This response is invalid.\n",
            "Enter a string... great\n",
            "This response is invalid.\n",
            "Enter a string... NGK\n",
            "NGK\n"
          ]
        }
      ]
    },
    {
      "cell_type": "markdown",
      "source": [
        "* Blocks if the regexes above are found"
      ],
      "metadata": {
        "id": "oA_HSSg4-iU4"
      }
    },
    {
      "cell_type": "code",
      "source": [
        "inp = pyip.inputStr(prompt=\"Enter a string... \", \n",
        "                    blank=True, allowRegexes = 'aeiou')\n",
        "  \n",
        "print(inp)"
      ],
      "metadata": {
        "colab": {
          "base_uri": "https://localhost:8080/"
        },
        "id": "yKvmgFsX91Nt",
        "outputId": "70898a65-2e71-4787-d9ca-e1871cf512ea"
      },
      "execution_count": 23,
      "outputs": [
        {
          "output_type": "stream",
          "name": "stdout",
          "text": [
            "Enter a string... great\n",
            "great\n"
          ]
        }
      ]
    },
    {
      "cell_type": "markdown",
      "source": [
        "* Allows the regex"
      ],
      "metadata": {
        "id": "-8NMI_U8-mtW"
      }
    },
    {
      "cell_type": "markdown",
      "source": [
        "06 .If a blank input is entered three times, what does inputStr(limit=3) do?"
      ],
      "metadata": {
        "id": "RfNDcscn-p-2"
      }
    },
    {
      "cell_type": "code",
      "source": [
        "inp = pyip.inputStr(prompt = \"Enter an string... \", limit = 3)\n",
        "type(inp)\n",
        "#throws validation exception since we have reached limit "
      ],
      "metadata": {
        "colab": {
          "base_uri": "https://localhost:8080/",
          "height": 588
        },
        "id": "Ztgh-rSW98We",
        "outputId": "fb2ecb88-0261-4f5e-fa20-4d7e863cf68a"
      },
      "execution_count": 25,
      "outputs": [
        {
          "output_type": "stream",
          "name": "stdout",
          "text": [
            "Enter an string... \n",
            "Blank values are not allowed.\n",
            "Enter an string... \n",
            "Blank values are not allowed.\n",
            "Enter an string... \n",
            "Blank values are not allowed.\n"
          ]
        },
        {
          "output_type": "error",
          "ename": "RetryLimitException",
          "evalue": "ignored",
          "traceback": [
            "\u001b[0;31m---------------------------------------------------------------------------\u001b[0m",
            "\u001b[0;31mValidationException\u001b[0m                       Traceback (most recent call last)",
            "\u001b[0;32m/usr/local/lib/python3.7/dist-packages/pyinputplus/__init__.py\u001b[0m in \u001b[0;36m_genericInput\u001b[0;34m(prompt, default, timeout, limit, applyFunc, validationFunc, postValidateApplyFunc, passwordMask)\u001b[0m\n\u001b[1;32m    167\u001b[0m             possibleNewUserInput = validationFunc(\n\u001b[0;32m--> 168\u001b[0;31m                 \u001b[0muserInput\u001b[0m\u001b[0;34m\u001b[0m\u001b[0;34m\u001b[0m\u001b[0m\n\u001b[0m\u001b[1;32m    169\u001b[0m             )  # If validation fails, this function will raise an exception. Returns an updated value to use as user input (e.g. stripped of whitespace, etc.)\n",
            "\u001b[0;32m/usr/local/lib/python3.7/dist-packages/pyinputplus/__init__.py\u001b[0m in \u001b[0;36m<lambda>\u001b[0;34m(value)\u001b[0m\n\u001b[1;32m    243\u001b[0m     validationFunc = lambda value: pysv._prevalidationCheck(\n\u001b[0;32m--> 244\u001b[0;31m         \u001b[0mvalue\u001b[0m\u001b[0;34m,\u001b[0m \u001b[0mblank\u001b[0m\u001b[0;34m=\u001b[0m\u001b[0mblank\u001b[0m\u001b[0;34m,\u001b[0m \u001b[0mstrip\u001b[0m\u001b[0;34m=\u001b[0m\u001b[0mstrip\u001b[0m\u001b[0;34m,\u001b[0m \u001b[0mallowRegexes\u001b[0m\u001b[0;34m=\u001b[0m\u001b[0mallowRegexes\u001b[0m\u001b[0;34m,\u001b[0m \u001b[0mblockRegexes\u001b[0m\u001b[0;34m=\u001b[0m\u001b[0mblockRegexes\u001b[0m\u001b[0;34m,\u001b[0m \u001b[0mexcMsg\u001b[0m\u001b[0;34m=\u001b[0m\u001b[0;32mNone\u001b[0m\u001b[0;34m,\u001b[0m\u001b[0;34m\u001b[0m\u001b[0;34m\u001b[0m\u001b[0m\n\u001b[0m\u001b[1;32m    245\u001b[0m     )[1]\n",
            "\u001b[0;32m/usr/local/lib/python3.7/dist-packages/pysimplevalidate/__init__.py\u001b[0m in \u001b[0;36m_prevalidationCheck\u001b[0;34m(value, blank, strip, allowRegexes, blockRegexes, excMsg)\u001b[0m\n\u001b[1;32m    249\u001b[0m         \u001b[0;31m# value is blank but blanks aren't allowed.\u001b[0m\u001b[0;34m\u001b[0m\u001b[0;34m\u001b[0m\u001b[0;34m\u001b[0m\u001b[0m\n\u001b[0;32m--> 250\u001b[0;31m         \u001b[0m_raiseValidationException\u001b[0m\u001b[0;34m(\u001b[0m\u001b[0m_\u001b[0m\u001b[0;34m(\u001b[0m\u001b[0;34m\"Blank values are not allowed.\"\u001b[0m\u001b[0;34m)\u001b[0m\u001b[0;34m,\u001b[0m \u001b[0mexcMsg\u001b[0m\u001b[0;34m)\u001b[0m\u001b[0;34m\u001b[0m\u001b[0;34m\u001b[0m\u001b[0m\n\u001b[0m\u001b[1;32m    251\u001b[0m     \u001b[0;32melif\u001b[0m \u001b[0mblank\u001b[0m \u001b[0;32mand\u001b[0m \u001b[0mvalue\u001b[0m \u001b[0;34m==\u001b[0m \u001b[0;34m\"\"\u001b[0m\u001b[0;34m:\u001b[0m\u001b[0;34m\u001b[0m\u001b[0;34m\u001b[0m\u001b[0m\n",
            "\u001b[0;32m/usr/local/lib/python3.7/dist-packages/pysimplevalidate/__init__.py\u001b[0m in \u001b[0;36m_raiseValidationException\u001b[0;34m(standardExcMsg, customExcMsg)\u001b[0m\n\u001b[1;32m    221\u001b[0m     \u001b[0;32mif\u001b[0m \u001b[0mcustomExcMsg\u001b[0m \u001b[0;32mis\u001b[0m \u001b[0;32mNone\u001b[0m\u001b[0;34m:\u001b[0m\u001b[0;34m\u001b[0m\u001b[0;34m\u001b[0m\u001b[0m\n\u001b[0;32m--> 222\u001b[0;31m         \u001b[0;32mraise\u001b[0m \u001b[0mValidationException\u001b[0m\u001b[0;34m(\u001b[0m\u001b[0mstr\u001b[0m\u001b[0;34m(\u001b[0m\u001b[0mstandardExcMsg\u001b[0m\u001b[0;34m)\u001b[0m\u001b[0;34m)\u001b[0m\u001b[0;34m\u001b[0m\u001b[0;34m\u001b[0m\u001b[0m\n\u001b[0m\u001b[1;32m    223\u001b[0m     \u001b[0;32melse\u001b[0m\u001b[0;34m:\u001b[0m\u001b[0;34m\u001b[0m\u001b[0;34m\u001b[0m\u001b[0m\n",
            "\u001b[0;31mValidationException\u001b[0m: Blank values are not allowed.",
            "\nDuring handling of the above exception, another exception occurred:\n",
            "\u001b[0;31mRetryLimitException\u001b[0m                       Traceback (most recent call last)",
            "\u001b[0;32m<ipython-input-25-32353863e031>\u001b[0m in \u001b[0;36m<module>\u001b[0;34m\u001b[0m\n\u001b[0;32m----> 1\u001b[0;31m \u001b[0minp\u001b[0m \u001b[0;34m=\u001b[0m \u001b[0mpyip\u001b[0m\u001b[0;34m.\u001b[0m\u001b[0minputStr\u001b[0m\u001b[0;34m(\u001b[0m\u001b[0mprompt\u001b[0m \u001b[0;34m=\u001b[0m \u001b[0;34m\"Enter an string... \"\u001b[0m\u001b[0;34m,\u001b[0m \u001b[0mlimit\u001b[0m \u001b[0;34m=\u001b[0m \u001b[0;36m3\u001b[0m\u001b[0;34m)\u001b[0m\u001b[0;34m\u001b[0m\u001b[0;34m\u001b[0m\u001b[0m\n\u001b[0m\u001b[1;32m      2\u001b[0m \u001b[0mtype\u001b[0m\u001b[0;34m(\u001b[0m\u001b[0minp\u001b[0m\u001b[0;34m)\u001b[0m\u001b[0;34m\u001b[0m\u001b[0;34m\u001b[0m\u001b[0m\n\u001b[1;32m      3\u001b[0m \u001b[0;31m#throws validation exception since we have reached limit\u001b[0m\u001b[0;34m\u001b[0m\u001b[0;34m\u001b[0m\u001b[0;34m\u001b[0m\u001b[0m\n",
            "\u001b[0;32m/usr/local/lib/python3.7/dist-packages/pyinputplus/__init__.py\u001b[0m in \u001b[0;36minputStr\u001b[0;34m(prompt, default, blank, timeout, limit, strip, allowRegexes, blockRegexes, applyFunc, postValidateApplyFunc)\u001b[0m\n\u001b[1;32m    252\u001b[0m         \u001b[0mapplyFunc\u001b[0m\u001b[0;34m=\u001b[0m\u001b[0mapplyFunc\u001b[0m\u001b[0;34m,\u001b[0m\u001b[0;34m\u001b[0m\u001b[0;34m\u001b[0m\u001b[0m\n\u001b[1;32m    253\u001b[0m         \u001b[0mpostValidateApplyFunc\u001b[0m\u001b[0;34m=\u001b[0m\u001b[0mpostValidateApplyFunc\u001b[0m\u001b[0;34m,\u001b[0m\u001b[0;34m\u001b[0m\u001b[0;34m\u001b[0m\u001b[0m\n\u001b[0;32m--> 254\u001b[0;31m         \u001b[0mvalidationFunc\u001b[0m\u001b[0;34m=\u001b[0m\u001b[0mvalidationFunc\u001b[0m\u001b[0;34m,\u001b[0m\u001b[0;34m\u001b[0m\u001b[0;34m\u001b[0m\u001b[0m\n\u001b[0m\u001b[1;32m    255\u001b[0m     )\n\u001b[1;32m    256\u001b[0m \u001b[0;34m\u001b[0m\u001b[0m\n",
            "\u001b[0;32m/usr/local/lib/python3.7/dist-packages/pyinputplus/__init__.py\u001b[0m in \u001b[0;36m_genericInput\u001b[0;34m(prompt, default, timeout, limit, applyFunc, validationFunc, postValidateApplyFunc, passwordMask)\u001b[0m\n\u001b[1;32m    186\u001b[0m                 \u001b[0;32melse\u001b[0m\u001b[0;34m:\u001b[0m\u001b[0;34m\u001b[0m\u001b[0;34m\u001b[0m\u001b[0m\n\u001b[1;32m    187\u001b[0m                     \u001b[0;31m# If there is no default, then raise the timeout/limit exception.\u001b[0m\u001b[0;34m\u001b[0m\u001b[0;34m\u001b[0m\u001b[0;34m\u001b[0m\u001b[0m\n\u001b[0;32m--> 188\u001b[0;31m                     \u001b[0;32mraise\u001b[0m \u001b[0mlimitOrTimeoutException\u001b[0m\u001b[0;34m\u001b[0m\u001b[0;34m\u001b[0m\u001b[0m\n\u001b[0m\u001b[1;32m    189\u001b[0m             \u001b[0;32melse\u001b[0m\u001b[0;34m:\u001b[0m\u001b[0;34m\u001b[0m\u001b[0;34m\u001b[0m\u001b[0m\n\u001b[1;32m    190\u001b[0m                 \u001b[0;31m# If there was no timeout/limit exceeded, let the user enter input again.\u001b[0m\u001b[0;34m\u001b[0m\u001b[0;34m\u001b[0m\u001b[0;34m\u001b[0m\u001b[0m\n",
            "\u001b[0;31mRetryLimitException\u001b[0m: "
          ]
        }
      ]
    },
    {
      "cell_type": "markdown",
      "source": [
        "07 . If blank input is entered three times, what does inputStr(limit=3, default=&#39;hello&#39;) do?"
      ],
      "metadata": {
        "id": "iwwgBLqC-5s7"
      }
    },
    {
      "cell_type": "code",
      "source": [
        "inp = pyip.inputStr(prompt = \"Enter a string... \", default=\"hello\",limit = 3)\n",
        "type(inp)\n",
        "#throws validation exception since we have reached limit "
      ],
      "metadata": {
        "colab": {
          "base_uri": "https://localhost:8080/"
        },
        "id": "dfJo5uPu-xtR",
        "outputId": "668df783-4661-47ee-ad8d-c2f9aee880ec"
      },
      "execution_count": 26,
      "outputs": [
        {
          "output_type": "stream",
          "name": "stdout",
          "text": [
            "Enter a string... \n",
            "Blank values are not allowed.\n",
            "Enter a string... \n",
            "Blank values are not allowed.\n",
            "Enter a string... \n",
            "Blank values are not allowed.\n"
          ]
        },
        {
          "output_type": "execute_result",
          "data": {
            "text/plain": [
              "str"
            ]
          },
          "metadata": {},
          "execution_count": 26
        }
      ]
    },
    {
      "cell_type": "code",
      "source": [
        "inp"
      ],
      "metadata": {
        "colab": {
          "base_uri": "https://localhost:8080/",
          "height": 35
        },
        "id": "qzE5Xa1d_JXM",
        "outputId": "33cc60e9-445e-49cf-d777-024081205728"
      },
      "execution_count": 27,
      "outputs": [
        {
          "output_type": "execute_result",
          "data": {
            "text/plain": [
              "'hello'"
            ],
            "application/vnd.google.colaboratory.intrinsic+json": {
              "type": "string"
            }
          },
          "metadata": {},
          "execution_count": 27
        }
      ]
    },
    {
      "cell_type": "markdown",
      "source": [
        "* if we reached the maximum limit it takes default argument as its value."
      ],
      "metadata": {
        "id": "JugWDZ0k_Ort"
      }
    }
  ]
}