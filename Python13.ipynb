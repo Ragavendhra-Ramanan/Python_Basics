{
  "nbformat": 4,
  "nbformat_minor": 0,
  "metadata": {
    "colab": {
      "provenance": [],
      "authorship_tag": "ABX9TyNMEHwV9sJOjZfL9YYJ8oNC",
      "include_colab_link": true
    },
    "kernelspec": {
      "name": "python3",
      "display_name": "Python 3"
    },
    "language_info": {
      "name": "python"
    }
  },
  "cells": [
    {
      "cell_type": "markdown",
      "metadata": {
        "id": "view-in-github",
        "colab_type": "text"
      },
      "source": [
        "<a href=\"https://colab.research.google.com/github/Ragavendhra-Ramanan/Python_Basics/blob/main/Python13.ipynb\" target=\"_parent\"><img src=\"https://colab.research.google.com/assets/colab-badge.svg\" alt=\"Open In Colab\"/></a>"
      ]
    },
    {
      "cell_type": "markdown",
      "source": [
        "01 .What advantages do Excel spreadsheets have over CSV spreadsheets?"
      ],
      "metadata": {
        "id": "8qEKkymfKq1F"
      }
    },
    {
      "cell_type": "markdown",
      "source": [
        "* In Excel external links can be added with custom addins.\n",
        "* It is easier for end user to read large files."
      ],
      "metadata": {
        "id": "WlgZu0WXKtan"
      }
    },
    {
      "cell_type": "markdown",
      "source": [
        "02 .What do you pass to csv.reader() and csv.writer() to create reader and writer objects?"
      ],
      "metadata": {
        "id": "tLlUrmHSLJsd"
      }
    },
    {
      "cell_type": "markdown",
      "source": [
        "* we pass the filename after opening to both csv.writer() and csv.reader() object."
      ],
      "metadata": {
        "id": "phCw9qilL-hB"
      }
    },
    {
      "cell_type": "markdown",
      "source": [
        "03 .What modes do File objects for reader and writer objects need to be opened in?"
      ],
      "metadata": {
        "id": "11HUHoGIMHNl"
      }
    },
    {
      "cell_type": "markdown",
      "source": [
        "* reader in read 'r' mode\n",
        "* writer in write 'w' mode"
      ],
      "metadata": {
        "id": "ED8T5DHuMdkc"
      }
    },
    {
      "cell_type": "markdown",
      "source": [
        "04 .What method takes a list argument and writes it to a CSV file?"
      ],
      "metadata": {
        "id": "c1Pxu6aVMjbs"
      }
    },
    {
      "cell_type": "markdown",
      "source": [
        "* file.writerow(list[]) takes a list of object and writes it in file"
      ],
      "metadata": {
        "id": "j8hx_LojMnsf"
      }
    },
    {
      "cell_type": "markdown",
      "source": [
        "05 .What do the keyword arguments delimiter and line terminator do?"
      ],
      "metadata": {
        "id": "gQGqtGIEM2A2"
      }
    },
    {
      "cell_type": "markdown",
      "source": [
        "* delimiter comes in between the cells in a row.\",\" is default value.\n",
        "* Line terminator comes at end of the row. newline is default value"
      ],
      "metadata": {
        "id": "7in5oyFQM68P"
      }
    },
    {
      "cell_type": "markdown",
      "source": [
        "06 .What function takes a string of JSON data and returns a Python data structure?"
      ],
      "metadata": {
        "id": "pfngEkl1NUbJ"
      }
    },
    {
      "cell_type": "markdown",
      "source": [
        "* json.loads() retruns a python dictionary"
      ],
      "metadata": {
        "id": "HGbCl2poNx54"
      }
    },
    {
      "cell_type": "markdown",
      "source": [
        "07 .What function takes a Python data structure and returns a string of JSON data?"
      ],
      "metadata": {
        "id": "u2KdytpuN1rF"
      }
    },
    {
      "cell_type": "markdown",
      "source": [
        "* json.dump()"
      ],
      "metadata": {
        "id": "AKNMuNHWN6iF"
      }
    },
    {
      "cell_type": "code",
      "execution_count": null,
      "metadata": {
        "id": "zmqrSi8FKl3g"
      },
      "outputs": [],
      "source": []
    }
  ]
}