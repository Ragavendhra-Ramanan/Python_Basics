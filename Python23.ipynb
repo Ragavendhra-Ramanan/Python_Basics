{
  "nbformat": 4,
  "nbformat_minor": 0,
  "metadata": {
    "colab": {
      "provenance": [],
      "authorship_tag": "ABX9TyOANADkwKuii8wzQdJEkAcP",
      "include_colab_link": true
    },
    "kernelspec": {
      "name": "python3",
      "display_name": "Python 3"
    },
    "language_info": {
      "name": "python"
    }
  },
  "cells": [
    {
      "cell_type": "markdown",
      "metadata": {
        "id": "view-in-github",
        "colab_type": "text"
      },
      "source": [
        "<a href=\"https://colab.research.google.com/github/Ragavendhra-Ramanan/Python_Basics/blob/main/Python23.ipynb\" target=\"_parent\"><img src=\"https://colab.research.google.com/assets/colab-badge.svg\" alt=\"Open In Colab\"/></a>"
      ]
    },
    {
      "cell_type": "markdown",
      "source": [
        "01 .What is the result of the code, and why?\n",
        "&gt;&gt;&gt; def func(a, b=6, c=8):\n",
        "print(a, b, c)\n",
        "&gt;&gt;&gt; func(1, 2)\n"
      ],
      "metadata": {
        "id": "m433AKc4gHEK"
      }
    },
    {
      "cell_type": "code",
      "execution_count": 1,
      "metadata": {
        "colab": {
          "base_uri": "https://localhost:8080/"
        },
        "id": "YaABp5FOgDxv",
        "outputId": "3cbbe5d7-958c-48e7-f9eb-4ce10d66478d"
      },
      "outputs": [
        {
          "output_type": "stream",
          "name": "stdout",
          "text": [
            "1 2 8\n"
          ]
        }
      ],
      "source": [
        "def func(a,b=6,c=8):\n",
        "  print(a,b,c)\n",
        "\n",
        "func(1,2)"
      ]
    },
    {
      "cell_type": "markdown",
      "source": [
        "* The function takes 3 positional arguments where 2 have defualt values.\n",
        "* When  we pass arguments it will be taken sequentially"
      ],
      "metadata": {
        "id": "58D4nG1cgSJJ"
      }
    },
    {
      "cell_type": "markdown",
      "source": [
        "02 .What is the result of this code, and why?\n",
        "&gt;&gt;&gt; def func(a, b, c=5):\n",
        "print(a, b, c)\n",
        "&gt;&gt;&gt; func(1, c=3, b=2)"
      ],
      "metadata": {
        "id": "2FVn6qWegfsz"
      }
    },
    {
      "cell_type": "code",
      "source": [
        "def func(a,b,c=5):\n",
        "  print(a,b,c)\n",
        "\n",
        "func(1,c=3,b=2)"
      ],
      "metadata": {
        "colab": {
          "base_uri": "https://localhost:8080/"
        },
        "id": "GfREkIzUgRk3",
        "outputId": "e049169f-f3c6-42b8-eee8-fba19a731ad0"
      },
      "execution_count": 2,
      "outputs": [
        {
          "output_type": "stream",
          "name": "stdout",
          "text": [
            "1 2 3\n"
          ]
        }
      ]
    },
    {
      "cell_type": "markdown",
      "source": [
        "* The function takes 3 positional arguments where 2 have defualt values.\n",
        "* We can pass argument by changing place if name is explicitly mentioned"
      ],
      "metadata": {
        "id": "xIkiCWOygqzj"
      }
    },
    {
      "cell_type": "markdown",
      "source": [
        "03 .How about this code: what is its result, and why?\n",
        "&gt;&gt;&gt; def func(a, *pargs):\n",
        "print(a, pargs)\n",
        "&gt;&gt;&gt; func(1, 2, 3)"
      ],
      "metadata": {
        "id": "Cam_45DDg169"
      }
    },
    {
      "cell_type": "code",
      "source": [
        "def func(a,*pargs):\n",
        "  print(a,pargs)\n",
        "\n",
        "func(1,2,3)"
      ],
      "metadata": {
        "colab": {
          "base_uri": "https://localhost:8080/"
        },
        "id": "N5sWIru7gozs",
        "outputId": "de27fcdf-31ca-4db6-f5ee-93d221eb2349"
      },
      "execution_count": 4,
      "outputs": [
        {
          "output_type": "stream",
          "name": "stdout",
          "text": [
            "1 (2, 3)\n"
          ]
        }
      ]
    },
    {
      "cell_type": "markdown",
      "source": [
        "* Using *Pargs we can pass as many values we want which will be taken as a tuple "
      ],
      "metadata": {
        "id": "44MdmwydhAVN"
      }
    },
    {
      "cell_type": "markdown",
      "source": [
        "04 .What does this code print, and why?\n",
        "&gt;&gt;&gt; def func(a, **kargs):\n",
        "print(a, kargs)\n",
        "&gt;&gt;&gt; func(a=1, c=3, b=2)"
      ],
      "metadata": {
        "id": "BGDJmDTRixze"
      }
    },
    {
      "cell_type": "code",
      "source": [
        "def func(a,**kargs):\n",
        "  print(a,kargs)\n",
        "\n",
        "func(a=1,c=3,b=2)"
      ],
      "metadata": {
        "colab": {
          "base_uri": "https://localhost:8080/"
        },
        "id": "G9hJRGOLg94b",
        "outputId": "16410c4c-8c32-4704-8606-269ff57c9974"
      },
      "execution_count": 5,
      "outputs": [
        {
          "output_type": "stream",
          "name": "stdout",
          "text": [
            "1 {'c': 3, 'b': 2}\n"
          ]
        }
      ]
    },
    {
      "cell_type": "markdown",
      "source": [
        "* Using **kwargs we can pass as many values we want which will be taken as a dictionary."
      ],
      "metadata": {
        "id": "SPnTiUhVjCDz"
      }
    },
    {
      "cell_type": "markdown",
      "source": [
        "05 .What gets printed by this, and explain?\n",
        "&gt;&gt;&gt; def func(a, b, c=8, d=5): print(a, b, c, d)\n",
        "&gt;&gt;&gt; func(1, *(5, 6))"
      ],
      "metadata": {
        "id": "Z18-CV4wjHr5"
      }
    },
    {
      "cell_type": "code",
      "source": [
        "def func(a,b,c=8,d=5):\n",
        "  print(a,b,c,d)\n",
        "\n",
        "func(1,*(5,6))"
      ],
      "metadata": {
        "colab": {
          "base_uri": "https://localhost:8080/"
        },
        "id": "_uRkvykbjBN5",
        "outputId": "dc233999-4de2-45ee-9f76-1f1ceec49f3e"
      },
      "execution_count": 6,
      "outputs": [
        {
          "output_type": "stream",
          "name": "stdout",
          "text": [
            "1 5 6 5\n"
          ]
        }
      ]
    },
    {
      "cell_type": "markdown",
      "source": [
        "* the values mentioned inside *(5,6) is unpacked as tuple "
      ],
      "metadata": {
        "id": "x94iRokijjlq"
      }
    },
    {
      "cell_type": "markdown",
      "source": [
        "06 .what is the result of this, and explain?\n",
        "&gt;&gt;&gt; def func(a, b, c): a = 2; b[0] = &#39;x&#39;; c[&#39;a&#39;] = &#39;y&#39;\n",
        "&gt;&gt;&gt; l=1; m=[1]; n={&#39;a&#39;:0}\n",
        "&gt;&gt;&gt; func(l, m, n)\n",
        "\n",
        "&gt;&gt;&gt; l, m, n"
      ],
      "metadata": {
        "id": "vxMRZQwjjqia"
      }
    },
    {
      "cell_type": "code",
      "source": [
        "def func(a,b,c):\n",
        "  a=2\n",
        "  b[0]='x'\n",
        "  c['a']='y'"
      ],
      "metadata": {
        "id": "A4-DTPwDjTPh"
      },
      "execution_count": 7,
      "outputs": []
    },
    {
      "cell_type": "code",
      "source": [
        "l=1\n",
        "m=[1]\n",
        "n={'a':0,}\n",
        "func(l,m,n)"
      ],
      "metadata": {
        "id": "qWCQqiB4j3O-"
      },
      "execution_count": 12,
      "outputs": []
    },
    {
      "cell_type": "code",
      "source": [
        "l,m,n"
      ],
      "metadata": {
        "colab": {
          "base_uri": "https://localhost:8080/"
        },
        "id": "TyNt2ts-kCRS",
        "outputId": "766a93a7-aeab-46b2-cace-331d676aaa19"
      },
      "execution_count": 13,
      "outputs": [
        {
          "output_type": "execute_result",
          "data": {
            "text/plain": [
              "(1, ['x'], {'a': 'y'})"
            ]
          },
          "metadata": {},
          "execution_count": 13
        }
      ]
    },
    {
      "cell_type": "markdown",
      "source": [
        "* simple datatypes are not affected whereas complex datatypes are affected since here shallow copy is done ."
      ],
      "metadata": {
        "id": "2w7jF_g4kJTd"
      }
    },
    {
      "cell_type": "code",
      "source": [],
      "metadata": {
        "id": "EBDrlesukDa-"
      },
      "execution_count": null,
      "outputs": []
    }
  ]
}