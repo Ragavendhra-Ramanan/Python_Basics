{
 "cells": [
  {
   "cell_type": "markdown",
   "id": "1ab5f953",
   "metadata": {},
   "source": [
    "01 . Add the current date to the text file today.txt as a string."
   ]
  },
  {
   "cell_type": "code",
   "execution_count": 1,
   "id": "eeee5e45",
   "metadata": {},
   "outputs": [
    {
     "data": {
      "text/plain": [
       "15"
      ]
     },
     "execution_count": 1,
     "metadata": {},
     "output_type": "execute_result"
    }
   ],
   "source": [
    "import datetime\n",
    "  \n",
    "date = datetime.datetime.now()\n",
    "res=date.strftime(\"%d %B %Y\")\n",
    "f=open(\"today.txt\",\"w\")\n",
    "f.write(res)"
   ]
  },
  {
   "cell_type": "markdown",
   "id": "2d928236",
   "metadata": {},
   "source": [
    "02 .Read the text file today.txt into the string today_string"
   ]
  },
  {
   "cell_type": "code",
   "execution_count": 4,
   "id": "f44561aa",
   "metadata": {},
   "outputs": [],
   "source": [
    "f=open(\"today.txt\",\"r\")\n",
    "today_string=f.read()"
   ]
  },
  {
   "cell_type": "code",
   "execution_count": 5,
   "id": "2a82afde",
   "metadata": {},
   "outputs": [
    {
     "data": {
      "text/plain": [
       "'14 October 2022'"
      ]
     },
     "execution_count": 5,
     "metadata": {},
     "output_type": "execute_result"
    }
   ],
   "source": [
    "today_string"
   ]
  },
  {
   "cell_type": "markdown",
   "id": "310221c9",
   "metadata": {},
   "source": [
    "03 .Parse the date from today_string."
   ]
  },
  {
   "cell_type": "code",
   "execution_count": 15,
   "id": "24a4bf14",
   "metadata": {},
   "outputs": [
    {
     "data": {
      "text/plain": [
       "14"
      ]
     },
     "execution_count": 15,
     "metadata": {},
     "output_type": "execute_result"
    }
   ],
   "source": [
    "import datetime\n",
    "\n",
    "date=datetime.datetime.strptime(today_string,\"%d %B %Y\").date()\n",
    "date.day"
   ]
  },
  {
   "cell_type": "markdown",
   "id": "98f64882",
   "metadata": {},
   "source": [
    "04 .List the files in your current directory"
   ]
  },
  {
   "cell_type": "code",
   "execution_count": 17,
   "id": "34e2ff6b",
   "metadata": {},
   "outputs": [
    {
     "name": "stdout",
     "output_type": "stream",
     "text": [
      " \u001b[0m\u001b[01;34m.\u001b[0m/\r\n",
      " \u001b[01;34m..\u001b[0m/\r\n",
      " 1.txt\r\n",
      " 2.txt\r\n",
      " \u001b[01;32ma\u001b[0m*\r\n",
      " aa.c\r\n",
      " add_cli.c\r\n",
      " add_se.c\r\n",
      " adhis.txt\r\n",
      " aes.java\r\n",
      " \u001b[01;32maff\u001b[0m*\r\n",
      " aff_cli.c\r\n",
      " aff_se.c\r\n",
      " ai.c\r\n",
      " \u001b[01;34m.anaconda\u001b[0m/\r\n",
      " \u001b[01;34manaconda3\u001b[0m/\r\n",
      " \u001b[01;34m.android\u001b[0m/\r\n",
      " \u001b[01;34mAndroid\u001b[0m/\r\n",
      " \u001b[01;34mAndroidStudioProjects\u001b[0m/\r\n",
      " \u001b[01;34mangular\u001b[0m/\r\n",
      " .angular-config.json\r\n",
      " \u001b[01;34m.anydesk\u001b[0m/\r\n",
      " Apache-NetBeans-12.0-bin-linux-x64.sh\r\n",
      " apache-tomcat-9.0.43.tar.gz\r\n",
      " asses_1.cpp\r\n",
      " a.txt\r\n",
      " \u001b[01;32mb\u001b[0m*\r\n",
      " .babel.json\r\n",
      " .bash_history\r\n",
      " .bashrc\r\n",
      " .bashrc.save\r\n",
      " .bashrc.save.1\r\n",
      " .bashrc.save.2\r\n",
      " \u001b[01;34m.bazel\u001b[0m/\r\n",
      " Best_Model_1.ipynb\r\n",
      " books.csv\r\n",
      " books.db\r\n",
      " \u001b[01;32mc\u001b[0m*\r\n",
      " \u001b[01;34m.cache\u001b[0m/\r\n",
      "\u001b[01;34m'Calibre Library'\u001b[0m/\r\n",
      " clo1.c++\r\n",
      " coding\r\n",
      " col.c++\r\n",
      " \u001b[01;34m.conda\u001b[0m/\r\n",
      " .condarc\r\n",
      " \u001b[01;34m.config\u001b[0m/\r\n",
      " \u001b[01;34m.continuum\u001b[0m/\r\n",
      " \u001b[01;34m.dart\u001b[0m/\r\n",
      " \u001b[01;34m.dartServer\u001b[0m/\r\n",
      " .dbshell\r\n",
      " \u001b[01;34m.dbus\u001b[0m/\r\n",
      " des.c\r\n",
      " \u001b[01;34mDesktop\u001b[0m/\r\n",
      " dh_client1.java\r\n",
      " dh_server1.java\r\n",
      " \u001b[01;34m.docker\u001b[0m/\r\n",
      " \u001b[01;34mDocuments\u001b[0m/\r\n",
      " \u001b[01;34m.dotnet\u001b[0m/\r\n",
      " double_trans.c++\r\n",
      " \u001b[01;34mDownloads\u001b[0m/\r\n",
      " \u001b[01;34m.dt-shell\u001b[0m/\r\n",
      " \u001b[01;34m.eclipse\u001b[0m/\r\n",
      " \u001b[01;34meclipse\u001b[0m/\r\n",
      " \u001b[01;34meclipse-workspace\u001b[0m/\r\n",
      " \u001b[01;34m.expo\u001b[0m/\r\n",
      " .flutter\r\n",
      "\u001b[01;34m'[FreeCoursesOnline.Me] UDACITY - Blockchain Developer Beta v1.0.0'\u001b[0m/\r\n",
      "'FULL MATCH - Mark Henry vs Big Show - World Heavyweight Title Match WWE Survivor Series 2011.mp4'\r\n",
      " \u001b[01;34m.gazebo\u001b[0m/\r\n",
      " \u001b[01;34m.Genymobile\u001b[0m/\r\n",
      " genymotion-logs-20210509-212437.zip\r\n",
      " genymotion-logs-20210509-212632.zip\r\n",
      " genymotion-logs-20210509-213812.zip\r\n",
      " genymotion-logs-20210510-235844.zip\r\n",
      " ggh.mp4\r\n",
      " .gitconfig\r\n",
      " \u001b[01;34mglassfish-4.1.1\u001b[0m/\r\n",
      " \u001b[01;34m.gnome\u001b[0m/\r\n",
      " \u001b[01;34m.gnupg\u001b[0m/\r\n",
      " google-services.json\r\n",
      " \u001b[01;34m.gphoto\u001b[0m/\r\n",
      " \u001b[01;34m.gradle\u001b[0m/\r\n",
      " \u001b[01;34m.gvfs\u001b[0m/\r\n",
      " \u001b[01;32mh\u001b[0m*\r\n",
      " h.html\r\n",
      " How_to_Avoid_a_Climate_Disaster__for_ramananrohit4.pdf\r\n",
      " hs_err_pid5161.log\r\n",
      " h.txt\r\n",
      " .ICEauthority\r\n",
      " \u001b[01;34m.idea\u001b[0m/\r\n",
      " \u001b[01;34m.ignition\u001b[0m/\r\n",
      " input434.jpg\r\n",
      " input.txt\r\n",
      " inupt.txt\r\n",
      " \u001b[01;34m.ipynb_checkpoints\u001b[0m/\r\n",
      " \u001b[01;34m.ipython\u001b[0m/\r\n",
      " \u001b[01;34m.java\u001b[0m/\r\n",
      " \u001b[01;34m.jupyter\u001b[0m/\r\n",
      " kavithai\r\n",
      " \u001b[01;34m.keras\u001b[0m/\r\n",
      " key.txt\r\n",
      " licenses\r\n",
      " \u001b[01;34m.local\u001b[0m/\r\n",
      " \u001b[01;34m.m2\u001b[0m/\r\n",
      " \u001b[01;34m__MACOSX\u001b[0m/\r\n",
      " \u001b[01;34mmake_dir\u001b[0m/\r\n",
      " mi.c\r\n",
      " \u001b[01;34m.mongodb\u001b[0m/\r\n",
      " .mongorc.js\r\n",
      " \u001b[01;34m.mozilla\u001b[0m/\r\n",
      " mul_cli.c\r\n",
      " mul_se.c\r\n",
      " \u001b[01;34mMusic\u001b[0m/\r\n",
      " .mysql_history\r\n",
      " name.html\r\n",
      " \u001b[01;34m.nbi\u001b[0m/\r\n",
      " \u001b[01;34m.netbeans\u001b[0m/\r\n",
      " \u001b[01;34mnetbeans-8.2\u001b[0m/\r\n",
      " \u001b[01;34mNetBeansProjects\u001b[0m/\r\n",
      " .netrc\r\n",
      " new_File\r\n",
      " newFile\r\n",
      " \u001b[01;34mnew_v\u001b[0m/\r\n",
      " \u001b[01;34m.ngrok2\u001b[0m/\r\n",
      " \u001b[01;34mnltk_data\u001b[0m/\r\n",
      " \u001b[01;34m.node-gyp\u001b[0m/\r\n",
      " \u001b[01;34m.npm\u001b[0m/\r\n",
      " \u001b[01;34m.npm-global\u001b[0m/\r\n",
      " \u001b[01;34m.nuget\u001b[0m/\r\n",
      " \u001b[01;34m.nvm\u001b[0m/\r\n",
      " \u001b[01;34m.omnisharp\u001b[0m/\r\n",
      " output_sem.cpp\r\n",
      " \u001b[01;34m.p2\u001b[0m/\r\n",
      " P4.ipynb\r\n",
      " package-lock.json\r\n",
      " pass.class\r\n",
      " pass.java\r\n",
      " \u001b[01;34mPictures\u001b[0m/\r\n",
      " \u001b[01;34m.pki\u001b[0m/\r\n",
      " plan.txr\r\n",
      " plan.txt\r\n",
      " \u001b[01;34m.PlayOnLinux\u001b[0m/\r\n",
      "\u001b[01;36m\"PlayOnLinux's virtual drives\"\u001b[0m@\r\n",
      " \u001b[01;34mppa-purge\u001b[0m/\r\n",
      " pro_car\r\n",
      " pro.cpp\r\n",
      " \u001b[01;34mproject\u001b[0m/\r\n",
      " project.ipynb\r\n",
      " project.ipynb.1\r\n",
      " project.ipynb.2\r\n",
      " project.ipynb.3\r\n",
      " project.ipynb.4\r\n",
      " project.ipynb.5\r\n",
      " project.zip\r\n",
      " .psql_history\r\n",
      " \u001b[01;34m.pub-cache\u001b[0m/\r\n",
      " \u001b[01;34mPublic\u001b[0m/\r\n",
      " \u001b[01;34m.putty\u001b[0m/\r\n",
      " \u001b[01;34mpy37-venv\u001b[0m/\r\n",
      " \u001b[01;34m__pycache__\u001b[0m/\r\n",
      " \u001b[01;34m.py-solc\u001b[0m/\r\n",
      " Python18.ipynb\r\n",
      " Python20.ipynb\r\n",
      " Python21.ipynb\r\n",
      " python_ds.txt\r\n",
      " \u001b[01;34mPython-for-Finance-Cookbook\u001b[0m/\r\n",
      " .python_history\r\n",
      " \u001b[01;34mQtCreator\u001b[0m/\r\n",
      " rail.c++\r\n",
      " \u001b[01;34mram\u001b[0m/\r\n",
      " raspberrypi.gpg.key\r\n",
      " raspberrypi.gpg.key.1\r\n",
      " \u001b[01;34m.react-native-cli\u001b[0m/\r\n",
      "'Reading Comprehension & Essays GRE Strategy Guide.pdf'\r\n",
      " \u001b[01;34mreinforcement-learning-car\u001b[0m/\r\n",
      " requirements.txt\r\n",
      " result.txt\r\n",
      " \u001b[01;34mRideBookingApp\u001b[0m/\r\n",
      " \u001b[01;34m.ros\u001b[0m/\r\n",
      " sathiya1.pdf\r\n",
      " sathiya1.xls\r\n",
      " sathiya1.xlss.xls\r\n",
      " sathiya.pdf\r\n",
      " sathiya.xls\r\n",
      " sc.py\r\n",
      " \u001b[01;34m.sdformat\u001b[0m/\r\n",
      " \u001b[01;34mself_driving\u001b[0m/\r\n",
      " \u001b[01;34mSelf-Driving-Car-\u001b[0m/\r\n",
      " sha.class\r\n",
      " sha.java\r\n",
      " single_trans.c++\r\n",
      " \u001b[01;34msnap\u001b[0m/\r\n",
      " \u001b[01;34m.solc-select\u001b[0m/\r\n",
      " \u001b[01;34msolc-select\u001b[0m/\r\n",
      " .sqlite_history\r\n",
      " \u001b[01;34mSRP\u001b[0m/\r\n",
      " \u001b[01;34m.ssh\u001b[0m/\r\n",
      " \u001b[01;34m.streamlit\u001b[0m/\r\n",
      " .sudo_as_admin_successful\r\n",
      " super-market-billing.CPP\r\n",
      " \u001b[01;34m.swt\u001b[0m/\r\n",
      " \u001b[01;34m.templateengine\u001b[0m/\r\n",
      " \u001b[01;34mTemplates\u001b[0m/\r\n",
      " \u001b[01;34mtensorflow\u001b[0m/\r\n",
      " test1.txt\r\n",
      " \u001b[01;34m.thunderbird\u001b[0m/\r\n",
      " ToA.py\r\n",
      " today.txt\r\n",
      " \u001b[01;34m.tooling\u001b[0m/\r\n",
      " \u001b[01;34mtraining\u001b[0m/\r\n",
      " Untitled.ipynb\r\n",
      " \u001b[01;34mvenv\u001b[0m/\r\n",
      " vi_cli.c\r\n",
      " \u001b[01;34mVideos\u001b[0m/\r\n",
      " vii_se.c\r\n",
      " .viminfo\r\n",
      " vi_se.c\r\n",
      " \u001b[01;34m.vnc\u001b[0m/\r\n",
      " \u001b[01;34m.vscode\u001b[0m/\r\n",
      " \u001b[01;34m.vscode-react-native\u001b[0m/\r\n",
      " \u001b[01;34m.wdm\u001b[0m/\r\n",
      " .wget-hsts\r\n",
      " \u001b[01;34m.wine\u001b[0m/\r\n",
      " x.cpp\r\n",
      " x_input.jpg\r\n",
      " x.py\r\n",
      " .xrced\r\n",
      " \u001b[01;34m.yarn\u001b[0m/\r\n",
      " .yarnrc\r\n",
      " yttyt.txt\r\n",
      " zoo.py\r\n"
     ]
    }
   ],
   "source": [
    "ls -a"
   ]
  },
  {
   "cell_type": "markdown",
   "id": "3eb7a4b5",
   "metadata": {},
   "source": [
    "05 .Create a list of all of the files in your parent directory (minimum five files should be available)."
   ]
  },
  {
   "cell_type": "code",
   "execution_count": 21,
   "id": "618d5748",
   "metadata": {},
   "outputs": [
    {
     "name": "stdout",
     "output_type": "stream",
     "text": [
      "\u001b[0m\u001b[01;34m.\u001b[0m/  \u001b[01;34m..\u001b[0m/  \u001b[01;34mhduser_\u001b[0m/  \u001b[01;34mraja\u001b[0m/  \u001b[01;34mramanan\u001b[0m/\r\n"
     ]
    }
   ],
   "source": [
    "ls .. -a"
   ]
  },
  {
   "cell_type": "markdown",
   "id": "c6015489",
   "metadata": {},
   "source": [
    "06 . Use multiprocessing to create three separate processes. Make each one wait a random number of\n",
    "seconds between one and five, print the current time, and then exit."
   ]
  },
  {
   "cell_type": "code",
   "execution_count": 24,
   "id": "f58c9fda",
   "metadata": {},
   "outputs": [
    {
     "name": "stdout",
     "output_type": "stream",
     "text": [
      "current time 1665906339.2290096\n",
      "current time 1665906340.2298067\n",
      "current time 1665906341.229777\n",
      "Done in 5.0546 seconds\n"
     ]
    }
   ],
   "source": [
    "import multiprocessing\n",
    "import time\n",
    "import random\n",
    "\n",
    "def sleepy_man(sec):\n",
    "    \n",
    "    time.sleep(random.randint(1,5))\n",
    "    print(\"current time\",time.time())\n",
    "    \n",
    "\n",
    "tic = time.time()\n",
    "\n",
    "pool = multiprocessing.Pool(3)\n",
    "pool.map(sleepy_man, range(1,4))\n",
    "pool.close()\n",
    "\n",
    "toc = time.time()\n",
    "\n",
    "print('Done in {:.4f} seconds'.format(toc-tic))"
   ]
  },
  {
   "cell_type": "markdown",
   "id": "21579afa",
   "metadata": {},
   "source": [
    "07 .Create a date object of your day of birth."
   ]
  },
  {
   "cell_type": "code",
   "execution_count": 25,
   "id": "ef6674e7",
   "metadata": {},
   "outputs": [
    {
     "name": "stdout",
     "output_type": "stream",
     "text": [
      "2000-03-19 00:00:00\n"
     ]
    }
   ],
   "source": [
    "import datetime\n",
    "\n",
    "x = datetime.datetime(2000, 3, 19)\n",
    "\n",
    "print(x)"
   ]
  },
  {
   "cell_type": "code",
   "execution_count": 26,
   "id": "e6bedbd9",
   "metadata": {},
   "outputs": [
    {
     "name": "stdout",
     "output_type": "stream",
     "text": [
      "Object `birth` not found.\n"
     ]
    }
   ],
   "source": [
    "08 .What day of the week was your day of birth?"
   ]
  },
  {
   "cell_type": "markdown",
   "id": "65403f84",
   "metadata": {},
   "source": [
    "08 .What day of the week was your day of birth"
   ]
  },
  {
   "cell_type": "code",
   "execution_count": 27,
   "id": "09cd4e15",
   "metadata": {},
   "outputs": [
    {
     "name": "stdout",
     "output_type": "stream",
     "text": [
      "2000-03-19 00:00:00\n"
     ]
    },
    {
     "data": {
      "text/plain": [
       "'Sunday'"
      ]
     },
     "execution_count": 27,
     "metadata": {},
     "output_type": "execute_result"
    }
   ],
   "source": [
    "import datetime\n",
    "\n",
    "x = datetime.datetime(2000, 3, 19)\n",
    "\n",
    "print(x)\n",
    "x.strftime(\"%A\")"
   ]
  },
  {
   "cell_type": "markdown",
   "id": "b866d6bc",
   "metadata": {},
   "source": [
    "09 . When will you be (or when were you) 10,000 days old?"
   ]
  },
  {
   "cell_type": "code",
   "execution_count": 28,
   "id": "dc93f753",
   "metadata": {},
   "outputs": [
    {
     "name": "stdout",
     "output_type": "stream",
     "text": [
      "2027-08-05 00:00:00\n"
     ]
    }
   ],
   "source": [
    "import datetime\n",
    "\n",
    "x = datetime.datetime(2000, 3, 19)\n",
    "\n",
    "end_date = x + datetime.timedelta(days=10000)\n",
    "print(end_date)"
   ]
  },
  {
   "cell_type": "code",
   "execution_count": null,
   "id": "f16c03b3",
   "metadata": {},
   "outputs": [],
   "source": []
  }
 ],
 "metadata": {
  "kernelspec": {
   "display_name": "Python 3",
   "language": "python",
   "name": "python3"
  },
  "language_info": {
   "codemirror_mode": {
    "name": "ipython",
    "version": 3
   },
   "file_extension": ".py",
   "mimetype": "text/x-python",
   "name": "python",
   "nbconvert_exporter": "python",
   "pygments_lexer": "ipython3",
   "version": "3.8.8"
  }
 },
 "nbformat": 4,
 "nbformat_minor": 5
}
