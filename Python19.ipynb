{
  "nbformat": 4,
  "nbformat_minor": 0,
  "metadata": {
    "colab": {
      "provenance": [],
      "authorship_tag": "ABX9TyMUXV2Y7SNFH/MRiuooOnoG",
      "include_colab_link": true
    },
    "kernelspec": {
      "name": "python3",
      "display_name": "Python 3"
    },
    "language_info": {
      "name": "python"
    }
  },
  "cells": [
    {
      "cell_type": "markdown",
      "metadata": {
        "id": "view-in-github",
        "colab_type": "text"
      },
      "source": [
        "<a href=\"https://colab.research.google.com/github/Ragavendhra-Ramanan/Python_Basics/blob/main/Python19.ipynb\" target=\"_parent\"><img src=\"https://colab.research.google.com/assets/colab-badge.svg\" alt=\"Open In Colab\"/></a>"
      ]
    },
    {
      "cell_type": "markdown",
      "source": [
        "01 .Make a class called Thing with no contents and print it. Then, create an object called example\n",
        "from this class and also print it. Are the printed values the same or different? "
      ],
      "metadata": {
        "id": "75f6RmIlkVQE"
      }
    },
    {
      "cell_type": "code",
      "source": [
        "class Thing:\n",
        "  pass\n",
        "\n",
        "print(Thing)\n",
        "thing=Thing()\n",
        "print(thing)"
      ],
      "metadata": {
        "colab": {
          "base_uri": "https://localhost:8080/"
        },
        "id": "Durjz16mkdQd",
        "outputId": "dbd19cbb-eecf-48d2-91a1-27d06e0416cd"
      },
      "execution_count": 26,
      "outputs": [
        {
          "output_type": "stream",
          "name": "stdout",
          "text": [
            "<class '__main__.Thing'>\n",
            "<__main__.Thing object at 0x7f0825709690>\n"
          ]
        }
      ]
    },
    {
      "cell_type": "markdown",
      "source": [
        "* Both are not same one is class other is object"
      ],
      "metadata": {
        "id": "yNSBFlk6ppAp"
      }
    },
    {
      "cell_type": "markdown",
      "source": [
        "02 .Create a new class called Thing2 and add the value &#39;abc&#39; to the letters class attribute. Letters\n",
        "should be printed."
      ],
      "metadata": {
        "id": "wQcY3MrupsZW"
      }
    },
    {
      "cell_type": "code",
      "source": [
        "class Thing2:\n",
        "  letters=\"abc\""
      ],
      "metadata": {
        "id": "2iKk2gf6nHzX"
      },
      "execution_count": 29,
      "outputs": []
    },
    {
      "cell_type": "code",
      "execution_count": 33,
      "metadata": {
        "colab": {
          "base_uri": "https://localhost:8080/",
          "height": 35
        },
        "id": "YprE1PM4kOVa",
        "outputId": "1cccb1c4-6689-4fb3-d4b3-f8fdf7e46cab"
      },
      "outputs": [
        {
          "output_type": "execute_result",
          "data": {
            "text/plain": [
              "'abc'"
            ],
            "application/vnd.google.colaboratory.intrinsic+json": {
              "type": "string"
            }
          },
          "metadata": {},
          "execution_count": 33
        }
      ],
      "source": [
        "Thing2.letters"
      ]
    },
    {
      "cell_type": "markdown",
      "source": [
        "03 .Make yet another class called, of course, Thing3. This time, assign the value &#39;xyz&#39; to an instance\n",
        "(object) attribute called letters. Print letters. Do you need to make an object from the class to do\n",
        "this?"
      ],
      "metadata": {
        "id": "l3OSq-87qYWL"
      }
    },
    {
      "cell_type": "code",
      "source": [
        "class Thing3:\n",
        "  def __init__(self):\n",
        "    self.letters=\"xyz\"\n",
        "\n"
      ],
      "metadata": {
        "id": "feVUgoT_lYEM"
      },
      "execution_count": 31,
      "outputs": []
    },
    {
      "cell_type": "code",
      "source": [
        "thing3=Thing3()\n",
        "thing3.letters"
      ],
      "metadata": {
        "colab": {
          "base_uri": "https://localhost:8080/",
          "height": 35
        },
        "id": "xG6rjG-ArPWv",
        "outputId": "91c90881-90b8-4611-c82b-a8048c8de8a9"
      },
      "execution_count": 34,
      "outputs": [
        {
          "output_type": "execute_result",
          "data": {
            "text/plain": [
              "'xyz'"
            ],
            "application/vnd.google.colaboratory.intrinsic+json": {
              "type": "string"
            }
          },
          "metadata": {},
          "execution_count": 34
        }
      ]
    },
    {
      "cell_type": "markdown",
      "source": [
        "04 .Create an Element class with the instance attributes name, symbol, and number. Create a class\n",
        "object with the values &#39;Hydrogen,&#39; &#39;H,&#39; and 1."
      ],
      "metadata": {
        "id": "mxu9arxbrXRN"
      }
    },
    {
      "cell_type": "code",
      "source": [
        "class Element:\n",
        "  def __init__(self,name,symbol,number):\n",
        "    self.name=name\n",
        "    self.symbol=symbol\n",
        "    self.number=number\n",
        "  def getValues(self):\n",
        "    print(self.name,self.symbol,self.number,sep=\"\\n\")"
      ],
      "metadata": {
        "id": "KcDv3zZJrWcw"
      },
      "execution_count": 37,
      "outputs": []
    },
    {
      "cell_type": "code",
      "source": [
        "e=Element(\"Hydrogen\",\"H\",1)\n",
        "e.getValues()"
      ],
      "metadata": {
        "colab": {
          "base_uri": "https://localhost:8080/"
        },
        "id": "omTaeL6QryIz",
        "outputId": "335dc21a-957a-4fc5-fdda-357e71e6681d"
      },
      "execution_count": 38,
      "outputs": [
        {
          "output_type": "stream",
          "name": "stdout",
          "text": [
            "Hydrogen\n",
            "H\n",
            "1\n"
          ]
        }
      ]
    },
    {
      "cell_type": "markdown",
      "source": [
        "05 .Make a dictionary with these keys and values: &#39;name&#39;: &#39;Hydrogen&#39;, &#39;symbol&#39;: &#39;H&#39;, &#39;number&#39;: 1. Then,\n",
        "create an object called hydrogen from class Element using this dictionary."
      ],
      "metadata": {
        "id": "aDY6fvkKr8xX"
      }
    },
    {
      "cell_type": "code",
      "source": [
        "d={\"name\":\"Hydrogen\",\"symbol\":\"H\",\"number\":1}\n",
        "a=Element(d[\"name\"],d[\"symbol\"],d[\"number\"])\n",
        "a.getValues()"
      ],
      "metadata": {
        "colab": {
          "base_uri": "https://localhost:8080/"
        },
        "id": "LlD2mYoir4nW",
        "outputId": "0dc45548-2fa8-4a88-9af5-5fd1264def5f"
      },
      "execution_count": 39,
      "outputs": [
        {
          "output_type": "stream",
          "name": "stdout",
          "text": [
            "Hydrogen\n",
            "H\n",
            "1\n"
          ]
        }
      ]
    },
    {
      "cell_type": "markdown",
      "source": [
        "06 .For the Element class, define a method called dump() that prints the values of the object’s\n",
        "attributes (name, symbol, and number). Create the hydrogen object from this new definition and\n",
        "use dump() to print its attributes."
      ],
      "metadata": {
        "id": "mYXsiqXEsdXN"
      }
    },
    {
      "cell_type": "code",
      "source": [
        "class Element:\n",
        "  def __init__(self,name,symbol,number):\n",
        "    self.name=name\n",
        "    self.symbol=symbol\n",
        "    self.number=number\n",
        "  def dump(self):\n",
        "    print(self.name,self.symbol,self.number,sep=\"\\n\")"
      ],
      "metadata": {
        "id": "xhBI60Iqsaze"
      },
      "execution_count": 40,
      "outputs": []
    },
    {
      "cell_type": "code",
      "source": [
        "hydrogen=Element(d[\"name\"],d[\"symbol\"],d[\"number\"])\n",
        "hydrogen.dump()"
      ],
      "metadata": {
        "colab": {
          "base_uri": "https://localhost:8080/"
        },
        "id": "_7PGHpJvsn6m",
        "outputId": "9be155e5-c6dd-42e8-d3d7-fd0d6afb5718"
      },
      "execution_count": 41,
      "outputs": [
        {
          "output_type": "stream",
          "name": "stdout",
          "text": [
            "Hydrogen\n",
            "H\n",
            "1\n"
          ]
        }
      ]
    },
    {
      "cell_type": "markdown",
      "source": [
        "07 .Call print(hydrogen). In the definition of Element, change the name of method dump to __str__,\n",
        "create a new hydrogen object, and call print(hydrogen) again."
      ],
      "metadata": {
        "id": "sD2daqmoszZ5"
      }
    },
    {
      "cell_type": "code",
      "source": [
        "print(hydrogen)"
      ],
      "metadata": {
        "colab": {
          "base_uri": "https://localhost:8080/"
        },
        "id": "bqN80aVOsx57",
        "outputId": "c913b624-773b-4802-9d11-889f390d2697"
      },
      "execution_count": 42,
      "outputs": [
        {
          "output_type": "stream",
          "name": "stdout",
          "text": [
            "<__main__.Element object at 0x7f082566e490>\n"
          ]
        }
      ]
    },
    {
      "cell_type": "code",
      "source": [
        "class Element:\n",
        "  def __init__(self,name,symbol,number):\n",
        "    self.name=name\n",
        "    self.symbol=symbol\n",
        "    self.number=number\n",
        "  def __str__(self):\n",
        "    return self.name+\" \"+self.symbol+\" \"+str(self.number)"
      ],
      "metadata": {
        "id": "voNrWMMps8Z_"
      },
      "execution_count": 73,
      "outputs": []
    },
    {
      "cell_type": "code",
      "source": [
        "hydrogen=Element(d[\"name\"],d[\"symbol\"],d[\"number\"])\n"
      ],
      "metadata": {
        "id": "Q_EgfU3etCQl"
      },
      "execution_count": 74,
      "outputs": []
    },
    {
      "cell_type": "code",
      "source": [
        "print(hydrogen)"
      ],
      "metadata": {
        "colab": {
          "base_uri": "https://localhost:8080/"
        },
        "id": "pR_T_xrAs_T7",
        "outputId": "87dcdc2f-4e6d-45cc-e4fb-e67fbadd5eb0"
      },
      "execution_count": 75,
      "outputs": [
        {
          "output_type": "stream",
          "name": "stdout",
          "text": [
            "Hydrogen H 1\n"
          ]
        }
      ]
    },
    {
      "cell_type": "markdown",
      "source": [
        "08 .Modify Element to make the attributes name, symbol, and number private. Define a getter\n",
        "property for each to return its value."
      ],
      "metadata": {
        "id": "gmtd-CcluGfk"
      }
    },
    {
      "cell_type": "code",
      "source": [
        "class Element:\n",
        "  def __init__(self,name,symbol,number):\n",
        "    self.__name=name\n",
        "    self.__symbol=symbol\n",
        "    self.__number=number\n",
        "  def getValues(self):\n",
        "    return self.__name+\" \"+self.__symbol+\" \"+str(self.__number)"
      ],
      "metadata": {
        "id": "LfW16L6gtBmN"
      },
      "execution_count": 79,
      "outputs": []
    },
    {
      "cell_type": "code",
      "source": [
        "a=Element(d[\"name\"],d[\"symbol\"],d[\"number\"])\n",
        "a.getValues()"
      ],
      "metadata": {
        "colab": {
          "base_uri": "https://localhost:8080/",
          "height": 35
        },
        "id": "ePLwFRl_uQNz",
        "outputId": "17bdd63e-261b-4d5e-b46e-a3568f28e9ff"
      },
      "execution_count": 81,
      "outputs": [
        {
          "output_type": "execute_result",
          "data": {
            "text/plain": [
              "'Hydrogen H 1'"
            ],
            "application/vnd.google.colaboratory.intrinsic+json": {
              "type": "string"
            }
          },
          "metadata": {},
          "execution_count": 81
        }
      ]
    },
    {
      "cell_type": "markdown",
      "source": [
        "09 .Define three classes: Bear, Rabbit, and Octothorpe. For each, define only one method: eats(). This\n",
        "should return &#39;berries&#39; (Bear), &#39;clover&#39; (Rabbit), or &#39;campers&#39; (Octothorpe). Create one object from\n",
        "each and print what it eats."
      ],
      "metadata": {
        "id": "Qp6RbLnKuukI"
      }
    },
    {
      "cell_type": "code",
      "source": [
        "class Bear:\n",
        "  def __init__(self):\n",
        "    pass\n",
        "  def eats(self):\n",
        "    return \"berries\""
      ],
      "metadata": {
        "id": "FAp32hZYuXdq"
      },
      "execution_count": 86,
      "outputs": []
    },
    {
      "cell_type": "code",
      "source": [
        "class Rabbit:\n",
        "  def __init__(self):\n",
        "    pass\n",
        "  def eats(self):\n",
        "    return \"clover\""
      ],
      "metadata": {
        "id": "NygLcw_yu63F"
      },
      "execution_count": 88,
      "outputs": []
    },
    {
      "cell_type": "code",
      "source": [
        "class Octothorpe:\n",
        "  def __init__(self):\n",
        "    pass\n",
        "  def eats(self):\n",
        "    return \"campers\""
      ],
      "metadata": {
        "id": "CsfYoxBYu_2Z"
      },
      "execution_count": 89,
      "outputs": []
    },
    {
      "cell_type": "code",
      "source": [
        "a=Bear()\n",
        "a.eats()"
      ],
      "metadata": {
        "colab": {
          "base_uri": "https://localhost:8080/",
          "height": 35
        },
        "id": "BE-9vqd1vEts",
        "outputId": "155a0da6-b1dc-4a1e-a859-d636ec23d699"
      },
      "execution_count": 87,
      "outputs": [
        {
          "output_type": "execute_result",
          "data": {
            "text/plain": [
              "'berries'"
            ],
            "application/vnd.google.colaboratory.intrinsic+json": {
              "type": "string"
            }
          },
          "metadata": {},
          "execution_count": 87
        }
      ]
    },
    {
      "cell_type": "code",
      "source": [
        "b=Rabbit()\n",
        "b.eats()"
      ],
      "metadata": {
        "colab": {
          "base_uri": "https://localhost:8080/",
          "height": 35
        },
        "id": "vi7Ebk-ivIEH",
        "outputId": "cff9dd9a-2a8f-44d2-b695-69a9f1625205"
      },
      "execution_count": 90,
      "outputs": [
        {
          "output_type": "execute_result",
          "data": {
            "text/plain": [
              "'clover'"
            ],
            "application/vnd.google.colaboratory.intrinsic+json": {
              "type": "string"
            }
          },
          "metadata": {},
          "execution_count": 90
        }
      ]
    },
    {
      "cell_type": "code",
      "source": [
        "c=Octothorpe()\n",
        "c.eats()"
      ],
      "metadata": {
        "colab": {
          "base_uri": "https://localhost:8080/",
          "height": 35
        },
        "id": "3mvCXlKnvgnZ",
        "outputId": "c7e41b22-8407-4ca2-e830-a0b87427b268"
      },
      "execution_count": 91,
      "outputs": [
        {
          "output_type": "execute_result",
          "data": {
            "text/plain": [
              "'campers'"
            ],
            "application/vnd.google.colaboratory.intrinsic+json": {
              "type": "string"
            }
          },
          "metadata": {},
          "execution_count": 91
        }
      ]
    },
    {
      "cell_type": "markdown",
      "source": [
        "10 .Define these classes: Laser, Claw, and SmartPhone. Each has only one method: does(). This\n",
        "returns &#39;disintegrate&#39; (Laser), &#39;crush&#39; (Claw), or &#39;ring&#39; (SmartPhone). Then, define the class Robot that\n",
        "has one instance (object) of each of these. Define a does() method for the Robot that prints what its\n",
        "component objects do."
      ],
      "metadata": {
        "id": "4iMaJrhSvlj_"
      }
    },
    {
      "cell_type": "code",
      "source": [
        "class Laser:\n",
        "  def does(self):\n",
        "    return \"disintegrate\""
      ],
      "metadata": {
        "id": "489JPt9Jvknx"
      },
      "execution_count": 92,
      "outputs": []
    },
    {
      "cell_type": "code",
      "source": [
        "class Claw:\n",
        "  def does(self):\n",
        "    return \"crush\""
      ],
      "metadata": {
        "id": "K6xJVJvmv_MG"
      },
      "execution_count": 93,
      "outputs": []
    },
    {
      "cell_type": "code",
      "source": [
        "class SmartPhone:\n",
        "  def does(self):\n",
        "    return \"ring\""
      ],
      "metadata": {
        "id": "F_v6wuPywCPa"
      },
      "execution_count": 94,
      "outputs": []
    },
    {
      "cell_type": "code",
      "source": [
        "class Robot:\n",
        "  def __init__(self):\n",
        "    self.laser=Laser()\n",
        "    self.claw=Claw()\n",
        "    self.smartphone=SmartPhone()\n",
        "  def does(self):\n",
        "    print(self.laser.does(),self.claw.does(),self.smartphone.does(),sep=\"\\n\")"
      ],
      "metadata": {
        "id": "9VAwLkMMwFer"
      },
      "execution_count": 97,
      "outputs": []
    },
    {
      "cell_type": "code",
      "source": [
        "r=Robot()\n",
        "r.does()"
      ],
      "metadata": {
        "colab": {
          "base_uri": "https://localhost:8080/"
        },
        "id": "lCFXvCCmwpuN",
        "outputId": "694ae8d0-8309-40ec-a523-050f15a8a379"
      },
      "execution_count": 98,
      "outputs": [
        {
          "output_type": "stream",
          "name": "stdout",
          "text": [
            "disintegrate\n",
            "crush\n",
            "ring\n"
          ]
        }
      ]
    },
    {
      "cell_type": "code",
      "source": [],
      "metadata": {
        "id": "8ajMQHdowt99"
      },
      "execution_count": null,
      "outputs": []
    }
  ]
}