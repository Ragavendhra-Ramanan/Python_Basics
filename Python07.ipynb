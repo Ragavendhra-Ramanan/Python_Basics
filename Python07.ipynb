{
  "nbformat": 4,
  "nbformat_minor": 0,
  "metadata": {
    "colab": {
      "provenance": [],
      "authorship_tag": "ABX9TyODyy78gAiLBJjTMQVDD5dI",
      "include_colab_link": true
    },
    "kernelspec": {
      "name": "python3",
      "display_name": "Python 3"
    },
    "language_info": {
      "name": "python"
    }
  },
  "cells": [
    {
      "cell_type": "markdown",
      "metadata": {
        "id": "view-in-github",
        "colab_type": "text"
      },
      "source": [
        "<a href=\"https://colab.research.google.com/github/Ragavendhra-Ramanan/Python_Basics/blob/main/Python07.ipynb\" target=\"_parent\"><img src=\"https://colab.research.google.com/assets/colab-badge.svg\" alt=\"Open In Colab\"/></a>"
      ]
    },
    {
      "cell_type": "markdown",
      "source": [
        "01 . What is the name of the feature responsible for generating Regex objects?"
      ],
      "metadata": {
        "id": "mFJAbdmQhtbf"
      }
    },
    {
      "cell_type": "markdown",
      "source": [
        "**Solution**\n",
        "* re module in python"
      ],
      "metadata": {
        "id": "UDEx5bpxh_1b"
      }
    },
    {
      "cell_type": "code",
      "execution_count": null,
      "metadata": {
        "colab": {
          "base_uri": "https://localhost:8080/",
          "height": 183
        },
        "id": "hoOc6_IThbqT",
        "outputId": "4dd424cc-6fd1-459c-fab8-05f072e28b1f"
      },
      "outputs": [
        {
          "output_type": "error",
          "ename": "TypeError",
          "evalue": "ignored",
          "traceback": [
            "\u001b[0;31m---------------------------------------------------------------------------\u001b[0m",
            "\u001b[0;31mTypeError\u001b[0m                                 Traceback (most recent call last)",
            "\u001b[0;32m<ipython-input-18-1f0e19c2b01a>\u001b[0m in \u001b[0;36m<module>\u001b[0;34m\u001b[0m\n\u001b[1;32m      1\u001b[0m \u001b[0;32mimport\u001b[0m \u001b[0mre\u001b[0m\u001b[0;34m\u001b[0m\u001b[0;34m\u001b[0m\u001b[0m\n\u001b[0;32m----> 2\u001b[0;31m \u001b[0mre\u001b[0m\u001b[0;34m.\u001b[0m\u001b[0mcompile\u001b[0m\u001b[0;34m(\u001b[0m\u001b[0;34m)\u001b[0m\u001b[0;34m\u001b[0m\u001b[0;34m\u001b[0m\u001b[0m\n\u001b[0m",
            "\u001b[0;31mTypeError\u001b[0m: compile() missing 1 required positional argument: 'pattern'"
          ]
        }
      ],
      "source": [
        "import re\n",
        "re.compile()"
      ]
    },
    {
      "cell_type": "markdown",
      "source": [
        "02 . Why do raw strings often appear in Regex objects?"
      ],
      "metadata": {
        "id": "_O36jsuXiEIM"
      }
    },
    {
      "cell_type": "markdown",
      "source": [
        "**Solution** :\n",
        "* Backslashes do not have to be escaped"
      ],
      "metadata": {
        "id": "k0JDbk8JiHhh"
      }
    },
    {
      "cell_type": "markdown",
      "source": [
        "03 . What is the return value of the search() method?"
      ],
      "metadata": {
        "id": "rKD1hMheit0u"
      }
    },
    {
      "cell_type": "code",
      "source": [
        "ans=\"find me\"\n",
        "re.search(\"m\",ans)\n"
      ],
      "metadata": {
        "colab": {
          "base_uri": "https://localhost:8080/"
        },
        "id": "Ofe65L2UiDuY",
        "outputId": "88b97261-a15a-4c2d-da78-9fc3b44d5d87"
      },
      "execution_count": null,
      "outputs": [
        {
          "output_type": "execute_result",
          "data": {
            "text/plain": [
              "<re.Match object; span=(5, 6), match='m'>"
            ]
          },
          "metadata": {},
          "execution_count": 4
        }
      ]
    },
    {
      "cell_type": "markdown",
      "source": [
        "* Returns a match object "
      ],
      "metadata": {
        "id": "AfYvLHbzjFdd"
      }
    },
    {
      "cell_type": "markdown",
      "source": [
        "04 . From a Match item, how do you get the actual strings that match the pattern?"
      ],
      "metadata": {
        "id": "jZd7EDKfjShG"
      }
    },
    {
      "cell_type": "code",
      "source": [
        "ans=\"find  memorable\"\n",
        "res=re.search(r\"\\bm\\w+\",ans)\n",
        "res.group()"
      ],
      "metadata": {
        "colab": {
          "base_uri": "https://localhost:8080/",
          "height": 35
        },
        "id": "byQjrIHui79H",
        "outputId": "176500af-09fd-4a23-8f1e-57bc4a635c36"
      },
      "execution_count": null,
      "outputs": [
        {
          "output_type": "execute_result",
          "data": {
            "text/plain": [
              "'memorable'"
            ],
            "application/vnd.google.colaboratory.intrinsic+json": {
              "type": "string"
            }
          },
          "metadata": {},
          "execution_count": 8
        }
      ]
    },
    {
      "cell_type": "markdown",
      "source": [
        "* res.group() = matchable pattern\n",
        "* res.string = original string\n",
        "* res.span() = start and end index"
      ],
      "metadata": {
        "id": "YVVd9M57j8SC"
      }
    },
    {
      "cell_type": "markdown",
      "source": [
        "05 .In the regex which created from the r&#39;(\\d\\d\\d)-(\\d\\d\\d-\\d\\d\\d\\d)&#39;, what does group zero cover?\n",
        "Group 2? Group 1?"
      ],
      "metadata": {
        "id": "HXbpuqZCkJDR"
      }
    },
    {
      "cell_type": "code",
      "source": [
        "a= re.compile(r'(\\d\\d\\d)-(\\d\\d\\d-\\d\\d\\d\\d)')"
      ],
      "metadata": {
        "id": "mJxKeHWLl6vd"
      },
      "execution_count": null,
      "outputs": []
    },
    {
      "cell_type": "code",
      "source": [
        "a"
      ],
      "metadata": {
        "colab": {
          "base_uri": "https://localhost:8080/"
        },
        "id": "Ub8tuEIBjhYG",
        "outputId": "f8e53b19-b0fa-4f02-91c7-5a1b98aec79b"
      },
      "execution_count": null,
      "outputs": [
        {
          "output_type": "execute_result",
          "data": {
            "text/plain": [
              "re.compile(r'(\\d\\d\\d)-(\\d\\d\\d-\\d\\d\\d\\d)', re.UNICODE)"
            ]
          },
          "metadata": {},
          "execution_count": 17
        }
      ]
    },
    {
      "cell_type": "code",
      "source": [
        "res= a.search('My number is 415-555-4242.')"
      ],
      "metadata": {
        "id": "gn5vWAwlj3ZN"
      },
      "execution_count": null,
      "outputs": []
    },
    {
      "cell_type": "code",
      "source": [
        "res.group(0)"
      ],
      "metadata": {
        "colab": {
          "base_uri": "https://localhost:8080/",
          "height": 35
        },
        "id": "wXmgZGtDmIHO",
        "outputId": "01e1e260-efaa-4e77-e5af-1c118fa529a2"
      },
      "execution_count": null,
      "outputs": [
        {
          "output_type": "execute_result",
          "data": {
            "text/plain": [
              "'415-555-4242'"
            ],
            "application/vnd.google.colaboratory.intrinsic+json": {
              "type": "string"
            }
          },
          "metadata": {},
          "execution_count": 20
        }
      ]
    },
    {
      "cell_type": "code",
      "source": [
        "res.group(1)"
      ],
      "metadata": {
        "colab": {
          "base_uri": "https://localhost:8080/",
          "height": 35
        },
        "id": "tjZO_ks_mLIB",
        "outputId": "94143adf-2ab9-41ab-c8da-010b7eb6c9be"
      },
      "execution_count": null,
      "outputs": [
        {
          "output_type": "execute_result",
          "data": {
            "text/plain": [
              "'415'"
            ],
            "application/vnd.google.colaboratory.intrinsic+json": {
              "type": "string"
            }
          },
          "metadata": {},
          "execution_count": 21
        }
      ]
    },
    {
      "cell_type": "code",
      "source": [
        "res.group(2)"
      ],
      "metadata": {
        "colab": {
          "base_uri": "https://localhost:8080/",
          "height": 35
        },
        "id": "NHzv5d8PmMrP",
        "outputId": "8a0d9a64-0c7f-4a37-9f7d-ac128aad39a8"
      },
      "execution_count": null,
      "outputs": [
        {
          "output_type": "execute_result",
          "data": {
            "text/plain": [
              "'555-4242'"
            ],
            "application/vnd.google.colaboratory.intrinsic+json": {
              "type": "string"
            }
          },
          "metadata": {},
          "execution_count": 22
        }
      ]
    },
    {
      "cell_type": "markdown",
      "source": [
        "* group 0 = all matched strings\n",
        "* group 1 = matched strings first paranthesis\n",
        "* group 2= matched strings second paranthesis"
      ],
      "metadata": {
        "id": "uFnRmyoNmPkN"
      }
    },
    {
      "cell_type": "markdown",
      "source": [
        "06 .In standard expression syntax, parentheses and intervals have distinct meanings. How can you tell\n",
        "a regex that you want it to fit real parentheses and periods?"
      ],
      "metadata": {
        "id": "8iZwar6XmfJb"
      }
    },
    {
      "cell_type": "markdown",
      "source": [
        "**solution** \n",
        "* period (\\ .) and parantheis (\\ )\\can be escaped with backslashes"
      ],
      "metadata": {
        "id": "6cznk0RSm1A0"
      }
    },
    {
      "cell_type": "markdown",
      "source": [
        "07 .The findall() method returns a string list or a list of string tuples. What causes it to return one of\n",
        "the two options?"
      ],
      "metadata": {
        "id": "SkMR1W7cnAen"
      }
    },
    {
      "cell_type": "code",
      "source": [
        "string=\"12nas33\"\n",
        "regex = '\\d+'             \n",
        "#it returns list of strings as regex has no groups\n",
        "match = re.findall(regex, string) \n",
        "print(match) "
      ],
      "metadata": {
        "id": "MpmRGy94mOQr",
        "colab": {
          "base_uri": "https://localhost:8080/"
        },
        "outputId": "a14fcdc6-ea08-4691-f04f-a10e946a6152"
      },
      "execution_count": 28,
      "outputs": [
        {
          "output_type": "stream",
          "name": "stdout",
          "text": [
            "['12', '33']\n"
          ]
        }
      ]
    },
    {
      "cell_type": "code",
      "source": [
        "string=\"12-33ans 32-2\"\n",
        "regex = r'(\\d+)-(\\d)'             \n",
        "#it returns list of string tuples as regex has  groups\n",
        "match = re.findall(regex, string) \n",
        "print(match) "
      ],
      "metadata": {
        "colab": {
          "base_uri": "https://localhost:8080/"
        },
        "id": "HI7E1nmbne8J",
        "outputId": "de4215ca-253b-4137-9915-477f19284d7d"
      },
      "execution_count": 31,
      "outputs": [
        {
          "output_type": "stream",
          "name": "stdout",
          "text": [
            "[('12', '3'), ('32', '2')]\n"
          ]
        }
      ]
    },
    {
      "cell_type": "markdown",
      "source": [
        "08 .In standard expressions, what does the | character mean?"
      ],
      "metadata": {
        "id": "iFZyAoUnn569"
      }
    },
    {
      "cell_type": "code",
      "source": [
        "#either or \"|\" matches both\n",
        "string=\"12-33ans 32-2\"\n",
        "regex = \"\\d|\\w+\"             \n",
        "match = re.findall(regex, string) \n",
        "print(match) "
      ],
      "metadata": {
        "colab": {
          "base_uri": "https://localhost:8080/"
        },
        "id": "OS8HksfpnpSS",
        "outputId": "741db7f0-850d-43e7-acd4-53eb3056d5d1"
      },
      "execution_count": 32,
      "outputs": [
        {
          "output_type": "stream",
          "name": "stdout",
          "text": [
            "['1', '2', '3', '3', 'ans', '3', '2', '2']\n"
          ]
        }
      ]
    },
    {
      "cell_type": "markdown",
      "source": [
        "09 .In regular expressions, what does the character stand for?"
      ],
      "metadata": {
        "id": "0pG0YNq8ooKX"
      }
    },
    {
      "cell_type": "markdown",
      "source": [
        "* All characters in regex except those with speical meaning matches themselves."
      ],
      "metadata": {
        "id": "07z7jXv2pdTe"
      }
    },
    {
      "cell_type": "markdown",
      "source": [
        "10 .In regular expressions, what is the difference between the + and * characters?"
      ],
      "metadata": {
        "id": "V9GQdf1YpmXM"
      }
    },
    {
      "cell_type": "markdown",
      "source": [
        "* '*' matches 0 or more characters (matches empty string)\n",
        "* '+' matches 1 or more characters"
      ],
      "metadata": {
        "id": "XX_aHE3lp0za"
      }
    },
    {
      "cell_type": "markdown",
      "source": [
        "11 .What is the difference between {4} and {4,5} in regular expression?"
      ],
      "metadata": {
        "id": "yc7y1wrSqAUd"
      }
    },
    {
      "cell_type": "markdown",
      "source": [
        "* {4 }matches 4 characters \n",
        "* {4,5 } matches between 4 and 5 characters"
      ],
      "metadata": {
        "id": "o7hWnowiqK__"
      }
    },
    {
      "cell_type": "code",
      "source": [
        "ans=\"hi1256\"\n",
        "res=re.findall(\"\\d{4,5}\",ans)"
      ],
      "metadata": {
        "id": "OfGiEdOyoabB"
      },
      "execution_count": 39,
      "outputs": []
    },
    {
      "cell_type": "code",
      "source": [
        "res"
      ],
      "metadata": {
        "colab": {
          "base_uri": "https://localhost:8080/"
        },
        "id": "YgduT8Y1qkRo",
        "outputId": "82f1817d-17a2-4ccd-d429-4cce194f9e43"
      },
      "execution_count": 40,
      "outputs": [
        {
          "output_type": "execute_result",
          "data": {
            "text/plain": [
              "['1256']"
            ]
          },
          "metadata": {},
          "execution_count": 40
        }
      ]
    },
    {
      "cell_type": "markdown",
      "source": [
        "12.What do you mean by the \\d, \\w, and \\s shorthand character classes signify in regular\n",
        "expressions?"
      ],
      "metadata": {
        "id": "0sclkTCpqyz5"
      }
    },
    {
      "cell_type": "markdown",
      "source": [
        "* \\d - digits\n",
        "* \\w -word\n",
        "* s -all whitespace characters"
      ],
      "metadata": {
        "id": "0kYzLej1q5z5"
      }
    },
    {
      "cell_type": "markdown",
      "source": [
        "13. What do means by \\D, \\W, and \\S shorthand character classes signify in regular expressions?"
      ],
      "metadata": {
        "id": "jXlOvCFbrHlq"
      }
    },
    {
      "cell_type": "markdown",
      "source": [
        "* \\D - non-digits\n",
        "* \\W -non -words\n",
        "* \\S -non-white spaces"
      ],
      "metadata": {
        "id": "_bFnLGklrKp3"
      }
    },
    {
      "cell_type": "markdown",
      "source": [
        "14. What is the difference between .*? and .*?"
      ],
      "metadata": {
        "id": "dQ1Ghpa9rZnb"
      }
    },
    {
      "cell_type": "markdown",
      "source": [
        "* '.*' greedy match (as many match as possible)\n",
        "* '.*?' -non greedy match (few matches)"
      ],
      "metadata": {
        "id": "hMXrNmPIspzf"
      }
    },
    {
      "cell_type": "markdown",
      "source": [
        "15 .What is the syntax for matching both numbers and lowercase letters with a character class?"
      ],
      "metadata": {
        "id": "JQa1uyBetBTM"
      }
    },
    {
      "cell_type": "markdown",
      "source": [
        "* [0-9a-z]"
      ],
      "metadata": {
        "id": "H4hUwgy8tK-d"
      }
    },
    {
      "cell_type": "markdown",
      "source": [
        "16 .What is the procedure for making a normal expression in regax case insensitive?"
      ],
      "metadata": {
        "id": "iqxNNQAwtNnD"
      }
    },
    {
      "cell_type": "markdown",
      "source": [
        "* Passing re.IGNORECASE as second argument to re.compile() for matching"
      ],
      "metadata": {
        "id": "DcrTV3RIta_v"
      }
    },
    {
      "cell_type": "markdown",
      "source": [
        "17. What does the . character normally match? What does it match if re.DOTALL is passed as 2nd\n",
        "argument in re.compile()?"
      ],
      "metadata": {
        "id": "BrtcVhQWthoZ"
      }
    },
    {
      "cell_type": "markdown",
      "source": [
        "* '.' matches all characters normally except newline character\n",
        "* When re.DOTALL is passed it matches new line character too."
      ],
      "metadata": {
        "id": "DiijS6AqtqRh"
      }
    },
    {
      "cell_type": "markdown",
      "source": [
        "18. If numReg = re.compile(r&#39;\\d+&#39;), what will numRegex.sub(&#39;X&#39;, &#39;11 drummers, 10 pipers, five rings, 4\n",
        "hen&#39;) return?"
      ],
      "metadata": {
        "id": "mTNvcRGpt2vq"
      }
    },
    {
      "cell_type": "code",
      "source": [
        "numReg =re.compile(r'\\d+')\n",
        "numReg.sub('X','11 drummers,10 pipers,five rings,4 hen')"
      ],
      "metadata": {
        "colab": {
          "base_uri": "https://localhost:8080/",
          "height": 35
        },
        "id": "t4ddhaZYqlEt",
        "outputId": "74da855a-0231-4ad0-b4c6-1fb7cab0a322"
      },
      "execution_count": 41,
      "outputs": [
        {
          "output_type": "execute_result",
          "data": {
            "text/plain": [
              "'X drummers,X pipers,five rings,X hen'"
            ],
            "application/vnd.google.colaboratory.intrinsic+json": {
              "type": "string"
            }
          },
          "metadata": {},
          "execution_count": 41
        }
      ]
    },
    {
      "cell_type": "markdown",
      "source": [
        "19.What does passing re.VERBOSE as the 2nd argument to re.compile() allow to do?"
      ],
      "metadata": {
        "id": "Btw_5PwKuYjh"
      }
    },
    {
      "cell_type": "markdown",
      "source": [
        "* re.VERBOSE allows to add comments to regex being passed to look nicer and readable"
      ],
      "metadata": {
        "id": "tN2iGAUIu1rj"
      }
    },
    {
      "cell_type": "markdown",
      "source": [
        "20. How would you write a regex that match a number with comma for every three digits? It must\n",
        "match the given following:\n",
        "&#39;42&#39;\n",
        "&#39;1,234&#39;\n",
        "&#39;6,368,745&#39;\n",
        "\n",
        "but not the following:\n",
        "&#39;12,34,567&#39; (which has only two digits between the commas)\n",
        "&#39;1234&#39; (which lacks commas)"
      ],
      "metadata": {
        "id": "yyv7uoIBvCrg"
      }
    },
    {
      "cell_type": "code",
      "source": [
        "a=re.compile(r'^(\\d{1,3}(,\\d{3})*)$')\n",
        "a.findall(\"1,234\")"
      ],
      "metadata": {
        "colab": {
          "base_uri": "https://localhost:8080/"
        },
        "id": "9LMwiV9ruNtu",
        "outputId": "03b17e6d-f125-4d69-b170-ad3950e10b8b"
      },
      "execution_count": 64,
      "outputs": [
        {
          "output_type": "execute_result",
          "data": {
            "text/plain": [
              "[('1,234', ',234')]"
            ]
          },
          "metadata": {},
          "execution_count": 64
        }
      ]
    },
    {
      "cell_type": "code",
      "source": [
        "a.findall('12,34,567')"
      ],
      "metadata": {
        "colab": {
          "base_uri": "https://localhost:8080/"
        },
        "id": "usZ0nj4BvbcE",
        "outputId": "a41082bc-1b03-4877-912b-5e33c9698e4f"
      },
      "execution_count": 65,
      "outputs": [
        {
          "output_type": "execute_result",
          "data": {
            "text/plain": [
              "[]"
            ]
          },
          "metadata": {},
          "execution_count": 65
        }
      ]
    },
    {
      "cell_type": "code",
      "source": [
        "a.findall('6,334,567')"
      ],
      "metadata": {
        "colab": {
          "base_uri": "https://localhost:8080/"
        },
        "id": "4g_Gylgjv7Tw",
        "outputId": "2a41a6f9-de50-4ae8-d827-b8d2200be762"
      },
      "execution_count": 66,
      "outputs": [
        {
          "output_type": "execute_result",
          "data": {
            "text/plain": [
              "[('6,334,567', ',567')]"
            ]
          },
          "metadata": {},
          "execution_count": 66
        }
      ]
    },
    {
      "cell_type": "code",
      "source": [
        "a.findall('42')"
      ],
      "metadata": {
        "colab": {
          "base_uri": "https://localhost:8080/"
        },
        "id": "lnvEzhGTwdhx",
        "outputId": "217de0a8-d7b7-41c9-e199-72c4b6a99549"
      },
      "execution_count": 67,
      "outputs": [
        {
          "output_type": "execute_result",
          "data": {
            "text/plain": [
              "[('42', '')]"
            ]
          },
          "metadata": {},
          "execution_count": 67
        }
      ]
    },
    {
      "cell_type": "markdown",
      "source": [
        "21. How would you write a regex that matches the full name of someone whose last name is\n",
        "Watanabe? You can assume that the first name that comes before it will always be one word that\n",
        "begins with a capital letter. The regex must match the following:\n",
        "&#39;Haruto Watanabe&#39;\n",
        "&#39;Alice Watanabe&#39;\n",
        "&#39;RoboCop Watanabe&#39;\n",
        "but not the following:\n",
        "&#39;haruto Watanabe&#39; (where the first name is not capitalized)\n",
        "&#39;Mr. Watanabe&#39; (where the preceding word has a nonletter character)\n",
        "&#39;Watanabe&#39; (which has no first name)\n",
        "&#39;Haruto watanabe&#39; (where Watanabe is not capitalized) ."
      ],
      "metadata": {
        "id": "l2jhwXYTxv8U"
      }
    },
    {
      "cell_type": "code",
      "source": [
        "ans=re.compile(r\"^[A-Z][a-z]*\\sWatanabe$\")"
      ],
      "metadata": {
        "id": "8v00rso1xhKe"
      },
      "execution_count": 77,
      "outputs": []
    },
    {
      "cell_type": "code",
      "source": [
        "ans.findall(\"Haruto Watanabe\")"
      ],
      "metadata": {
        "colab": {
          "base_uri": "https://localhost:8080/"
        },
        "id": "ngvAFd1rybfl",
        "outputId": "4990af63-2dba-45a5-b65b-47e539c56cfe"
      },
      "execution_count": 78,
      "outputs": [
        {
          "output_type": "execute_result",
          "data": {
            "text/plain": [
              "['Haruto Watanabe']"
            ]
          },
          "metadata": {},
          "execution_count": 78
        }
      ]
    },
    {
      "cell_type": "code",
      "source": [
        "ans.findall(\"Mr. Watanabe\")"
      ],
      "metadata": {
        "colab": {
          "base_uri": "https://localhost:8080/"
        },
        "id": "C_1W_l0uyoVY",
        "outputId": "d9d28575-aa11-4557-ad6c-ba2dcf52f72b"
      },
      "execution_count": 79,
      "outputs": [
        {
          "output_type": "execute_result",
          "data": {
            "text/plain": [
              "[]"
            ]
          },
          "metadata": {},
          "execution_count": 79
        }
      ]
    },
    {
      "cell_type": "code",
      "source": [
        "ans.findall(\"haruto Watanabe\")"
      ],
      "metadata": {
        "colab": {
          "base_uri": "https://localhost:8080/"
        },
        "id": "7foH_ivyy23G",
        "outputId": "ecc7319d-ed2d-4b89-90ca-fca13a31ec90"
      },
      "execution_count": 80,
      "outputs": [
        {
          "output_type": "execute_result",
          "data": {
            "text/plain": [
              "[]"
            ]
          },
          "metadata": {},
          "execution_count": 80
        }
      ]
    },
    {
      "cell_type": "markdown",
      "source": [
        "22. How would you write a regex that matches a sentence where the first word is either Alice, Bob,\n",
        "or Carol; the second word is either eats, pets, or throws; the third word is apples, cats, or baseballs;\n",
        "and the sentence ends with a period? This regex should be case-insensitive. It must match the\n",
        "following:\n",
        "&#39;Alice eats apples.&#39;\n",
        "&#39;Bob pets cats.&#39;\n",
        "&#39;Carol throws baseballs.&#39;\n",
        "&#39;Alice throws Apples.&#39;\n",
        "&#39;BOB EATS CATS.&#39;\n",
        "but not the following:\n",
        "&#39;RoboCop eats apples.&#39;\n",
        "&#39;ALICE THROWS FOOTBALLS.&#39;\n",
        "&#39;Carol eats 7 cats.&#39;"
      ],
      "metadata": {
        "id": "SLqeukG8y6g8"
      }
    },
    {
      "cell_type": "code",
      "source": [
        "ans=re.compile(r\"^(Alice|Bob|Carol)\\s(eats|pets|throws)\\s(apples|cats|baseballs)$\",re.IGNORECASE)"
      ],
      "metadata": {
        "id": "YmjAYn3uy9Wx"
      },
      "execution_count": 83,
      "outputs": []
    },
    {
      "cell_type": "code",
      "source": [
        "ans.findall(\"Carol throws baseballs\")"
      ],
      "metadata": {
        "colab": {
          "base_uri": "https://localhost:8080/"
        },
        "id": "zXOqhEv-zdP1",
        "outputId": "91defe1a-6a83-464f-d690-087febb84c2b"
      },
      "execution_count": 84,
      "outputs": [
        {
          "output_type": "execute_result",
          "data": {
            "text/plain": [
              "[('Carol', 'throws', 'baseballs')]"
            ]
          },
          "metadata": {},
          "execution_count": 84
        }
      ]
    },
    {
      "cell_type": "code",
      "source": [
        "ans.findall(\"ALICE THROWS FOOTBALLS\")"
      ],
      "metadata": {
        "colab": {
          "base_uri": "https://localhost:8080/"
        },
        "id": "EO6oD7nDziKQ",
        "outputId": "fd7cef2d-9dd4-4268-dac4-cd2c512eb436"
      },
      "execution_count": 86,
      "outputs": [
        {
          "output_type": "execute_result",
          "data": {
            "text/plain": [
              "[]"
            ]
          },
          "metadata": {},
          "execution_count": 86
        }
      ]
    },
    {
      "cell_type": "code",
      "source": [],
      "metadata": {
        "id": "5BYZsKJGz0lh"
      },
      "execution_count": null,
      "outputs": []
    }
  ]
}