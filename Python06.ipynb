{
  "nbformat": 4,
  "nbformat_minor": 0,
  "metadata": {
    "colab": {
      "provenance": [],
      "authorship_tag": "ABX9TyO0ExIeXjAWdUsRRc2+YreH",
      "include_colab_link": true
    },
    "kernelspec": {
      "name": "python3",
      "display_name": "Python 3"
    },
    "language_info": {
      "name": "python"
    }
  },
  "cells": [
    {
      "cell_type": "markdown",
      "metadata": {
        "id": "view-in-github",
        "colab_type": "text"
      },
      "source": [
        "<a href=\"https://colab.research.google.com/github/Ragavendhra-Ramanan/Python_Basics/blob/main/Python06.ipynb\" target=\"_parent\"><img src=\"https://colab.research.google.com/assets/colab-badge.svg\" alt=\"Open In Colab\"/></a>"
      ]
    },
    {
      "cell_type": "markdown",
      "source": [
        "01 . What are escape characters, and how do you use them?"
      ],
      "metadata": {
        "id": "OhU1duVhurU9"
      }
    },
    {
      "cell_type": "markdown",
      "source": [
        "**Solution**\n",
        "* Escape characters are used to insert characters that are illelgal in string.\n",
        "* backslash followed by character to use."
      ],
      "metadata": {
        "id": "3s4LkYCPvIjl"
      }
    },
    {
      "cell_type": "code",
      "execution_count": 2,
      "metadata": {
        "colab": {
          "base_uri": "https://localhost:8080/",
          "height": 35
        },
        "id": "WI12tqh1t3HC",
        "outputId": "70e2af5d-03c1-466b-f3d6-f17206291e65"
      },
      "outputs": [
        {
          "output_type": "execute_result",
          "data": {
            "text/plain": [
              "'hai i am \"eating\" '"
            ],
            "application/vnd.google.colaboratory.intrinsic+json": {
              "type": "string"
            }
          },
          "metadata": {},
          "execution_count": 2
        }
      ],
      "source": [
        "\"hai i am \\\"eating\\\" \""
      ]
    },
    {
      "cell_type": "markdown",
      "source": [
        "02 . What do the escape characters n and t stand for?"
      ],
      "metadata": {
        "id": "QnPVdTobv1qx"
      }
    },
    {
      "cell_type": "code",
      "source": [
        "# n for new line\n",
        "print(\"hi\",\"bye\",sep=\"\\n\")"
      ],
      "metadata": {
        "colab": {
          "base_uri": "https://localhost:8080/"
        },
        "id": "ge3R8rjtvyya",
        "outputId": "1aa7c01c-d519-4a77-cbeb-c613fd3206ae"
      },
      "execution_count": 3,
      "outputs": [
        {
          "output_type": "stream",
          "name": "stdout",
          "text": [
            "hi\n",
            "bye\n"
          ]
        }
      ]
    },
    {
      "cell_type": "code",
      "source": [
        "#t for tab space\n",
        "print(\"hi\",\"bye\",sep=\"\\t\")"
      ],
      "metadata": {
        "colab": {
          "base_uri": "https://localhost:8080/"
        },
        "id": "hAphfraPwMLH",
        "outputId": "c2c90827-cb4a-4c37-cc6d-855b68419b40"
      },
      "execution_count": 4,
      "outputs": [
        {
          "output_type": "stream",
          "name": "stdout",
          "text": [
            "hi\tbye\n"
          ]
        }
      ]
    },
    {
      "cell_type": "markdown",
      "source": [
        "03 . What is the way to include backslash characters in a string?"
      ],
      "metadata": {
        "id": "ZexvphFpwUGm"
      }
    },
    {
      "cell_type": "code",
      "source": [
        "raw_text = r\"abc\\123\""
      ],
      "metadata": {
        "id": "4GUieiuHwsQz"
      },
      "execution_count": 22,
      "outputs": []
    },
    {
      "cell_type": "code",
      "source": [
        "raw_text"
      ],
      "metadata": {
        "colab": {
          "base_uri": "https://localhost:8080/",
          "height": 35
        },
        "id": "WcQ0JfOcwsiT",
        "outputId": "df5a3f63-0cb9-4c0a-ff9f-a2f45afecd9a"
      },
      "execution_count": 23,
      "outputs": [
        {
          "output_type": "execute_result",
          "data": {
            "text/plain": [
              "'abc\\\\123'"
            ],
            "application/vnd.google.colaboratory.intrinsic+json": {
              "type": "string"
            }
          },
          "metadata": {},
          "execution_count": 23
        }
      ]
    },
    {
      "cell_type": "markdown",
      "source": [
        "* Raw string takes backlash as literal characters."
      ],
      "metadata": {
        "id": "CbZrw3ZWyDX_"
      }
    },
    {
      "cell_type": "markdown",
      "source": [
        "04 .The string &quot;Howl&#39;s Moving Castle&quot; is a correct value. Why isn&#39;t the single quote character in the\n",
        "word Howl&#39;s not escaped a problem?"
      ],
      "metadata": {
        "id": "RKSqZFDSx8eo"
      }
    },
    {
      "cell_type": "code",
      "source": [
        "a=\"Howl's Moving Castle\""
      ],
      "metadata": {
        "id": "zb9SRLU1xzd2"
      },
      "execution_count": 24,
      "outputs": []
    },
    {
      "cell_type": "code",
      "source": [
        "a"
      ],
      "metadata": {
        "colab": {
          "base_uri": "https://localhost:8080/",
          "height": 35
        },
        "id": "80w8nT8cyU_-",
        "outputId": "4f755d70-c163-431a-f151-34be2833d129"
      },
      "execution_count": 25,
      "outputs": [
        {
          "output_type": "execute_result",
          "data": {
            "text/plain": [
              "\"Howl's Moving Castle\""
            ],
            "application/vnd.google.colaboratory.intrinsic+json": {
              "type": "string"
            }
          },
          "metadata": {},
          "execution_count": 25
        }
      ]
    },
    {
      "cell_type": "markdown",
      "source": [
        "* Single quote in Howl's is fine because we have used double quotes to mark the end and beginning"
      ],
      "metadata": {
        "id": "CZE6uZgayknk"
      }
    },
    {
      "cell_type": "markdown",
      "source": [
        "05 . How do you write a string of newlines if you don&#39;t want to use the n character?"
      ],
      "metadata": {
        "id": "cxMjgdWhysjM"
      }
    },
    {
      "cell_type": "code",
      "source": [
        "import os\n",
        "ans = 'hi'+ os.linesep + 'morning'\n",
        "print(ans)\n"
      ],
      "metadata": {
        "colab": {
          "base_uri": "https://localhost:8080/"
        },
        "id": "5aN8tdNDyVSJ",
        "outputId": "8a109cec-3673-4543-b3c1-ca4247a1511c"
      },
      "execution_count": 29,
      "outputs": [
        {
          "output_type": "stream",
          "name": "stdout",
          "text": [
            "hi\n",
            "morning\n"
          ]
        }
      ]
    },
    {
      "cell_type": "markdown",
      "source": [
        "06 .What are the values of the given expressions?\n",
        "&#39;Hello, world!&#39;[1]\n",
        "&#39;Hello, world!&#39;[0:5]\n",
        "&#39;Hello, world!&#39;[:5]\n",
        "&#39;Hello, world!&#39;[3:]"
      ],
      "metadata": {
        "id": "WKWgn_DA0BOb"
      }
    },
    {
      "cell_type": "code",
      "source": [
        "\"Hello,world!\"[1]"
      ],
      "metadata": {
        "colab": {
          "base_uri": "https://localhost:8080/",
          "height": 35
        },
        "id": "dHarLF43zJnv",
        "outputId": "8b099248-7809-4455-ac7d-02f145928ad2"
      },
      "execution_count": 30,
      "outputs": [
        {
          "output_type": "execute_result",
          "data": {
            "text/plain": [
              "'e'"
            ],
            "application/vnd.google.colaboratory.intrinsic+json": {
              "type": "string"
            }
          },
          "metadata": {},
          "execution_count": 30
        }
      ]
    },
    {
      "cell_type": "code",
      "source": [
        "\"Hello,world!\"[0:5]"
      ],
      "metadata": {
        "colab": {
          "base_uri": "https://localhost:8080/",
          "height": 35
        },
        "id": "Ub2VWbkg0S7-",
        "outputId": "5ec9294b-ad9c-4935-a9b3-81dfe56535c8"
      },
      "execution_count": 31,
      "outputs": [
        {
          "output_type": "execute_result",
          "data": {
            "text/plain": [
              "'Hello'"
            ],
            "application/vnd.google.colaboratory.intrinsic+json": {
              "type": "string"
            }
          },
          "metadata": {},
          "execution_count": 31
        }
      ]
    },
    {
      "cell_type": "code",
      "source": [
        "\"Hello,world!\"[:5]"
      ],
      "metadata": {
        "colab": {
          "base_uri": "https://localhost:8080/",
          "height": 35
        },
        "id": "Idy5B-ym0WrM",
        "outputId": "d2006e99-8b92-43c1-ec9d-315f90e5d9c8"
      },
      "execution_count": 32,
      "outputs": [
        {
          "output_type": "execute_result",
          "data": {
            "text/plain": [
              "'Hello'"
            ],
            "application/vnd.google.colaboratory.intrinsic+json": {
              "type": "string"
            }
          },
          "metadata": {},
          "execution_count": 32
        }
      ]
    },
    {
      "cell_type": "code",
      "source": [
        "\"Hello,world!\"[3:]"
      ],
      "metadata": {
        "colab": {
          "base_uri": "https://localhost:8080/",
          "height": 35
        },
        "id": "c8lcepwB0YDF",
        "outputId": "64ad1d3a-8294-4dfb-935a-c9551080d430"
      },
      "execution_count": 34,
      "outputs": [
        {
          "output_type": "execute_result",
          "data": {
            "text/plain": [
              "'lo,world!'"
            ],
            "application/vnd.google.colaboratory.intrinsic+json": {
              "type": "string"
            }
          },
          "metadata": {},
          "execution_count": 34
        }
      ]
    },
    {
      "cell_type": "markdown",
      "source": [
        "07 . 7. What are the values of the following expressions?\n",
        "&#39;Hello&#39;.upper()\n",
        "&#39;Hello&#39;.upper().isupper()\n",
        "&#39;Hello&#39;.upper().lower()"
      ],
      "metadata": {
        "id": "P5KGMeRH0dX3"
      }
    },
    {
      "cell_type": "code",
      "source": [
        "'Hello'.upper()"
      ],
      "metadata": {
        "colab": {
          "base_uri": "https://localhost:8080/",
          "height": 35
        },
        "id": "B4VEalxK0Z6_",
        "outputId": "e098ad59-dd4b-42d0-ef2b-882dff6f9a35"
      },
      "execution_count": 35,
      "outputs": [
        {
          "output_type": "execute_result",
          "data": {
            "text/plain": [
              "'HELLO'"
            ],
            "application/vnd.google.colaboratory.intrinsic+json": {
              "type": "string"
            }
          },
          "metadata": {},
          "execution_count": 35
        }
      ]
    },
    {
      "cell_type": "code",
      "source": [
        "'Hello'.upper().isupper()"
      ],
      "metadata": {
        "colab": {
          "base_uri": "https://localhost:8080/"
        },
        "id": "L1ACcMYK0gxX",
        "outputId": "b391462e-c399-48e7-c2a4-3836e3155d33"
      },
      "execution_count": 36,
      "outputs": [
        {
          "output_type": "execute_result",
          "data": {
            "text/plain": [
              "True"
            ]
          },
          "metadata": {},
          "execution_count": 36
        }
      ]
    },
    {
      "cell_type": "code",
      "source": [
        "'Hello'.upper().lower()"
      ],
      "metadata": {
        "colab": {
          "base_uri": "https://localhost:8080/",
          "height": 35
        },
        "id": "IOGQruiG0jTK",
        "outputId": "88617756-604c-43b3-eb75-48df1d2c8ce9"
      },
      "execution_count": 37,
      "outputs": [
        {
          "output_type": "execute_result",
          "data": {
            "text/plain": [
              "'hello'"
            ],
            "application/vnd.google.colaboratory.intrinsic+json": {
              "type": "string"
            }
          },
          "metadata": {},
          "execution_count": 37
        }
      ]
    },
    {
      "cell_type": "markdown",
      "source": [
        "8. What are the values of the following expressions?\n",
        "&#39;Remember, remember, the fifth of July.&#39;.split()\n",
        "&#39;-&#39;.join(&#39;There can only one.&#39;.split())"
      ],
      "metadata": {
        "id": "0gs3C0Vv0mtS"
      }
    },
    {
      "cell_type": "code",
      "source": [
        "'Remember,remember,the fifth of July'.split()"
      ],
      "metadata": {
        "colab": {
          "base_uri": "https://localhost:8080/"
        },
        "id": "81ItGOxA0kuA",
        "outputId": "6d92256a-488a-493b-ddb8-d2c778e37149"
      },
      "execution_count": 38,
      "outputs": [
        {
          "output_type": "execute_result",
          "data": {
            "text/plain": [
              "['Remember,remember,the', 'fifth', 'of', 'July']"
            ]
          },
          "metadata": {},
          "execution_count": 38
        }
      ]
    },
    {
      "cell_type": "code",
      "source": [
        "'-'.join(\"There can only one.\".split())"
      ],
      "metadata": {
        "colab": {
          "base_uri": "https://localhost:8080/",
          "height": 35
        },
        "id": "N2Von35p0zCO",
        "outputId": "6430a82c-9928-45a9-e39d-7c80e8a1430e"
      },
      "execution_count": 39,
      "outputs": [
        {
          "output_type": "execute_result",
          "data": {
            "text/plain": [
              "'There-can-only-one.'"
            ],
            "application/vnd.google.colaboratory.intrinsic+json": {
              "type": "string"
            }
          },
          "metadata": {},
          "execution_count": 39
        }
      ]
    },
    {
      "cell_type": "markdown",
      "source": [
        "09 . What are the methods for right-justifying, left-justifying, and centering a string?"
      ],
      "metadata": {
        "id": "g4HLfUWt1Afh"
      }
    },
    {
      "cell_type": "code",
      "source": [
        "ans=\"have a good day\"\n",
        "print(ans.center(20,\"*\")) #total 20 characters "
      ],
      "metadata": {
        "colab": {
          "base_uri": "https://localhost:8080/"
        },
        "id": "GVprT-ga0_IB",
        "outputId": "cd176f4c-85e7-43ca-9c48-fc30605bd155"
      },
      "execution_count": 40,
      "outputs": [
        {
          "output_type": "stream",
          "name": "stdout",
          "text": [
            "**have a good day***\n"
          ]
        }
      ]
    },
    {
      "cell_type": "code",
      "source": [
        "ans=\"have a good day\"\n",
        "print(ans.ljust(20,\"*\")) #total 20 characters \n"
      ],
      "metadata": {
        "colab": {
          "base_uri": "https://localhost:8080/"
        },
        "id": "Qx2_rLuO1Wgt",
        "outputId": "0d450ff4-9af3-4331-94d0-6ddc9b9aadb6"
      },
      "execution_count": 42,
      "outputs": [
        {
          "output_type": "stream",
          "name": "stdout",
          "text": [
            "have a good day*****\n"
          ]
        }
      ]
    },
    {
      "cell_type": "code",
      "source": [
        "ans=\"have a good day\"\n",
        "print(ans.rjust(20,\"*\")) #total 20 characters "
      ],
      "metadata": {
        "colab": {
          "base_uri": "https://localhost:8080/"
        },
        "id": "0RgsUu9N1gaE",
        "outputId": "f2636d7d-ef7d-41a4-f7dc-84cc6348ad1a"
      },
      "execution_count": 43,
      "outputs": [
        {
          "output_type": "stream",
          "name": "stdout",
          "text": [
            "*****have a good day\n"
          ]
        }
      ]
    },
    {
      "cell_type": "markdown",
      "source": [
        "10. What is the best way to remove whitespace characters from the start or end?"
      ],
      "metadata": {
        "id": "Z4-I4Rgw1mvD"
      }
    },
    {
      "cell_type": "code",
      "source": [
        "ans=\"  hi have good day  \"\n",
        "print(ans)\n",
        "a=ans.strip()\n",
        "print(a)"
      ],
      "metadata": {
        "colab": {
          "base_uri": "https://localhost:8080/"
        },
        "id": "CDgPn1WP1jJ9",
        "outputId": "b60e121f-83b2-4bb1-ff80-52f6d4ff0d54"
      },
      "execution_count": 46,
      "outputs": [
        {
          "output_type": "stream",
          "name": "stdout",
          "text": [
            "  hi have good day  \n",
            "hi have good day\n"
          ]
        }
      ]
    }
  ]
}