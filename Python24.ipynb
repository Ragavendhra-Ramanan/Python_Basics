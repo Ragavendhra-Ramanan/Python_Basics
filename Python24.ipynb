{
  "nbformat": 4,
  "nbformat_minor": 0,
  "metadata": {
    "colab": {
      "provenance": [],
      "authorship_tag": "ABX9TyPghH79IpK9pIYB9+0JeHtf",
      "include_colab_link": true
    },
    "kernelspec": {
      "name": "python3",
      "display_name": "Python 3"
    },
    "language_info": {
      "name": "python"
    }
  },
  "cells": [
    {
      "cell_type": "markdown",
      "metadata": {
        "id": "view-in-github",
        "colab_type": "text"
      },
      "source": [
        "<a href=\"https://colab.research.google.com/github/Ragavendhra-Ramanan/Python_Basics/blob/main/Python24.ipynb\" target=\"_parent\"><img src=\"https://colab.research.google.com/assets/colab-badge.svg\" alt=\"Open In Colab\"/></a>"
      ]
    },
    {
      "cell_type": "markdown",
      "source": [
        "01 .What is the relationship between def statements and lambda expressions ?"
      ],
      "metadata": {
        "id": "nZpoc9MDko7u"
      }
    },
    {
      "cell_type": "markdown",
      "source": [
        "* Limited functionality in lambda expression whereas in Def we can have any complex scenrios.\n",
        "* Computaion speed of same function is high in lambda whereas low in def"
      ],
      "metadata": {
        "id": "S_v5VSZJkwl6"
      }
    },
    {
      "cell_type": "markdown",
      "source": [
        "02 .What is the benefit of lambda?"
      ],
      "metadata": {
        "id": "VyTN30-llEJL"
      }
    },
    {
      "cell_type": "markdown",
      "source": [
        "* It is used for creating small and single used function by saving time and space."
      ],
      "metadata": {
        "id": "rYLbXcVHlT9h"
      }
    },
    {
      "cell_type": "markdown",
      "source": [
        "03 .Compare and contrast map, filter, and reduce."
      ],
      "metadata": {
        "id": "MuRtJlVTlZx7"
      }
    },
    {
      "cell_type": "markdown",
      "source": [
        "* **Map** function maps each element to another new variants using any mathematical relations.Input and output length are same.\n",
        "* **Filter** function keeps only the element which obeys particular condition.\n",
        "* **Reduce** function returns a single element by aggregating group of element .Here Input and output lengths differ"
      ],
      "metadata": {
        "id": "8edp-p1tlcDO"
      }
    },
    {
      "cell_type": "markdown",
      "source": [
        "04 .What are function annotations, and how are they used?"
      ],
      "metadata": {
        "id": "9H1tchDAl7xU"
      }
    },
    {
      "cell_type": "markdown",
      "source": [
        "* They are arbitary python expression which are attached to various parts of the function.\n",
        "* They are used to evaluate at the compile time but have no meaning in run time."
      ],
      "metadata": {
        "id": "4373PbdhmdL4"
      }
    },
    {
      "cell_type": "markdown",
      "source": [
        "05 .What are recursive functions, and how are they used?"
      ],
      "metadata": {
        "id": "gyd3Rmd1msH8"
      }
    },
    {
      "cell_type": "markdown",
      "source": [
        "* Recursive function are the ones that call themselves untill one get the desired result.\n",
        "* Recursion can be used for solving problems that are broken into smaller repetetive sub-problems."
      ],
      "metadata": {
        "id": "Fs5Gsg2sm-3l"
      }
    },
    {
      "cell_type": "markdown",
      "source": [
        "06 .What are some general design guidelines for coding functions?"
      ],
      "metadata": {
        "id": "l-VjetU4nYqK"
      }
    },
    {
      "cell_type": "markdown",
      "source": [
        "* Safe: It can be used without causing harm.\n",
        "* Secure: It can't be hacked.\n",
        "* Reliable: It functions as it should, every time.\n",
        "* Testable: It can be tested at the code level.\n",
        "* Maintainable: It can be maintained, even as your codebase grows.\n",
        "* Portable: It works the same in every environment."
      ],
      "metadata": {
        "id": "TV1CU-I-njRl"
      }
    },
    {
      "cell_type": "markdown",
      "source": [
        "07 .Name three or more ways that functions can communicate results to a caller."
      ],
      "metadata": {
        "id": "H0DvMznYnoj_"
      }
    },
    {
      "cell_type": "markdown",
      "source": [
        "* Using \"Return\" Keyword\n",
        "* Using \"yield\" Keyword\n",
        "* Using shallow copy of variables."
      ],
      "metadata": {
        "id": "Z98F7MsBn4DR"
      }
    },
    {
      "cell_type": "code",
      "execution_count": null,
      "metadata": {
        "id": "6wqM0ZKakh6u"
      },
      "outputs": [],
      "source": []
    }
  ]
}