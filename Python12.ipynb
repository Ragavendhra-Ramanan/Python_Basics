{
  "nbformat": 4,
  "nbformat_minor": 0,
  "metadata": {
    "colab": {
      "provenance": [],
      "authorship_tag": "ABX9TyPTcD1bLDesA51nduxVW8D1",
      "include_colab_link": true
    },
    "kernelspec": {
      "name": "python3",
      "display_name": "Python 3"
    },
    "language_info": {
      "name": "python"
    }
  },
  "cells": [
    {
      "cell_type": "markdown",
      "metadata": {
        "id": "view-in-github",
        "colab_type": "text"
      },
      "source": [
        "<a href=\"https://colab.research.google.com/github/Ragavendhra-Ramanan/Python_Basics/blob/main/Python12.ipynb\" target=\"_parent\"><img src=\"https://colab.research.google.com/assets/colab-badge.svg\" alt=\"Open In Colab\"/></a>"
      ]
    },
    {
      "cell_type": "markdown",
      "source": [
        "01 .In what modes should the PdfFileReader() and PdfFileWriter() File objects will be opened?"
      ],
      "metadata": {
        "id": "7LNix5Sj-0wi"
      }
    },
    {
      "cell_type": "markdown",
      "source": [
        "* PdfFileReader() should be opened with \"rb\"\n",
        "* PdfFileWriter() should be opened with \"wb\""
      ],
      "metadata": {
        "id": "mzXN-Uaq-5c5"
      }
    },
    {
      "cell_type": "markdown",
      "source": [
        "02 .From a PdfFileReader object, how do you get a Page object for page 5?"
      ],
      "metadata": {
        "id": "lDbFHlnl_QDw"
      }
    },
    {
      "cell_type": "markdown",
      "source": [
        "* pdf =PyPDF2.PdfFileReader().getPage(5)"
      ],
      "metadata": {
        "id": "6Li9Zot1_ZAc"
      }
    },
    {
      "cell_type": "markdown",
      "source": [
        "03 .What PdfFileReader variable stores the number of pages in the PDF document?"
      ],
      "metadata": {
        "id": "uVvOh8APAFPQ"
      }
    },
    {
      "cell_type": "markdown",
      "source": [
        "* numPages attribute has PdfFileReader stores the number of pages in PDF document"
      ],
      "metadata": {
        "id": "-7KZJQUBAVB6"
      }
    },
    {
      "cell_type": "markdown",
      "source": [
        "04 .If a PdfFileReader object’s PDF is encrypted with the password swordfish, what must you do\n",
        "before you can obtain Page objects from it?"
      ],
      "metadata": {
        "id": "7Cvf3uo6AwKB"
      }
    },
    {
      "cell_type": "markdown",
      "source": [
        "* file.decrypt(password)\n",
        "  "
      ],
      "metadata": {
        "id": "pTrZxeEABmph"
      }
    },
    {
      "cell_type": "markdown",
      "source": [
        "05 .What methods do you use to rotate a page?"
      ],
      "metadata": {
        "id": "R9qne8COBoF3"
      }
    },
    {
      "cell_type": "markdown",
      "source": [
        "* page.rotateClockwise(90)"
      ],
      "metadata": {
        "id": "Wr1IuAemBtA_"
      }
    },
    {
      "cell_type": "markdown",
      "source": [
        "06 .What is the difference between a Run object and a Paragraph object?"
      ],
      "metadata": {
        "id": "QTC1svmoCZ-s"
      }
    },
    {
      "cell_type": "markdown",
      "source": [
        "* Paragraph object contains multiple runs and begins on new line.\n",
        "* Run object contains continous group of character within the paragraphs"
      ],
      "metadata": {
        "id": "qxvRRwmCEogo"
      }
    },
    {
      "cell_type": "markdown",
      "source": [
        "07 .How do you obtain a list of Paragraph objects for a Document object that’s stored in a variable\n",
        "named doc?"
      ],
      "metadata": {
        "id": "WWp6guvfFEt1"
      }
    },
    {
      "cell_type": "markdown",
      "source": [
        "* doc.paragraphs"
      ],
      "metadata": {
        "id": "pjda55bwFHgN"
      }
    },
    {
      "cell_type": "markdown",
      "source": [
        "08 .What type of object has bold, underline, italic, strike, and outline variables? "
      ],
      "metadata": {
        "id": "OWiBE7C_GQBj"
      }
    },
    {
      "cell_type": "markdown",
      "source": [
        "* run objects has bold,underline,itlaic and outline variables"
      ],
      "metadata": {
        "id": "a5Vm0MCrGWVi"
      }
    },
    {
      "cell_type": "markdown",
      "source": [
        "09 .What is the difference between False, True, and None for the bold variable?"
      ],
      "metadata": {
        "id": "uAu8tOn6HBdt"
      }
    },
    {
      "cell_type": "markdown",
      "source": [
        "* True enables the bold while False diasble the bold and None sets t default value"
      ],
      "metadata": {
        "id": "Y9gzLJTIHE_J"
      }
    },
    {
      "cell_type": "markdown",
      "source": [
        "10 .How do you create a Document object for a new Word document?"
      ],
      "metadata": {
        "id": "s5P5GXtRHX1U"
      }
    },
    {
      "cell_type": "markdown",
      "source": [
        "* import docx\n",
        "* docx.Document()"
      ],
      "metadata": {
        "id": "s7ZlVr1vHjdt"
      }
    },
    {
      "cell_type": "markdown",
      "source": [
        "11 .How do you add a paragraph with the text &#39;Hello, there!&#39; to a Document object stored in a\n",
        "variable named doc? "
      ],
      "metadata": {
        "id": "tPnZw8noHmb2"
      }
    },
    {
      "cell_type": "markdown",
      "source": [
        "* doc.add_paragraph(\"Hello,there!\")"
      ],
      "metadata": {
        "id": "aoDEuMzZHrAs"
      }
    },
    {
      "cell_type": "markdown",
      "source": [
        "12 .What integers represent the levels of headings available in Word documents?"
      ],
      "metadata": {
        "id": "oJ9mOynYHxbD"
      }
    },
    {
      "cell_type": "markdown",
      "source": [
        "* Integers from 1 to 4"
      ],
      "metadata": {
        "id": "x8lvLcO6ICRg"
      }
    }
  ]
}